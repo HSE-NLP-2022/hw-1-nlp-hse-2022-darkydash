{
 "cells": [
  {
   "cell_type": "markdown",
   "metadata": {},
   "source": [
    "# Домашнее задание\n",
    "## Harry Potter and the Action Prediction Challenge from Natural Language\n",
    "\n",
    "*deadline*: 14 ноября 2022, 23:59\n",
    "\n",
    "В этом домашнем задании вы будете работать с корпусом Harry Potter and the Action Prediction Challenge. Корпус собран из фанфиков о Гарри Поттере и состоит из двух частей: 1) сырые тексты, 2) фрагменты текстов, описывающих ситуацию, в которой произнесено заклинание.\n",
    "\n",
    "Корпус описан в статье: https://arxiv.org/pdf/1905.11037.pdf\n",
    "\n",
    "David Vilares and Carlos Gómez-Rodríguez. Harry Potter and the Action Prediction Challenge from Natural Language. 2019 Annual Conference of the North American Chapter of the Association for Computational Linguistics. To appear.\n",
    "\n",
    "Код для сбора корпуса находится в репозитории: https://github.com/aghie/hpac . Корпус можно скачать по инструкции из этого репозитория, но для экономии времени авторы задания уже скачали и подготовили данные к работе. \n",
    "\n",
    "Ссылки на собранный корпус: \n",
    "* Сырые тексты:  https://www.dropbox.com/s/23xet9kvbqna1qs/hpac_raw.zip?dl=0\n",
    "* Токенизированные тексты в нижнем регистре: https://www.dropbox.com/s/gwfgmomdbetvdye/hpac_lower_tokenized.zip?dl=0\n",
    "* train-test-dev: https://www.dropbox.com/s/3vdz0mouvex8abd/hpac_splits.zip?dl=0\n",
    "\n",
    "Части 1, 2 задания должны быть выполнены на полных текстах (сырых или предобработанных -- на ваше усмотрение), Часть 3 – на разбиение на тестовое, отладочное и обучающее множества. Тестовое множество должно быть использовано исключительно для тестирования моделей, обучающее и отладочное – для выбора модели и параметров. \n",
    "\n",
    "В статье и репозитории вы найдете идеи, которые помогут вам выполнить домашнее задание. Их стоит воспринимать как руководство к действию, и не стоит их копировать и переиспользовать. Обученные модели использовать не нужно, код для их обучения можно использовать как подсказку. \n",
    "\n",
    "## ПРАВИЛА\n",
    "1. Домашнее задание выполняется в группе до 3-х человек.\n",
    "2. Домашнее задание оформляется в виде отчета либо в .pdf файле, либо ipython-тетрадке. \n",
    "3. Отчет должен содержать: нумерацию заданий и пунктов, которые вы выполнили, код решения, и понятное пошаговое описание того, что вы сделали. Отчет должен быть написан в академическом стиле, без излишнего использования сленга и с соблюдением норм русского языка.\n",
    "4. Не стоит копировать фрагменты лекций, статей и Википедии в ваш отчет.\n",
    "5. Отчеты, состоящие исключительно из кода, не будут проверены и будут автоматически оценены нулевой оценкой.\n",
    "6. Плагиат и любое недобросоветсное цитирование приводит к обнуление оценки. \n",
    "\n",
    "\n",
    "## Часть 1. [2 балла] Эксплоративный анализ \n",
    "1. Найдите топ-1000 слов по частоте без учета стоп-слов.\n",
    "2. Найдите топ-10 по частоте: имен, пар имя + фамилия, пар вида ''профессор'' + имя / фамилия. \n",
    "\n",
    "[бонус] Постройте тематическую модель по корпусу HPAC.\n",
    "\n",
    "[бонус] Найдите еще что-то интересное в корпусе (что-то специфичное для фанфиков или фентези-тематики)\n",
    "\n",
    "## Часть 2. [2 балла] Модели представления слов \n",
    "Обучите модель представления слов (word2vec, GloVe, fastText или любую другую) на материале корпуса HPAC.\n",
    "1. Продемонстрируйте, как работает поиск синонимов, ассоциаций, лишних слов в обученной модели. \n",
    "2. Визуализируйте топ-1000 слов по частоте без учета стоп-слов (п. 1.1) с помощью TSNE или UMAP (https://umap-learn.readthedocs.io).\n",
    "\n",
    "## Часть 3. [5 баллов] Классификация текстов\n",
    "Задача классификации формулируется так: данный фрагмент фанфика описывают какую-то ситуацию, которая предшествует произнесению заклинания. Требуется по тексту предсказать, какое именно заклинание будет произнесено. Таким образом, заклинание - это фактически метка класса. Основная мера качества – macro $F_1$.\n",
    "Обучите несколько классификаторов и сравните их между собой. Оцените качество классификаторов на частых и редких классах. Какие классы чаще всего оказываются перепутаны? Связаны ли ошибки со смыслом заклинаний?\n",
    "\n",
    "Используйте фрагменты из множества train для обучения, из множества dev для отладки, из множества test – для тестирования и получения итоговых результатов. \n",
    "\n",
    "1. [1 балл] Используйте fastText в качестве baseline-классификатора.\n",
    "2. [2 балла] Используйте сверточные  или реккурентные сети в качестве более продвинутого классификатора. Поэкспериментируйте с количеством и размерностью фильтров, используйте разные размеры окон, попробуйте использовать $k$-max pooling. \n",
    "3. [2 балла] Попробуйте расширить обучающее множество за счет аугментации данных. Если вам понадобится словарь синонимов, можно использовать WordNet (ниже вы найдете примеры).\n",
    "\n",
    "[бонус] Используйте результат max pooling'а как эмбеддинг входного текста. Визуализируйте эмбеддинги 500-1000 предложений из обучающего множества и изучите свойства получившегося пространства.\n",
    "\n",
    "[бонус] Используйте ваш любимый классификатор и любые (честные) способы повышения качества классификации и получите macro $F_1$ больше 0.5.\n",
    "\n",
    "## Часть 4. [1 балл] Итоги\n",
    "Напишите краткое резюме проделанной работы. Читали ли вы сами Гарри Поттера или фанфики о нем и помогло ли вам знание предметной области в выполнении домашнего задания?"
   ]
  },
  {
   "cell_type": "code",
   "execution_count": 5,
   "metadata": {},
   "outputs": [
    {
     "name": "stdout",
     "output_type": "stream",
     "text": [
      "/bin/bash: wget: command not found\r\n"
     ]
    }
   ],
   "source": [
    "!wget  https://www.dropbox.com/s/gwfgmomdbetvdye/hpac_lower_tokenized.zip"
   ]
  },
  {
   "cell_type": "markdown",
   "metadata": {},
   "source": [
    "### Данные\n",
    "Сырые тексты "
   ]
  },
  {
   "cell_type": "code",
   "execution_count": 6,
   "metadata": {
    "jupyter": {
     "outputs_hidden": true
    }
   },
   "outputs": [
    {
     "name": "stdout",
     "output_type": "stream",
     "text": [
      "Archive:  hpac_lower_tokenized.zip\r\n",
      "  End-of-central-directory signature not found.  Either this file is not\r\n",
      "  a zipfile, or it constitutes one disk of a multi-part archive.  In the\r\n",
      "  latter case the central directory and zipfile comment will be found on\r\n",
      "  the last disk(s) of this archive.\r\n",
      "unzip:  cannot find zipfile directory in one of hpac_lower_tokenized.zip or\r\n",
      "        hpac_lower_tokenized.zip.zip, and cannot find hpac_lower_tokenized.zip.ZIP, period.\r\n"
     ]
    }
   ],
   "source": [
    "!unzip hpac_lower_tokenized.zip"
   ]
  },
  {
   "cell_type": "code",
   "execution_count": 7,
   "metadata": {},
   "outputs": [
    {
     "name": "stdout",
     "output_type": "stream",
     "text": [
      "   36225\r\n"
     ]
    }
   ],
   "source": [
    "!ls hpac_source | wc -l"
   ]
  },
  {
   "cell_type": "code",
   "execution_count": null,
   "metadata": {},
   "outputs": [],
   "source": [
    "!unzip hpac_splits"
   ]
  },
  {
   "cell_type": "code",
   "execution_count": 8,
   "metadata": {},
   "outputs": [
    {
     "name": "stderr",
     "output_type": "stream",
     "text": [
      "[nltk_data] Downloading package wordnet to\n",
      "[nltk_data]     /Users/19652726/nltk_data...\n",
      "[nltk_data]   Package wordnet is already up-to-date!\n",
      "[nltk_data] Downloading package omw-1.4 to\n",
      "[nltk_data]     /Users/19652726/nltk_data...\n",
      "[nltk_data]   Package omw-1.4 is already up-to-date!\n",
      "[nltk_data] Downloading package punkt to /Users/19652726/nltk_data...\n",
      "[nltk_data]   Package punkt is already up-to-date!\n",
      "[nltk_data] Downloading package stopwords to\n",
      "[nltk_data]     /Users/19652726/nltk_data...\n",
      "[nltk_data]   Package stopwords is already up-to-date!\n",
      "[nltk_data] Downloading package averaged_perceptron_tagger to\n",
      "[nltk_data]     /Users/19652726/nltk_data...\n",
      "[nltk_data]   Package averaged_perceptron_tagger is already up-to-\n",
      "[nltk_data]       date!\n"
     ]
    },
    {
     "data": {
      "text/plain": [
       "True"
      ]
     },
     "execution_count": 8,
     "metadata": {},
     "output_type": "execute_result"
    }
   ],
   "source": [
    "from pathlib import Path\n",
    "from tqdm import tqdm\n",
    "import pandas as pd\n",
    "from nltk.corpus import stopwords, names\n",
    "import string\n",
    "import re\n",
    "from nltk.corpus import wordnet as wn\n",
    "from nltk.stem.wordnet import WordNetLemmatizer\n",
    "from nltk import pos_tag\n",
    "from collections import defaultdict\n",
    "\n",
    "import nltk\n",
    "nltk.download('wordnet')\n",
    "nltk.download('omw-1.4')\n",
    "nltk.download('punkt')\n",
    "nltk.download('stopwords')\n",
    "nltk.download('averaged_perceptron_tagger')"
   ]
  },
  {
   "cell_type": "code",
   "execution_count": 9,
   "metadata": {},
   "outputs": [
    {
     "name": "stderr",
     "output_type": "stream",
     "text": [
      "100%|████████████████████████████████████| 36225/36225 [02:04<00:00, 292.11it/s]\n"
     ]
    }
   ],
   "source": [
    "# corpus_df = pd.DataFrame(columns = ['path', 'text'])\n",
    "# directory = Path(\"./hpac_source/\")\n",
    "# paths = list(directory.glob(\"*\"))\n",
    "\n",
    "# for path in tqdm(paths):\n",
    "#     with open(path, \"r\", encoding=\"utf-8\") as file:\n",
    "#         corpus_df.loc[len(corpus_df.index)] = [path, file.read()]"
   ]
  },
  {
   "cell_type": "code",
   "execution_count": 10,
   "metadata": {},
   "outputs": [],
   "source": [
    "# corpus_df.to_csv('corpus_df.txt')"
   ]
  },
  {
   "cell_type": "code",
   "execution_count": 5,
   "metadata": {},
   "outputs": [],
   "source": [
    "corpus_df = pd.read_csv('corpus_df.txt', index_col=0)"
   ]
  },
  {
   "cell_type": "markdown",
   "metadata": {},
   "source": [
    "## Часть 1. [2 балла] Эксплоративный анализ \n",
    "1. Найдите топ-1000 слов по частоте без учета стоп-слов.\n",
    "2. Найдите топ-10 по частоте: имен, пар имя + фамилия, пар вида ''профессор'' + имя / фамилия. \n",
    "\n",
    "[бонус] Постройте тематическую модель по корпусу HPAC.\n",
    "\n",
    "[бонус] Найдите еще что-то интересное в корпусе (что-то специфичное для фанфиков или фентези-тематики)"
   ]
  },
  {
   "cell_type": "code",
   "execution_count": 6,
   "metadata": {},
   "outputs": [
    {
     "data": {
      "text/html": [
       "<div>\n",
       "<style scoped>\n",
       "    .dataframe tbody tr th:only-of-type {\n",
       "        vertical-align: middle;\n",
       "    }\n",
       "\n",
       "    .dataframe tbody tr th {\n",
       "        vertical-align: top;\n",
       "    }\n",
       "\n",
       "    .dataframe thead th {\n",
       "        text-align: right;\n",
       "    }\n",
       "</style>\n",
       "<table border=\"1\" class=\"dataframe\">\n",
       "  <thead>\n",
       "    <tr style=\"text-align: right;\">\n",
       "      <th></th>\n",
       "      <th>path</th>\n",
       "      <th>text</th>\n",
       "    </tr>\n",
       "  </thead>\n",
       "  <tbody>\n",
       "    <tr>\n",
       "      <th>0</th>\n",
       "      <td>hpac_source/4472122</td>\n",
       "      <td>... ` that wand 's more trouble than it 's wor...</td>\n",
       "    </tr>\n",
       "    <tr>\n",
       "      <th>1</th>\n",
       "      <td>hpac_source/5214134</td>\n",
       "      <td>it 's quite simple ... . you may look but you ...</td>\n",
       "    </tr>\n",
       "    <tr>\n",
       "      <th>2</th>\n",
       "      <td>hpac_source/5287826</td>\n",
       "      <td>i own none of this . jo rowling does . -------...</td>\n",
       "    </tr>\n",
       "    <tr>\n",
       "      <th>3</th>\n",
       "      <td>hpac_source/11996224</td>\n",
       "      <td>chapter 1 : next-door neighbours he 's in the ...</td>\n",
       "    </tr>\n",
       "    <tr>\n",
       "      <th>4</th>\n",
       "      <td>hpac_source/7887747</td>\n",
       "      <td>a/n : i do not own anything ! this story is wr...</td>\n",
       "    </tr>\n",
       "    <tr>\n",
       "      <th>...</th>\n",
       "      <td>...</td>\n",
       "      <td>...</td>\n",
       "    </tr>\n",
       "    <tr>\n",
       "      <th>36220</th>\n",
       "      <td>hpac_source/8895981</td>\n",
       "      <td>`` harry , '' hermione asked . `` what 's up ?...</td>\n",
       "    </tr>\n",
       "    <tr>\n",
       "      <th>36221</th>\n",
       "      <td>hpac_source/5804622</td>\n",
       "      <td>disclaimer : this is not written for profit . ...</td>\n",
       "    </tr>\n",
       "    <tr>\n",
       "      <th>36222</th>\n",
       "      <td>hpac_source/8903467</td>\n",
       "      <td>lily was amazing and lily might have been good...</td>\n",
       "    </tr>\n",
       "    <tr>\n",
       "      <th>36223</th>\n",
       "      <td>hpac_source/3811011</td>\n",
       "      <td>the characters and the situations within this ...</td>\n",
       "    </tr>\n",
       "    <tr>\n",
       "      <th>36224</th>\n",
       "      <td>hpac_source/3909954</td>\n",
       "      <td>title : chocolate frog card rating : all -LRB-...</td>\n",
       "    </tr>\n",
       "  </tbody>\n",
       "</table>\n",
       "<p>36225 rows × 2 columns</p>\n",
       "</div>"
      ],
      "text/plain": [
       "                       path                                               text\n",
       "0       hpac_source/4472122  ... ` that wand 's more trouble than it 's wor...\n",
       "1       hpac_source/5214134  it 's quite simple ... . you may look but you ...\n",
       "2       hpac_source/5287826  i own none of this . jo rowling does . -------...\n",
       "3      hpac_source/11996224  chapter 1 : next-door neighbours he 's in the ...\n",
       "4       hpac_source/7887747  a/n : i do not own anything ! this story is wr...\n",
       "...                     ...                                                ...\n",
       "36220   hpac_source/8895981  `` harry , '' hermione asked . `` what 's up ?...\n",
       "36221   hpac_source/5804622  disclaimer : this is not written for profit . ...\n",
       "36222   hpac_source/8903467  lily was amazing and lily might have been good...\n",
       "36223   hpac_source/3811011  the characters and the situations within this ...\n",
       "36224   hpac_source/3909954  title : chocolate frog card rating : all -LRB-...\n",
       "\n",
       "[36225 rows x 2 columns]"
      ]
     },
     "execution_count": 6,
     "metadata": {},
     "output_type": "execute_result"
    }
   ],
   "source": [
    "corpus_df"
   ]
  },
  {
   "cell_type": "code",
   "execution_count": 9,
   "metadata": {},
   "outputs": [],
   "source": [
    "#отработало\n",
    "stops = stopwords.words(\"english\") + list(string.punctuation) + ['--', '...', '``', \"''\", 'a.n',\n",
    "                                                                     '\\'s', '\\'d', '\\'ve', '\\'re', '\\'m']\n",
    "\n",
    "directory = Path(\"./hpac_source/\")\n",
    "paths = list(directory.glob(\"*\"))\n",
    "\n",
    "corpus = []\n",
    "for path in paths:\n",
    "    with open(path, \"r\", encoding=\"utf-8\") as file:\n",
    "        fanfic = file.read().split()\n",
    "        fanfic = [token for token in fanfic if token not in stops] # очистка от стоп-слов и пунктуации\n",
    "        corpus.extend(fanfic)"
   ]
  },
  {
   "cell_type": "code",
   "execution_count": 10,
   "metadata": {},
   "outputs": [
    {
     "data": {
      "text/plain": [
       "[(\"n't\", 4396020),\n",
       " ('harry', 3991017),\n",
       " ('said', 2262072),\n",
       " ('would', 1903185),\n",
       " ('hermione', 1826879),\n",
       " ('could', 1687864),\n",
       " ('back', 1396452),\n",
       " ('draco', 1386180),\n",
       " ('one', 1376314),\n",
       " ('like', 1256561),\n",
       " ('know', 1179021),\n",
       " ('eyes', 1032498),\n",
       " ('time', 1005205),\n",
       " ('ron', 904175),\n",
       " ('looked', 893362),\n",
       " ('get', 846353),\n",
       " ('asked', 826344),\n",
       " ('well', 783881),\n",
       " ('even', 769710),\n",
       " ('around', 767192),\n",
       " ('see', 743647),\n",
       " ('head', 731227),\n",
       " ('going', 717904),\n",
       " ('think', 715577),\n",
       " ('still', 691923),\n",
       " ('go', 666027),\n",
       " (\"'ll\", 661787),\n",
       " ('severus', 654494),\n",
       " ('face', 652601),\n",
       " ('way', 652261),\n",
       " ('room', 646707),\n",
       " ('ginny', 637918),\n",
       " ('hand', 632499),\n",
       " ('sirius', 628666),\n",
       " ('something', 622341),\n",
       " ('want', 612850),\n",
       " ('thought', 607347),\n",
       " ('potter', 602535),\n",
       " ('right', 601611),\n",
       " ('snape', 597675),\n",
       " ('away', 579736),\n",
       " ('much', 577283),\n",
       " ('look', 565629),\n",
       " ('two', 562458),\n",
       " ('never', 557605),\n",
       " ('really', 525853),\n",
       " ('knew', 524579),\n",
       " ('first', 515131),\n",
       " ('let', 512802),\n",
       " ('made', 510792),\n",
       " ('good', 501137),\n",
       " ('malfoy', 483569),\n",
       " ('little', 480709),\n",
       " ('wand', 479615),\n",
       " ('felt', 475883),\n",
       " ('dumbledore', 472012),\n",
       " ('turned', 471850),\n",
       " ('james', 467757),\n",
       " ('come', 460185),\n",
       " ('got', 451705),\n",
       " ('make', 442598),\n",
       " ('took', 436058),\n",
       " ('remus', 432641),\n",
       " ('lily', 421348),\n",
       " ('though', 421212),\n",
       " ('sure', 413567),\n",
       " ('say', 411762),\n",
       " ('door', 407945),\n",
       " ('tell', 406042),\n",
       " ('take', 405349),\n",
       " ('us', 404001),\n",
       " ('looking', 400846),\n",
       " ('dark', 399376),\n",
       " ('voice', 396811),\n",
       " ('voldemort', 394760),\n",
       " ('last', 393860),\n",
       " ('long', 391363),\n",
       " ('told', 387717),\n",
       " ('need', 387573),\n",
       " ('left', 381585),\n",
       " ('yes', 379265),\n",
       " ('man', 375032),\n",
       " ('wanted', 368940),\n",
       " ('anything', 367090),\n",
       " ('next', 356988),\n",
       " ('oh', 351707),\n",
       " ('came', 343059),\n",
       " ('nodded', 341020),\n",
       " ('love', 339038),\n",
       " ('moment', 335972),\n",
       " ('people', 334474),\n",
       " ('saw', 332916),\n",
       " ('another', 332450),\n",
       " ('things', 328154),\n",
       " ('went', 325804),\n",
       " ('hands', 324495),\n",
       " ('ca', 322864),\n",
       " ('help', 322411),\n",
       " ('day', 319711),\n",
       " ('enough', 319304),\n",
       " ('death', 318723),\n",
       " ('smiled', 312156),\n",
       " ('professor', 310769),\n",
       " ('year', 308744),\n",
       " ('mind', 308557),\n",
       " ('nothing', 307577),\n",
       " ('found', 306303),\n",
       " ('ever', 304241),\n",
       " ('boy', 303284),\n",
       " ('hair', 300324),\n",
       " ('always', 300302),\n",
       " ('find', 297298),\n",
       " ('bit', 296269),\n",
       " ('seemed', 293951),\n",
       " ('behind', 293565),\n",
       " ('hogwarts', 291158),\n",
       " ('thing', 287130),\n",
       " ('bed', 286664),\n",
       " ('trying', 284142),\n",
       " ('feel', 281363),\n",
       " ('started', 281150),\n",
       " ('put', 280582),\n",
       " ('since', 277981),\n",
       " ('life', 275212),\n",
       " ('house', 274826),\n",
       " ('night', 274460),\n",
       " ('heard', 273306),\n",
       " ('black', 267141),\n",
       " ('without', 266548),\n",
       " ('smile', 266299),\n",
       " ('better', 264786),\n",
       " ('years', 264180),\n",
       " ('gave', 262484),\n",
       " ('magic', 261687),\n",
       " ('might', 261575),\n",
       " ('side', 259144),\n",
       " ('weasley', 258083),\n",
       " ('everyone', 257388),\n",
       " ('father', 254427),\n",
       " ('sat', 254183),\n",
       " ('began', 253548),\n",
       " ('someone', 253021),\n",
       " ('almost', 250652),\n",
       " ('walked', 250330),\n",
       " ('done', 247701),\n",
       " ('finally', 247446),\n",
       " ('already', 246454),\n",
       " ('-RRB-', 245754),\n",
       " ('tried', 245120),\n",
       " ('place', 244606),\n",
       " ('every', 243628),\n",
       " ('stood', 242592),\n",
       " ('everything', 240725),\n",
       " ('friends', 240538),\n",
       " ('-LRB-', 240302),\n",
       " ('three', 238326),\n",
       " ('lord', 238135),\n",
       " ('front', 238092),\n",
       " ('pulled', 238078),\n",
       " ('small', 237801),\n",
       " ('also', 237565),\n",
       " ('quickly', 237094),\n",
       " ('course', 236041),\n",
       " ('keep', 234298),\n",
       " ('girl', 232527),\n",
       " ('body', 232221),\n",
       " ('best', 230692),\n",
       " ('towards', 228033),\n",
       " ('else', 223261),\n",
       " ('arms', 222832),\n",
       " ('neville', 221019),\n",
       " ('table', 220543),\n",
       " ('give', 219404),\n",
       " ('mean', 219179),\n",
       " ('work', 218270),\n",
       " ('family', 217554),\n",
       " ('sorry', 216536),\n",
       " ('albus', 216310),\n",
       " ('please', 214754),\n",
       " ('end', 213973),\n",
       " ('many', 213747),\n",
       " ('world', 212826),\n",
       " ('school', 212144),\n",
       " ('mother', 212050),\n",
       " ('great', 210966),\n",
       " ('lucius', 210616),\n",
       " ('old', 210043),\n",
       " ('together', 209034),\n",
       " ('new', 207676),\n",
       " ('quite', 207365),\n",
       " ('stop', 206561),\n",
       " ('happened', 206065),\n",
       " ('leave', 205624),\n",
       " ('replied', 204729),\n",
       " ('maybe', 204598),\n",
       " ('mouth', 202974),\n",
       " ('open', 202701),\n",
       " ('yet', 201849),\n",
       " ('must', 201418),\n",
       " ('soon', 201416),\n",
       " ('later', 197969),\n",
       " ('floor', 196991),\n",
       " ('getting', 196666),\n",
       " ('able', 195090),\n",
       " ('words', 193878),\n",
       " ('arm', 192659),\n",
       " ('name', 192215),\n",
       " ('lips', 191042),\n",
       " ('friend', 190796),\n",
       " ('least', 190605),\n",
       " ('hard', 190254),\n",
       " ('feeling', 188443),\n",
       " ('actually', 188115),\n",
       " ('suddenly', 187196),\n",
       " ('anyone', 187149),\n",
       " ('seen', 186336),\n",
       " ('slowly', 186253),\n",
       " ('sighed', 184305),\n",
       " ('luna', 183037),\n",
       " ('talk', 182323),\n",
       " ('spell', 181268),\n",
       " ('shook', 179530),\n",
       " ('making', 178939),\n",
       " ('gone', 178283),\n",
       " ('rather', 177043),\n",
       " ('george', 176656),\n",
       " ('believe', 176515),\n",
       " ('probably', 175227),\n",
       " ('held', 174812),\n",
       " ('home', 174519),\n",
       " ('far', 173858),\n",
       " ('light', 173487),\n",
       " ('used', 172746),\n",
       " ('inside', 172635),\n",
       " ('granger', 171635),\n",
       " ('wo', 171528),\n",
       " ('second', 171259),\n",
       " ('opened', 170913),\n",
       " ('rest', 170642),\n",
       " ('taking', 169663),\n",
       " ('fred', 169059),\n",
       " ('stopped', 167142),\n",
       " ('hear', 166916),\n",
       " ('idea', 166282),\n",
       " ('whispered', 166020),\n",
       " ('rose', 165678),\n",
       " ('coming', 164395),\n",
       " ('across', 163973),\n",
       " ('thank', 163901),\n",
       " ('try', 163850),\n",
       " ('breath', 163822),\n",
       " ('care', 163799),\n",
       " ('slightly', 162679),\n",
       " ('tom', 162448),\n",
       " ('parents', 162122),\n",
       " ('yeah', 161439),\n",
       " ('students', 161156),\n",
       " ('called', 160680),\n",
       " ('needed', 160487),\n",
       " ('ask', 159910),\n",
       " ('laughed', 159458),\n",
       " ('close', 158955),\n",
       " ('may', 158649),\n",
       " ('watched', 158066),\n",
       " ('use', 157762),\n",
       " ('continued', 156894),\n",
       " ('slytherin', 156819),\n",
       " ('sitting', 156484),\n",
       " ('gryffindor', 156129),\n",
       " ('part', 155502),\n",
       " ('heart', 155416),\n",
       " ('morning', 155392),\n",
       " ('blood', 155071),\n",
       " ('feet', 153951),\n",
       " ('happy', 153924),\n",
       " ('lot', 153672),\n",
       " ('pain', 151341),\n",
       " ('book', 149318),\n",
       " ('muggle', 149191),\n",
       " ('remember', 149076),\n",
       " ('okay', 148983),\n",
       " ('hall', 148581),\n",
       " ('fact', 147786),\n",
       " ('past', 147293),\n",
       " ('stared', 146460),\n",
       " ('reached', 146026),\n",
       " ('mr.', 145917),\n",
       " ('however', 145398),\n",
       " ('fine', 145175),\n",
       " ('chapter', 145046),\n",
       " ('ministry', 144641),\n",
       " ('thinking', 144447),\n",
       " ('wrong', 143608),\n",
       " ('along', 143517),\n",
       " ('onto', 143483),\n",
       " ('hope', 142924),\n",
       " ('alone', 142520),\n",
       " ('shoulder', 141497),\n",
       " ('set', 140239),\n",
       " ('read', 140055),\n",
       " ('moved', 140028),\n",
       " ('wizard', 139546),\n",
       " ('bad', 139364),\n",
       " ('standing', 139268),\n",
       " ('either', 139165),\n",
       " ('red', 138709),\n",
       " ('chest', 138218),\n",
       " ('decided', 137221),\n",
       " ('fell', 137163),\n",
       " ('talking', 137063),\n",
       " ('dead', 136583),\n",
       " ('minutes', 135969),\n",
       " ('stay', 135622),\n",
       " ('ran', 135131),\n",
       " ('hurt', 134376),\n",
       " ('understand', 134210),\n",
       " ('young', 134160),\n",
       " ('potion', 134114),\n",
       " ('mcgonagall', 133828),\n",
       " ('fingers', 133732),\n",
       " ('instead', 132927),\n",
       " ('caught', 132705),\n",
       " ('person', 132504),\n",
       " ('kill', 132469),\n",
       " ('days', 131901),\n",
       " ('woman', 131869),\n",
       " ('miss', 131767),\n",
       " ('potions', 131664),\n",
       " ('point', 131470),\n",
       " ('others', 130994),\n",
       " ('air', 130910),\n",
       " ('tears', 130176),\n",
       " ('ready', 130001),\n",
       " ('kiss', 129938),\n",
       " ('ground', 129876),\n",
       " ('tonks', 129768),\n",
       " ('kept', 128768),\n",
       " ('matter', 128692),\n",
       " ('taken', 128052),\n",
       " ('son', 128041),\n",
       " ('times', 127819),\n",
       " ('wait', 127361),\n",
       " ('order', 127019),\n",
       " ('forward', 126684),\n",
       " ('deep', 126013),\n",
       " ('closed', 125853),\n",
       " ('noticed', 125310),\n",
       " ('eaters', 124788),\n",
       " ('curse', 124232),\n",
       " ('story', 124117),\n",
       " ('reason', 123295),\n",
       " ('lost', 122899),\n",
       " ('kind', 122789),\n",
       " ('raised', 122475),\n",
       " ('full', 121637),\n",
       " ('sound', 121616),\n",
       " ('sleep', 121238),\n",
       " ('magical', 121007),\n",
       " ('thanks', 120809),\n",
       " ('move', 120407),\n",
       " ('blaise', 119657),\n",
       " ('different', 118928),\n",
       " ('wall', 118604),\n",
       " ('whole', 118562),\n",
       " ('office', 117149),\n",
       " ('bellatrix', 116982),\n",
       " ('several', 116928),\n",
       " ('question', 115848),\n",
       " ('followed', 115344),\n",
       " ('start', 115300),\n",
       " ('half', 114544),\n",
       " ('turn', 114115),\n",
       " ('word', 113883),\n",
       " ('perhaps', 113591),\n",
       " ('anyway', 113542),\n",
       " ('large', 113442),\n",
       " ('outside', 112899),\n",
       " ('answer', 112853),\n",
       " ('holding', 112646),\n",
       " ('class', 112168),\n",
       " ('attention', 111910),\n",
       " ('answered', 111238),\n",
       " ('chair', 111197),\n",
       " ('hit', 111155),\n",
       " ('completely', 110870),\n",
       " ('lupin', 110827),\n",
       " ('exactly', 110638),\n",
       " ('quietly', 110189),\n",
       " ('scorpius', 110174),\n",
       " ('waiting', 110120),\n",
       " ('cold', 108680),\n",
       " ('immediately', 108597),\n",
       " ('mum', 108012),\n",
       " ('ago', 107921),\n",
       " ('minerva', 107912),\n",
       " ('spoke', 107613),\n",
       " ('robes', 107571),\n",
       " ('saying', 107564),\n",
       " ('eye', 107477),\n",
       " ('longer', 107251),\n",
       " ('today', 106822),\n",
       " ('leaving', 106679),\n",
       " ('watching', 106551),\n",
       " ('stepped', 105950),\n",
       " ('true', 105879),\n",
       " ('green', 105690),\n",
       " ('seeing', 105343),\n",
       " ('hold', 105239),\n",
       " ('staring', 104929),\n",
       " ('child', 104836),\n",
       " ('surprised', 104808),\n",
       " ('pansy', 104646),\n",
       " ('given', 104614),\n",
       " ('master', 104577),\n",
       " ('silence', 104415),\n",
       " ('dad', 104074),\n",
       " ('nearly', 103947),\n",
       " ('turning', 103820),\n",
       " ('softly', 103588),\n",
       " ('nice', 103395),\n",
       " ('neck', 103157),\n",
       " ('headmaster', 103023),\n",
       " ('finished', 102732),\n",
       " ('fire', 102540),\n",
       " ('meant', 102292),\n",
       " ('brought', 101996),\n",
       " ('closer', 101974),\n",
       " ('simply', 101814),\n",
       " ('witch', 101438),\n",
       " ('grabbed', 100639),\n",
       " ('four', 100436),\n",
       " ('show', 99832),\n",
       " ('grinned', 99585),\n",
       " ('hell', 99580),\n",
       " ('war', 99504),\n",
       " ('managed', 99334),\n",
       " ('realized', 99193),\n",
       " ('charm', 98993),\n",
       " ('says', 98968),\n",
       " ('call', 98927),\n",
       " ('change', 98885),\n",
       " ('bloody', 98879),\n",
       " ('looks', 98858),\n",
       " ('narcissa', 98747),\n",
       " ('top', 98439),\n",
       " ('running', 97882),\n",
       " ('children', 97702),\n",
       " ('quidditch', 97698),\n",
       " ('kissed', 97217),\n",
       " ('killed', 97102),\n",
       " ('chance', 97066),\n",
       " ('speak', 96696),\n",
       " ('common', 96446),\n",
       " ('brother', 96354),\n",
       " ('shut', 96085),\n",
       " ('skin', 95850),\n",
       " ('week', 95296),\n",
       " ('sent', 94967),\n",
       " ('alright', 94069),\n",
       " ('added', 93828),\n",
       " ('pointed', 93630),\n",
       " ('castle', 93484),\n",
       " ('met', 93285),\n",
       " ('rolled', 93176),\n",
       " ('known', 92836),\n",
       " ('expression', 92778),\n",
       " ('boys', 92590),\n",
       " ('molly', 92550),\n",
       " ('supposed', 92538),\n",
       " ('returned', 92417),\n",
       " ('walking', 92318),\n",
       " ('muttered', 92131),\n",
       " ('whatever', 92074),\n",
       " ('run', 91938),\n",
       " ('fight', 91913),\n",
       " ('knowing', 91859),\n",
       " ('hours', 91853),\n",
       " ('appeared', 91665),\n",
       " ('leaned', 91513),\n",
       " ('cast', 91440),\n",
       " ('girls', 91396),\n",
       " ('giving', 91014),\n",
       " ('less', 90615),\n",
       " ('happen', 90543),\n",
       " ('upon', 90424),\n",
       " ('books', 90316),\n",
       " ('thoughts', 89939),\n",
       " ('shrugged', 89892),\n",
       " ('pretty', 89735),\n",
       " ('water', 89504),\n",
       " ('sort', 89182),\n",
       " ('guess', 89007),\n",
       " ('spells', 88992),\n",
       " ('throat', 88934),\n",
       " ('gently', 88648),\n",
       " ('letter', 88515),\n",
       " ('worry', 88392),\n",
       " ('real', 88237),\n",
       " ('pushed', 88025),\n",
       " ('loved', 87699),\n",
       " ('big', 87508),\n",
       " ('stairs', 87356),\n",
       " ('hagrid', 87300),\n",
       " ('possible', 87201),\n",
       " ('surprise', 87000),\n",
       " ('couple', 86712),\n",
       " ('glanced', 86677),\n",
       " ('white', 86612),\n",
       " ('meet', 85952),\n",
       " ('seem', 85843),\n",
       " ('passed', 85799),\n",
       " ('fear', 85287),\n",
       " ('bill', 85233),\n",
       " ('five', 85142),\n",
       " ('beside', 85137),\n",
       " ('become', 84820),\n",
       " ('desk', 84626),\n",
       " ('watch', 84515),\n",
       " ('sit', 84150),\n",
       " ('smiling', 84105),\n",
       " ('stand', 84003),\n",
       " ('power', 83976),\n",
       " ('placed', 83913),\n",
       " ('dinner', 83810),\n",
       " ('although', 83364),\n",
       " ('sense', 83234),\n",
       " ('toward', 83220),\n",
       " ('corner', 83174),\n",
       " ('merlin', 83033),\n",
       " ('late', 82782),\n",
       " ('safe', 82731),\n",
       " ('die', 82209),\n",
       " ('sir', 82130),\n",
       " ('stupid', 81891),\n",
       " ('bring', 81841),\n",
       " ('walk', 81316),\n",
       " ('wizards', 81268),\n",
       " ('anymore', 80622),\n",
       " ('soft', 80549),\n",
       " ('kitchen', 80345),\n",
       " ('snapped', 80328),\n",
       " ('agreed', 80054),\n",
       " ('eater', 80033),\n",
       " ('wondered', 80032),\n",
       " ('baby', 79904),\n",
       " ('knows', 79813),\n",
       " ('wish', 79359),\n",
       " ('quiet', 79166),\n",
       " ('telling', 78989),\n",
       " ('break', 78666),\n",
       " ('changed', 78526),\n",
       " ('group', 78491),\n",
       " ('peter', 78303),\n",
       " ('laugh', 78237),\n",
       " ('window', 78227),\n",
       " ('pulling', 78113),\n",
       " ('moving', 78050),\n",
       " ('return', 77994),\n",
       " ('charlie', 77808),\n",
       " ('plan', 77771),\n",
       " ('angry', 77551),\n",
       " ('case', 77267),\n",
       " ('short', 77229),\n",
       " ('trust', 77087),\n",
       " ('explained', 77019),\n",
       " ('shot', 76855),\n",
       " ('free', 76785),\n",
       " ('dropped', 76771),\n",
       " ('shoulders', 76556),\n",
       " ('near', 76539),\n",
       " ('sister', 76285),\n",
       " ('gaze', 75954),\n",
       " ('barely', 75768),\n",
       " ('sight', 75763),\n",
       " ('reading', 75699),\n",
       " ('live', 75339),\n",
       " ('beautiful', 75018),\n",
       " ('especially', 74968),\n",
       " ('died', 74761),\n",
       " ('within', 74633),\n",
       " ('cut', 74495),\n",
       " ('figure', 74456),\n",
       " ('christmas', 74315),\n",
       " ('shaking', 74314),\n",
       " ('tonight', 74302),\n",
       " ('working', 74148),\n",
       " ('worried', 74130),\n",
       " ('spent', 74093),\n",
       " ('clear', 74076),\n",
       " ('months', 74035),\n",
       " ('seat', 73913),\n",
       " ('entire', 73856),\n",
       " ('blue', 73755),\n",
       " ('legs', 73651),\n",
       " ('shouted', 73628),\n",
       " ('dear', 73607),\n",
       " ('memory', 73521),\n",
       " ('frowned', 73386),\n",
       " ('living', 73099),\n",
       " ('stomach', 72749),\n",
       " ('mrs.', 72658),\n",
       " ('fall', 72638),\n",
       " ('conversation', 72610),\n",
       " ('straight', 72000),\n",
       " ('allowed', 71897),\n",
       " ('control', 71858),\n",
       " ('wizarding', 71735),\n",
       " ('stone', 71638),\n",
       " ('remembered', 71634),\n",
       " ('tone', 71590),\n",
       " ('afraid', 71545),\n",
       " ('fun', 71477),\n",
       " ('form', 71280),\n",
       " ('picked', 71070),\n",
       " ('anger', 70916),\n",
       " ('glad', 70883),\n",
       " ('broke', 70763),\n",
       " ('touch', 70659),\n",
       " ('entered', 70472),\n",
       " ('hour', 70469),\n",
       " ('silent', 70093),\n",
       " ('quick', 69822),\n",
       " ('grin', 69814),\n",
       " ('truth', 69808),\n",
       " ('cried', 69745),\n",
       " ('meeting', 69690),\n",
       " ('nose', 69415),\n",
       " ('laughing', 69370),\n",
       " ('hey', 69305),\n",
       " ('play', 69224),\n",
       " ('smirked', 69150),\n",
       " ('step', 69125),\n",
       " ('certain', 69019),\n",
       " ('important', 68812),\n",
       " ('became', 68581),\n",
       " ('weeks', 68382),\n",
       " ('filled', 68291),\n",
       " ('none', 68260),\n",
       " ('auror', 68203),\n",
       " ('warm', 68088),\n",
       " ('team', 68070),\n",
       " ('using', 67934),\n",
       " ('food', 67655),\n",
       " ('percy', 67634),\n",
       " ('older', 67404),\n",
       " ('empty', 67318),\n",
       " ('fleur', 67109),\n",
       " ('threw', 66777),\n",
       " ('hate', 66648),\n",
       " ('expected', 66504),\n",
       " ('cheek', 66372),\n",
       " ('yelled', 66147),\n",
       " ('worse', 66131),\n",
       " ('breakfast', 66109),\n",
       " ('problem', 65955),\n",
       " ('ones', 65556),\n",
       " ('clearly', 65543),\n",
       " ('teddy', 65477),\n",
       " ('cloak', 65420),\n",
       " ('memories', 65342),\n",
       " ('perfect', 65325),\n",
       " ('waited', 65166),\n",
       " ('obviously', 64740),\n",
       " ('shock', 64705),\n",
       " ('liked', 64422),\n",
       " ('arrived', 64387),\n",
       " ('alive', 64376),\n",
       " ('sometimes', 64321),\n",
       " ('certainly', 64312),\n",
       " ('riddle', 63899),\n",
       " ('wife', 63832),\n",
       " ('carefully', 63764),\n",
       " ('note', 63641),\n",
       " ('despite', 63506),\n",
       " ('summer', 63488),\n",
       " ('gotten', 63205),\n",
       " ('information', 63161),\n",
       " ('daphne', 63106),\n",
       " ('job', 63046),\n",
       " ('forced', 62920),\n",
       " ('madam', 62910),\n",
       " ('loud', 62885),\n",
       " ('except', 62845),\n",
       " ('ten', 62831),\n",
       " ('wrapped', 62659),\n",
       " ('tomorrow', 62533),\n",
       " ('clothes', 62472),\n",
       " ('glass', 62428),\n",
       " ('deal', 62357),\n",
       " ('library', 62319),\n",
       " ('strong', 62086),\n",
       " ('calm', 62050),\n",
       " ('strange', 62020),\n",
       " ('tea', 61872),\n",
       " ('worked', 61863),\n",
       " ('trouble', 61760),\n",
       " ('confused', 61683),\n",
       " ('battle', 61671),\n",
       " ('ear', 61510),\n",
       " ('evening', 61149),\n",
       " ('owl', 61070),\n",
       " ('mine', 60840),\n",
       " ('easy', 60732),\n",
       " ('normal', 60658),\n",
       " ('wide', 60578),\n",
       " ('minute', 60573),\n",
       " ('seems', 60541),\n",
       " ('parchment', 60514),\n",
       " ('lay', 60473),\n",
       " ('makes', 60446),\n",
       " ('paused', 60411),\n",
       " ('twins', 60355),\n",
       " ('apparently', 60346),\n",
       " ('daughter', 59782),\n",
       " ('middle', 59765),\n",
       " ('suppose', 59696),\n",
       " ('moments', 59655),\n",
       " ('tired', 59573),\n",
       " ('high', 59355),\n",
       " ('broom', 59220),\n",
       " ('notice', 59202),\n",
       " ('somehow', 59137),\n",
       " ('led', 59066),\n",
       " ('promise', 58613),\n",
       " ('usual', 58599),\n",
       " ('secret', 58598),\n",
       " ('lying', 58533),\n",
       " ('cup', 58425),\n",
       " ('broken', 58261),\n",
       " ('piece', 58077),\n",
       " ('chuckled', 58073),\n",
       " ('arthur', 58040),\n",
       " ('tongue', 57898),\n",
       " ('sounded', 57840),\n",
       " ('men', 57821),\n",
       " ('line', 57810),\n",
       " ('questions', 57763),\n",
       " ('pale', 57435),\n",
       " ('means', 57426),\n",
       " ('doubt', 57406),\n",
       " ('muggles', 57399),\n",
       " ('save', 57373),\n",
       " ('attack', 57336),\n",
       " ('wonder', 57288),\n",
       " ('helped', 57195),\n",
       " ('familiar', 57004),\n",
       " ('explain', 56881),\n",
       " ('finger', 56834),\n",
       " ('bella', 56833),\n",
       " ('aurors', 56687),\n",
       " ('gasped', 56670),\n",
       " ('uncle', 56583),\n",
       " ('game', 56564),\n",
       " ('hissed', 56533),\n",
       " ('jumped', 56526),\n",
       " ('minister', 56503),\n",
       " ('situation', 56461),\n",
       " ('charms', 56436),\n",
       " ('bright', 56427),\n",
       " ('pressed', 56422),\n",
       " ('hospital', 56182),\n",
       " ('mate', 56156),\n",
       " ('whether', 56106),\n",
       " ('position', 55998),\n",
       " ('lifted', 55991),\n",
       " ('glared', 55900),\n",
       " ('manor', 55785),\n",
       " ('moody', 55439),\n",
       " ('headed', 55277),\n",
       " ('seconds', 55161),\n",
       " ('shall', 55084),\n",
       " ('catch', 55077),\n",
       " ('wants', 55025),\n",
       " ('often', 54846),\n",
       " ('fast', 54677),\n",
       " ('asking', 54604),\n",
       " ('dobby', 54283),\n",
       " ('teeth', 54184),\n",
       " ('third', 54111),\n",
       " ('early', 54111),\n",
       " ('asleep', 54092),\n",
       " ('pomfrey', 53966),\n",
       " ('listen', 53890),\n",
       " ('wearing', 53733),\n",
       " ('neither', 53722),\n",
       " ('kingsley', 53360),\n",
       " ('bag', 53286),\n",
       " ('following', 53273),\n",
       " ('letting', 53266),\n",
       " ('sigh', 53249),\n",
       " ('besides', 53241),\n",
       " ('screamed', 53167),\n",
       " ('truly', 53108),\n",
       " ('forget', 53092),\n",
       " ('write', 53049),\n",
       " ('covered', 52980),\n",
       " ('pull', 52974),\n",
       " ('mark', 52960),\n",
       " ('follow', 52879),\n",
       " ('beginning', 52685),\n",
       " ('hoped', 52546),\n",
       " ('elf', 52503),\n",
       " ('keeping', 52499),\n",
       " ('shirt', 52488),\n",
       " ('fighting', 52471),\n",
       " ('student', 52344),\n",
       " ('flew', 52286),\n",
       " ('playing', 52275),\n",
       " ('wondering', 52114),\n",
       " ('likely', 52114),\n",
       " ('eyebrow', 52073),\n",
       " ('guys', 51990),\n",
       " ('direction', 51982),\n",
       " ('easily', 51920),\n",
       " ('usually', 51901),\n",
       " ('learn', 51790),\n",
       " ('hated', 51738),\n",
       " ('ended', 51693),\n",
       " ('crying', 51667),\n",
       " ('starting', 51627),\n",
       " ('lip', 51573),\n",
       " ('somewhere', 51519),\n",
       " ('enjoy', 51455),\n",
       " ('future', 51432),\n",
       " ('husband', 51430),\n",
       " ('edge', 51398),\n",
       " ('eat', 51393),\n",
       " ('flying', 51169),\n",
       " ('azkaban', 50788),\n",
       " ('ah', 50771),\n",
       " ('soul', 50711),\n",
       " ('offered', 50707),\n",
       " ('cheeks', 50538),\n",
       " ('hoping', 50401),\n",
       " ('cry', 50339),\n",
       " ('damn', 50263),\n",
       " ('falling', 50251),\n",
       " ('earlier', 50205),\n",
       " ('tightly', 50187),\n",
       " ('knees', 50119),\n",
       " ('send', 50111),\n",
       " ('shocked', 49939),\n",
       " ('powerful', 49917),\n",
       " ('train', 49838),\n",
       " ('al', 49837),\n",
       " ('serious', 49819),\n",
       " ('money', 49794),\n",
       " ('missed', 49788),\n",
       " ('pair', 49760),\n",
       " ('drink', 49731),\n",
       " ('disappeared', 49719),\n",
       " ('silver', 49685),\n",
       " ('choice', 49632),\n",
       " ('speaking', 49598),\n",
       " ('hot', 49579),\n",
       " ('pocket', 49504),\n",
       " ('hide', 49398),\n",
       " ('expect', 49204),\n",
       " ('age', 49195),\n",
       " ('brown', 49164),\n",
       " ('aware', 49152),\n",
       " ('ravenclaw', 49141),\n",
       " ('definitely', 49138),\n",
       " ('low', 48977),\n",
       " ('spot', 48881),\n",
       " ('eventually', 48733),\n",
       " ('wake', 48661),\n",
       " ('putting', 48563),\n",
       " ('hug', 48472),\n",
       " ('bedroom', 48312),\n",
       " ('forest', 48305),\n",
       " ('ears', 48214),\n",
       " ('killing', 48069),\n",
       " ('mad', 48059),\n",
       " ('aunt', 48036),\n",
       " ('single', 48031),\n",
       " ('simple', 47934),\n",
       " ('god', 47921),\n",
       " ('mirror', 47840),\n",
       " ('waved', 47778),\n",
       " ('scared', 47740),\n",
       " ('laughter', 47712),\n",
       " ('dress', 47694),\n",
       " ('six', 47614),\n",
       " ('present', 47610),\n",
       " ('continue', 47565),\n",
       " ('admit', 47557),\n",
       " ('sounds', 47310),\n",
       " ('join', 47251),\n",
       " ('exclaimed', 47220),\n",
       " ('a/n', 47194),\n",
       " ('handed', 47176),\n",
       " ('paper', 47147),\n",
       " ('feelings', 47101),\n",
       " ('blinked', 46975),\n",
       " ('corridor', 46932),\n",
       " ('breathing', 46776),\n",
       " ('slipped', 46766),\n",
       " ('check', 46702),\n",
       " ('showed', 46691),\n",
       " ('relief', 46589),\n",
       " ('forehead', 46558),\n",
       " ('force', 46362),\n",
       " ('sleeping', 46326),\n",
       " ('doors', 46277),\n",
       " ('smirk', 46270),\n",
       " ('younger', 46236),\n",
       " ('box', 46234),\n",
       " ('final', 46193),\n",
       " ('wands', 46174),\n",
       " ('news', 46156),\n",
       " ('murmured', 46087),\n",
       " ('writing', 46078),\n",
       " ('protect', 45920),\n",
       " ('causing', 45830),\n",
       " ('ok', 45665),\n",
       " ('indeed', 45612),\n",
       " ('bathroom', 45608),\n",
       " ('kissing', 45309),\n",
       " ('ball', 45098),\n",
       " ('steps', 45083),\n",
       " ('wards', 45070),\n",
       " ('dangerous', 44990),\n",
       " ('seamus', 44985),\n",
       " ('dean', 44825),\n",
       " ('lunch', 44798),\n",
       " ('glance', 44708),\n",
       " ('alley', 44596),\n",
       " ('obvious', 44591),\n",
       " ('entrance', 44509),\n",
       " ('sudden', 44468),\n",
       " ('stayed', 44416),\n",
       " ('business', 44396),\n",
       " ('apart', 44335),\n",
       " ('evil', 44326),\n",
       " ('married', 44276),\n",
       " ('cedric', 44232),\n",
       " ('busy', 44215),\n",
       " ('visit', 44188),\n",
       " ('touched', 44167),\n",
       " ('honestly', 44136),\n",
       " ('needs', 44131),\n",
       " ('difficult', 44128),\n",
       " ('ring', 44086),\n",
       " ('party', 44068),\n",
       " ('imagine', 43956),\n",
       " ('drew', 43939),\n",
       " ('fault', 43925),\n",
       " ('number', 43898),\n",
       " ('stuff', 43755),\n",
       " ('burst', 43710),\n",
       " ('fuck', 43705),\n",
       " ('dream', 43682),\n",
       " ('leaning', 43672),\n",
       " ('walls', 43659),\n",
       " ('aside', 43644),\n",
       " ('groaned', 43592),\n",
       " ('crowd', 43549),\n",
       " ('slytherins', 43434),\n",
       " ('interrupted', 43348),\n",
       " ('couch', 43152),\n",
       " ('silently', 43146),\n",
       " ('darkness', 43093),\n",
       " ('remained', 43072),\n",
       " ('learned', 43043),\n",
       " ('tower', 42998),\n",
       " ('hello', 42988),\n",
       " ('stated', 42839),\n",
       " ('foot', 42800),\n",
       " ('snake', 42721),\n",
       " ('dragon', 42667),\n",
       " ('odd', 42623),\n",
       " ('mr', 42609),\n",
       " ('teacher', 42550),\n",
       " ('ahead', 42548),\n",
       " ('growled', 42506),\n",
       " ('wanting', 42475),\n",
       " ('lavender', 42469),\n",
       " ('spend', 42463),\n",
       " ('allow', 42292),\n",
       " ('stuck', 42266),\n",
       " ('match', 42242),\n",
       " ('werewolf', 42186),\n",
       " ('lose', 42120),\n",
       " ('date', 42053),\n",
       " ('finish', 41995),\n",
       " ('points', 41973),\n",
       " ('human', 41967),\n",
       " ('grew', 41957),\n",
       " ('blonde', 41939),\n",
       " ('realised', 41916),\n",
       " ('act', 41841),\n",
       " ('hiding', 41837),\n",
       " ('relationship', 41817),\n",
       " ('response', 41707),\n",
       " ('regulus', 41665),\n",
       " ('caused', 41616),\n",
       " ('umbridge', 41606),\n",
       " ('unless', 41508),\n",
       " ('shop', 41435)]"
      ]
     },
     "execution_count": 10,
     "metadata": {},
     "output_type": "execute_result"
    }
   ],
   "source": [
    "#топ 1000 слов\n",
    "from nltk.probability import FreqDist\n",
    "fdist = FreqDist(corpus)\n",
    "top_words = fdist.most_common(1000)\n",
    "top_words "
   ]
  },
  {
   "cell_type": "code",
   "execution_count": 13,
   "metadata": {},
   "outputs": [
    {
     "data": {
      "text/plain": [
       "7944"
      ]
     },
     "execution_count": 13,
     "metadata": {},
     "output_type": "execute_result"
    }
   ],
   "source": [
    "#имена из nltk в нижний регистр\n",
    "names_lower = [name.lower() for name in names.words('female.txt') + names.words('male.txt')]\n",
    "len(names_lower)"
   ]
  },
  {
   "cell_type": "code",
   "execution_count": 15,
   "metadata": {},
   "outputs": [
    {
     "name": "stderr",
     "output_type": "stream",
     "text": [
      "100%|███████████████████████████████| 2538293/2538293 [04:31<00:00, 9354.49it/s]\n"
     ]
    },
    {
     "data": {
      "text/plain": [
       "{'harry': 39809,\n",
       " 'april': 54,\n",
       " 'hermione': 18451,\n",
       " 'say': 4106,\n",
       " 'marry': 240,\n",
       " 'way': 6639,\n",
       " 'amelia': 283,\n",
       " 'minerva': 1033,\n",
       " 'terry': 95,\n",
       " 'pansy': 962,\n",
       " 'ron': 9098,\n",
       " 'james': 4608,\n",
       " 'george': 1777,\n",
       " 'derrick': 15,\n",
       " 'sky': 358,\n",
       " 'see': 7424,\n",
       " 'happy': 1524,\n",
       " 'ginny': 6308,\n",
       " 'else': 2258,\n",
       " 'wood': 354,\n",
       " 'min': 17,\n",
       " 'rita': 145,\n",
       " 'andromeda': 322,\n",
       " 'nick': 105,\n",
       " 'glad': 755,\n",
       " 'lillian': 12,\n",
       " 'andy': 50,\n",
       " 'job': 611,\n",
       " 'chance': 1016,\n",
       " 'hope': 1484,\n",
       " 'ophelia': 35,\n",
       " 'lucius': 2103,\n",
       " 'hall': 1464,\n",
       " 'isabella': 34,\n",
       " 'saw': 3338,\n",
       " 'estel': 1,\n",
       " 'harriette': 2,\n",
       " 'anna': 118,\n",
       " 'son': 1256,\n",
       " 'wait': 1275,\n",
       " 'wolf': 202,\n",
       " 'gay': 105,\n",
       " 'bel': 8,\n",
       " 'jesus': 21,\n",
       " 'shadow': 296,\n",
       " 'jasmine': 64,\n",
       " 'may': 1562,\n",
       " 'remus': 4292,\n",
       " 'orion': 241,\n",
       " 'yule': 80,\n",
       " 'rose': 1674,\n",
       " 'love': 3351,\n",
       " 'hugo': 204,\n",
       " 'neville': 2207,\n",
       " 'gordon': 7,\n",
       " 'barty': 122,\n",
       " 'bella': 546,\n",
       " 'velvet': 66,\n",
       " 'percy': 701,\n",
       " 'tom': 1672,\n",
       " 'julie': 59,\n",
       " 'case': 780,\n",
       " 'luna': 1833,\n",
       " 'merlin': 874,\n",
       " 'alex': 242,\n",
       " 'robbie': 10,\n",
       " 'red': 1386,\n",
       " 'octavia': 53,\n",
       " 'remy': 14,\n",
       " 'worth': 368,\n",
       " 'lily': 4151,\n",
       " 'jerry': 10,\n",
       " 'fred': 1711,\n",
       " 'jamie': 90,\n",
       " 'lay': 606,\n",
       " 'miles': 96,\n",
       " 'sebastian': 34,\n",
       " 'daphne': 629,\n",
       " 'daniel': 94,\n",
       " 'aurora': 61,\n",
       " 'bridget': 23,\n",
       " 'petunia': 335,\n",
       " 'charlie': 763,\n",
       " 'west': 48,\n",
       " 'mark': 513,\n",
       " 'lucky': 280,\n",
       " 'zach': 26,\n",
       " 'june': 104,\n",
       " 'er': 315,\n",
       " 'tommy': 73,\n",
       " 'clovis': 5,\n",
       " 'ginger': 67,\n",
       " 'mackenzie': 7,\n",
       " 'bear': 201,\n",
       " 'marlene': 177,\n",
       " 'scarlet': 102,\n",
       " 'win': 318,\n",
       " 'jason': 73,\n",
       " 'ginevra': 87,\n",
       " 'anita': 12,\n",
       " 'page': 299,\n",
       " 'merry': 77,\n",
       " 'sue': 31,\n",
       " 'morgana': 33,\n",
       " 'poppy': 287,\n",
       " 'al': 500,\n",
       " 'josh': 35,\n",
       " 'dennis': 69,\n",
       " 'patience': 109,\n",
       " 'dick': 45,\n",
       " 'erin': 33,\n",
       " 'price': 94,\n",
       " 'jean': 56,\n",
       " 'harriet': 52,\n",
       " 'wolfy': 2,\n",
       " 'tray': 111,\n",
       " 'peter': 776,\n",
       " 'marie': 70,\n",
       " 'lisa': 56,\n",
       " 'drew': 441,\n",
       " 'dean': 470,\n",
       " 'theo': 374,\n",
       " 'daisy': 50,\n",
       " 'cissy': 69,\n",
       " 'veronica': 17,\n",
       " 'carole': 1,\n",
       " 'dora': 117,\n",
       " 'bill': 858,\n",
       " 'olive': 20,\n",
       " 'teddy': 663,\n",
       " 'rachel': 49,\n",
       " 'evan': 76,\n",
       " 'ernie': 86,\n",
       " 'prince': 179,\n",
       " 'lane': 34,\n",
       " 'alley': 427,\n",
       " 'jaimie': 13,\n",
       " 'ferguson': 1,\n",
       " 'muriel': 38,\n",
       " 'angel': 104,\n",
       " 'hunt': 83,\n",
       " 'carry': 214,\n",
       " 'dudley': 373,\n",
       " 'burke': 17,\n",
       " 'pace': 163,\n",
       " 'renee': 10,\n",
       " 'guy': 262,\n",
       " 'fletcher': 34,\n",
       " 'juliet': 37,\n",
       " 'france': 104,\n",
       " 'donovan': 5,\n",
       " 'patrick': 20,\n",
       " 'hadrian': 102,\n",
       " 'avery': 124,\n",
       " 'joy': 196,\n",
       " 'gregory': 39,\n",
       " 'forest': 498,\n",
       " 'sandy': 32,\n",
       " 'trip': 262,\n",
       " 'alice': 325,\n",
       " 'bree': 42,\n",
       " 'tracey': 156,\n",
       " 'ryan': 37,\n",
       " 'harold': 25,\n",
       " 'molly': 978,\n",
       " 'rem': 9,\n",
       " 'slim': 54,\n",
       " 'la': 58,\n",
       " 'kurt': 12,\n",
       " 'faith': 93,\n",
       " 'tabitha': 27,\n",
       " 'kingsley': 501,\n",
       " 'wake': 492,\n",
       " 'welsh': 16,\n",
       " 'greg': 57,\n",
       " 'gypsy': 10,\n",
       " 'tore': 143,\n",
       " 'quill': 253,\n",
       " 'grant': 63,\n",
       " 'deny': 146,\n",
       " 'tracy': 18,\n",
       " 'gray': 152,\n",
       " 'flint': 107,\n",
       " 'lauren': 16,\n",
       " 'jon': 35,\n",
       " 'crystal': 94,\n",
       " 'ronald': 207,\n",
       " 'lindsey': 7,\n",
       " 'eve': 86,\n",
       " 'felice': 2,\n",
       " 'zack': 6,\n",
       " 'seamus': 447,\n",
       " 'marcus': 173,\n",
       " 'tad': 38,\n",
       " 'pat': 51,\n",
       " 'tim': 36,\n",
       " 'alicia': 203,\n",
       " 'vicky': 8,\n",
       " 'minnie': 32,\n",
       " 'bird': 193,\n",
       " 'fancy': 132,\n",
       " 'gina': 11,\n",
       " 'selene': 55,\n",
       " 'bell': 136,\n",
       " 'cat': 292,\n",
       " 'marius': 14,\n",
       " 'derek': 18,\n",
       " 'indira': 1,\n",
       " 'vernon': 283,\n",
       " 'colin': 182,\n",
       " 'lee': 204,\n",
       " 'fleur': 696,\n",
       " 'amber': 88,\n",
       " 'hannah': 222,\n",
       " 'louis': 81,\n",
       " 'scott': 49,\n",
       " 'becka': 1,\n",
       " 'honor': 114,\n",
       " 'meris': 3,\n",
       " 'angelina': 235,\n",
       " 'hunter': 29,\n",
       " 'ethan': 39,\n",
       " 'isabelle': 19,\n",
       " 'lin': 9,\n",
       " 'noble': 102,\n",
       " 'charles': 44,\n",
       " 'hamlet': 3,\n",
       " 'nicole': 4,\n",
       " 'theresa': 14,\n",
       " 'brian': 40,\n",
       " 'cherish': 17,\n",
       " 'flower': 82,\n",
       " 'wash': 99,\n",
       " 'bliss': 34,\n",
       " 'jane': 70,\n",
       " 'oreste': 1,\n",
       " 'royal': 39,\n",
       " 'millie': 33,\n",
       " 'olga': 5,\n",
       " 'joyous': 12,\n",
       " 'raven': 104,\n",
       " 'puff': 34,\n",
       " 'gates': 111,\n",
       " 'susan': 305,\n",
       " 'jeremy': 38,\n",
       " 'nessa': 5,\n",
       " 'skylar': 38,\n",
       " 'hedwig': 174,\n",
       " 'sting': 39,\n",
       " 'verge': 44,\n",
       " 'arthur': 591,\n",
       " 'shell': 80,\n",
       " 'jonathan': 25,\n",
       " 'lola': 5,\n",
       " 'becca': 7,\n",
       " 'worthy': 83,\n",
       " 'row': 132,\n",
       " 'phillip': 12,\n",
       " 'evangeline': 45,\n",
       " 'roxanne': 51,\n",
       " 'honey': 91,\n",
       " 'hazel': 71,\n",
       " 'ludwig': 6,\n",
       " 'marietta': 29,\n",
       " 'belle': 23,\n",
       " 'dominique': 38,\n",
       " 'adrian': 120,\n",
       " 'chris': 32,\n",
       " 'lucas': 73,\n",
       " 'theodore': 118,\n",
       " 'mercy': 90,\n",
       " 'sybilla': 6,\n",
       " 'vida': 2,\n",
       " 'diamond': 43,\n",
       " 'victoria': 18,\n",
       " 'carter': 15,\n",
       " 'cindy': 8,\n",
       " 'phyllida': 3,\n",
       " 'holly': 59,\n",
       " 'hamish': 4,\n",
       " 'kendra': 16,\n",
       " 'nico': 7,\n",
       " 'audrey': 54,\n",
       " 'rock': 178,\n",
       " 'dolores': 83,\n",
       " 'freddy': 8,\n",
       " 'ash': 71,\n",
       " 'anne': 18,\n",
       " 'eva': 13,\n",
       " 'mathilda': 5,\n",
       " 'romeo': 8,\n",
       " 'missy': 22,\n",
       " 'pearl': 12,\n",
       " 'sergeant': 8,\n",
       " 'rory': 39,\n",
       " 'rowena': 93,\n",
       " 'mommy': 26,\n",
       " 'dexter': 4,\n",
       " 'viola': 5,\n",
       " 'tobias': 106,\n",
       " 'kat': 72,\n",
       " 'whit': 5,\n",
       " 'owen': 13,\n",
       " 'katherine': 109,\n",
       " 'kathleen': 4,\n",
       " 'stew': 18,\n",
       " 'billy': 49,\n",
       " 'bernard': 5,\n",
       " 'hayley': 6,\n",
       " 'star': 86,\n",
       " 'alain': 20,\n",
       " 'nita': 8,\n",
       " 'iris': 47,\n",
       " 'cecily': 10,\n",
       " 'wayne': 16,\n",
       " 'roxie': 19,\n",
       " 'katie': 252,\n",
       " 'aaron': 26,\n",
       " 'phineas': 38,\n",
       " 'barbara': 3,\n",
       " 'gwen': 34,\n",
       " 'vic': 22,\n",
       " 'eliza': 42,\n",
       " 'elaine': 16,\n",
       " 'clark': 13,\n",
       " 'emma': 192,\n",
       " 'selena': 29,\n",
       " 'kellie': 13,\n",
       " 'vanessa': 29,\n",
       " 'willy': 7,\n",
       " 'trent': 9,\n",
       " 'bard': 10,\n",
       " 'ave': 20,\n",
       " 'quincy': 1,\n",
       " 'rocky': 17,\n",
       " 'hector': 19,\n",
       " 'lorenzo': 2,\n",
       " 'sapphire': 21,\n",
       " 'esther': 6,\n",
       " 'glory': 56,\n",
       " 'hercule': 1,\n",
       " 'gwendolyn': 166,\n",
       " 'florence': 20,\n",
       " 'matt': 64,\n",
       " 'cornelius': 78,\n",
       " 'penelope': 47,\n",
       " 'ava': 11,\n",
       " 'deborah': 3,\n",
       " 'myrtle': 123,\n",
       " 'van': 12,\n",
       " 'ruddy': 24,\n",
       " 'adam': 65,\n",
       " 'katerina': 6,\n",
       " 'archie': 36,\n",
       " 'fan': 91,\n",
       " 'king': 158,\n",
       " 'jordan': 49,\n",
       " 'rosalind': 5,\n",
       " 'dante': 16,\n",
       " 'evie': 6,\n",
       " 'margot': 7,\n",
       " 'jessica': 32,\n",
       " 'windy': 9,\n",
       " 'helga': 68,\n",
       " 'susannah': 14,\n",
       " 'dot': 50,\n",
       " 'thomas': 132,\n",
       " 'ruth': 3,\n",
       " 'sally': 17,\n",
       " 'dulce': 1,\n",
       " 'riley': 47,\n",
       " 'gabriel': 40,\n",
       " 'kevin': 30,\n",
       " 'grace': 117,\n",
       " 'cass': 16,\n",
       " 'jack': 87,\n",
       " 'ebony': 44,\n",
       " 'oliver': 320,\n",
       " 'amata': 2,\n",
       " 'pet': 151,\n",
       " 'nicholas': 39,\n",
       " 'parker': 19,\n",
       " 'lucy': 74,\n",
       " 'dan': 86,\n",
       " 'walden': 9,\n",
       " 'zacharias': 32,\n",
       " 'adore': 18,\n",
       " 'millicent': 77,\n",
       " 'elly': 1,\n",
       " 'helena': 59,\n",
       " 'andre': 13,\n",
       " 'art': 98,\n",
       " 'leila': 11,\n",
       " 'nev': 24,\n",
       " 'augusta': 45,\n",
       " 'malcolm': 35,\n",
       " 'catherine': 12,\n",
       " 'albert': 19,\n",
       " 'justin': 95,\n",
       " 'sal': 23,\n",
       " 'marlie': 2,\n",
       " 'kenneth': 39,\n",
       " 'yank': 23,\n",
       " 'smith': 66,\n",
       " 'jackie': 53,\n",
       " 'ariana': 47,\n",
       " 'french': 160,\n",
       " 'vlad': 10,\n",
       " 'freddie': 27,\n",
       " 'dove': 66,\n",
       " 'brenda': 12,\n",
       " 'tome': 18,\n",
       " 'fiona': 20,\n",
       " 'dusty': 64,\n",
       " 'eileen': 59,\n",
       " 'monica': 30,\n",
       " 'elena': 2,\n",
       " 'neil': 6,\n",
       " 'andrew': 31,\n",
       " 'willow': 84,\n",
       " 'lana': 7,\n",
       " 'heather': 37,\n",
       " 'ian': 55,\n",
       " 'serene': 32,\n",
       " 'lilly': 36,\n",
       " 'aura': 72,\n",
       " 'jenny': 37,\n",
       " 'cookie': 24,\n",
       " 'ollie': 57,\n",
       " 'major': 100,\n",
       " 'martha': 21,\n",
       " 'alexander': 42,\n",
       " 'horace': 59,\n",
       " 'norris': 47,\n",
       " 'gen': 10,\n",
       " 'nigel': 20,\n",
       " 'dawn': 103,\n",
       " 'andrei': 2,\n",
       " 'temple': 79,\n",
       " 'byron': 28,\n",
       " 'jule': 3,\n",
       " 'penny': 49,\n",
       " 'fabian': 46,\n",
       " 'lena': 14,\n",
       " 'liz': 31,\n",
       " 'graham': 8,\n",
       " 'ward': 193,\n",
       " 'david': 81,\n",
       " 'seth': 26,\n",
       " 'gabrielle': 157,\n",
       " 'baron': 34,\n",
       " 'tuesday': 49,\n",
       " 'town': 164,\n",
       " 'rob': 25,\n",
       " 'camilla': 21,\n",
       " 'vale': 6,\n",
       " 'amara': 2,\n",
       " 'sara': 51,\n",
       " 'angeline': 37,\n",
       " 'mandy': 42,\n",
       " 'drake': 47,\n",
       " 'tandi': 9,\n",
       " 'richard': 74,\n",
       " 'sarah': 106,\n",
       " 'alexandra': 86,\n",
       " 'mel': 34,\n",
       " 'elise': 3,\n",
       " 'pen': 46,\n",
       " 'phil': 6,\n",
       " 'bennet': 1,\n",
       " 'minny': 1,\n",
       " 'earl': 13,\n",
       " 'michael': 203,\n",
       " 'yard': 54,\n",
       " 'skip': 55,\n",
       " 'ruby': 51,\n",
       " 'bunny': 28,\n",
       " 'tilly': 16,\n",
       " 'davis': 33,\n",
       " 'sterling': 4,\n",
       " 'mathias': 2,\n",
       " 'john': 159,\n",
       " 'bay': 44,\n",
       " 'corey': 3,\n",
       " 'clara': 51,\n",
       " 'rufus': 29,\n",
       " 'rab': 5,\n",
       " 'galen': 7,\n",
       " 'timothee': 14,\n",
       " 'jess': 7,\n",
       " 'hetty': 18,\n",
       " 'arabella': 69,\n",
       " 'stern': 117,\n",
       " 'xavier': 18,\n",
       " 'ashley': 16,\n",
       " 'tiffany': 9,\n",
       " 'frank': 191,\n",
       " 'briana': 1,\n",
       " 'lacey': 11,\n",
       " 'terrance': 3,\n",
       " 'lavinia': 9,\n",
       " 'paige': 30,\n",
       " 'carolyn': 2,\n",
       " 'ivan': 4,\n",
       " 'nicola': 5,\n",
       " 'chad': 2,\n",
       " 'merle': 1,\n",
       " 'delia': 11,\n",
       " 'mary': 152,\n",
       " 'park': 88,\n",
       " 'bob': 44,\n",
       " 'regina': 9,\n",
       " 'maya': 28,\n",
       " 'pier': 5,\n",
       " 'finn': 34,\n",
       " 'rich': 122,\n",
       " 'candy': 99,\n",
       " 'ben': 52,\n",
       " 'elisa': 4,\n",
       " 'samara': 13,\n",
       " 'alan': 22,\n",
       " 'tabby': 12,\n",
       " 'calypso': 13,\n",
       " 'monika': 5,\n",
       " 'jonah': 38,\n",
       " 'jocelyn': 10,\n",
       " 'hailey': 23,\n",
       " 'ted': 118,\n",
       " 'ari': 19,\n",
       " 'harmony': 42,\n",
       " 'butler': 9,\n",
       " 'lust': 87,\n",
       " 'elora': 4,\n",
       " 'gerry': 1,\n",
       " 'wright': 3,\n",
       " 'pierson': 1,\n",
       " 'antonin': 91,\n",
       " 'cal': 23,\n",
       " 'astrid': 23,\n",
       " 'casey': 16,\n",
       " 'robert': 47,\n",
       " 'magnus': 23,\n",
       " 'yoshi': 2,\n",
       " 'vera': 10,\n",
       " 'ventura': 1,\n",
       " 'wit': 32,\n",
       " 'darth': 4,\n",
       " 'lion': 80,\n",
       " 'andrea': 12,\n",
       " 'roxy': 19,\n",
       " 'carl': 3,\n",
       " 'brittany': 7,\n",
       " 'annie': 32,\n",
       " 'chase': 83,\n",
       " 'eloise': 20,\n",
       " 'kit': 37,\n",
       " 'angus': 10,\n",
       " 'ida': 2,\n",
       " 'mia': 42,\n",
       " 'guinevere': 6,\n",
       " 'ara': 15,\n",
       " 'lucia': 4,\n",
       " 'maud': 19,\n",
       " 'sabrina': 14,\n",
       " 'trish': 7,\n",
       " 'ellen': 12,\n",
       " 'lou': 5,\n",
       " 'nevil': 1,\n",
       " 'clement': 1,\n",
       " 'buddy': 19,\n",
       " 'sheena': 2,\n",
       " 'micah': 1,\n",
       " 'rebecca': 41,\n",
       " 'simone': 4,\n",
       " 'victor': 52,\n",
       " 'joe': 9,\n",
       " 'doll': 44,\n",
       " 'vance': 12,\n",
       " 'matilda': 14,\n",
       " 'jacob': 34,\n",
       " 'estella': 24,\n",
       " 'pandora': 31,\n",
       " 'william': 90,\n",
       " 'storm': 132,\n",
       " 'bride': 52,\n",
       " 'georgie': 16,\n",
       " 'henry': 62,\n",
       " 'damien': 51,\n",
       " 'sasha': 25,\n",
       " 'bishop': 19,\n",
       " 'camellia': 3,\n",
       " 'kirsten': 9,\n",
       " 'patricia': 17,\n",
       " 'danny': 48,\n",
       " 'edward': 29,\n",
       " 'canada': 13,\n",
       " 'craig': 12,\n",
       " 'marissa': 6,\n",
       " 'jewel': 28,\n",
       " 'gene': 12,\n",
       " 'mike': 24,\n",
       " 'diana': 18,\n",
       " 'ambrose': 13,\n",
       " 'hayden': 12,\n",
       " 'melanie': 18,\n",
       " 'barn': 25,\n",
       " 'sylvester': 1,\n",
       " 'sunny': 37,\n",
       " 'marshall': 3,\n",
       " 'easter': 42,\n",
       " 'beck': 7,\n",
       " 'rupert': 14,\n",
       " 'stefan': 4,\n",
       " 'witty': 19,\n",
       " 'annette': 7,\n",
       " 'janie': 32,\n",
       " 'jaime': 9,\n",
       " 'kingston': 1,\n",
       " 'jonas': 10,\n",
       " 'mattie': 7,\n",
       " 'pail': 2,\n",
       " 'michelle': 34,\n",
       " 'audra': 4,\n",
       " 'emily': 82,\n",
       " 'cameron': 11,\n",
       " 'charlotte': 35,\n",
       " 'fortune': 65,\n",
       " 'constantine': 2,\n",
       " 'janus': 6,\n",
       " 'eli': 19,\n",
       " 'sean': 34,\n",
       " 'lorry': 4,\n",
       " 'amy': 30,\n",
       " 'elwood': 4,\n",
       " 'dom': 50,\n",
       " 'elizabeth': 132,\n",
       " 'lester': 4,\n",
       " 'vince': 24,\n",
       " 'melinda': 10,\n",
       " 'miriam': 11,\n",
       " 'sly': 56,\n",
       " 'vincent': 41,\n",
       " 'natalie': 31,\n",
       " 'barney': 8,\n",
       " 'reed': 2,\n",
       " 'isaiah': 5,\n",
       " 'ally': 64,\n",
       " 'stephen': 22,\n",
       " 'carina': 16,\n",
       " 'aubrey': 15,\n",
       " 'steward': 5,\n",
       " 'verena': 15,\n",
       " 'elfie': 1,\n",
       " 'myra': 26,\n",
       " 'lilith': 23,\n",
       " 'fina': 5,\n",
       " 'trace': 120,\n",
       " 'lancelot': 7,\n",
       " 'kai': 15,\n",
       " 'bailey': 14,\n",
       " 'curt': 30,\n",
       " 'fox': 37,\n",
       " 'rickie': 2,\n",
       " 'brewer': 6,\n",
       " 'helen': 104,\n",
       " 'violet': 53,\n",
       " 'blake': 29,\n",
       " 'brianna': 22,\n",
       " 'chloe': 38,\n",
       " 'turner': 38,\n",
       " 'imogen': 17,\n",
       " 'christopher': 19,\n",
       " 'curtis': 9,\n",
       " 'malorie': 22,\n",
       " 'han': 6,\n",
       " 'ellie': 21,\n",
       " 'izzy': 19,\n",
       " 'charity': 37,\n",
       " 'meyer': 2,\n",
       " 'sofia': 19,\n",
       " 'nathan': 16,\n",
       " 'katrina': 59,\n",
       " 'barb': 5,\n",
       " 'cassandra': 36,\n",
       " 'lara': 5,\n",
       " 'connor': 50,\n",
       " 'leah': 26,\n",
       " 'amanda': 33,\n",
       " 'lars': 1,\n",
       " 'maurice': 37,\n",
       " 'ella': 58,\n",
       " 'antonio': 5,\n",
       " 'luci': 11,\n",
       " 'bonnie': 13,\n",
       " 'sunshine': 44,\n",
       " 'stacey': 3,\n",
       " 'wesley': 16,\n",
       " 'alf': 11,\n",
       " 'valentine': 57,\n",
       " 'val': 7,\n",
       " 'rena': 2,\n",
       " 'nil': 3,\n",
       " 'misty': 27,\n",
       " 'matthias': 9,\n",
       " 'conrad': 9,\n",
       " 'hill': 91,\n",
       " 'claudia': 10,\n",
       " 'kassandra': 2,\n",
       " 'chandra': 1,\n",
       " 'miranda': 31,\n",
       " 'trevor': 29,\n",
       " 'glenna': 5,\n",
       " 'benny': 2,\n",
       " 'murray': 4,\n",
       " 'gale': 11,\n",
       " 'darian': 1,\n",
       " 'danielle': 17,\n",
       " 'montague': 35,\n",
       " 'gideon': 53,\n",
       " 'nina': 4,\n",
       " 'norbert': 16,\n",
       " 'juliette': 8,\n",
       " 'marguerite': 6,\n",
       " 'tori': 34,\n",
       " 'sam': 85,\n",
       " 'liam': 40,\n",
       " 'demetra': 1,\n",
       " 'estelle': 8,\n",
       " 'anthony': 68,\n",
       " 'sandra': 12,\n",
       " 'leonora': 2,\n",
       " 'nevins': 5,\n",
       " 'ross': 5,\n",
       " 'tyson': 2,\n",
       " 'igor': 17,\n",
       " 'melody': 52,\n",
       " 'luke': 46,\n",
       " 'melissa': 27,\n",
       " 'ingrid': 3,\n",
       " 'stewart': 7,\n",
       " 'charis': 3,\n",
       " 'monroe': 5,\n",
       " 'lina': 5,\n",
       " 'geoffrey': 5,\n",
       " 'lex': 2,\n",
       " 'connie': 5,\n",
       " 'modesty': 11,\n",
       " 'giles': 9,\n",
       " 'pete': 27,\n",
       " 'marley': 13,\n",
       " 'di': 8,\n",
       " 'jay': 16,\n",
       " 'rusty': 17,\n",
       " 'alec': 46,\n",
       " 'weston': 4,\n",
       " 'herb': 10,\n",
       " 'celeste': 13,\n",
       " 'warner': 22,\n",
       " 'demetria': 5,\n",
       " 'starr': 11,\n",
       " 'seymour': 9,\n",
       " 'annabella': 2,\n",
       " 'kitty': 20,\n",
       " 'leshia': 34,\n",
       " 'allen': 10,\n",
       " 'bren': 1,\n",
       " 'valeria': 12,\n",
       " 'julian': 49,\n",
       " 'ericka': 1,\n",
       " 'wallis': 2,\n",
       " 'serena': 75,\n",
       " 'walter': 17,\n",
       " 'cami': 3,\n",
       " 'trixie': 13,\n",
       " 'aidan': 28,\n",
       " 'avi': 5,\n",
       " 'tessa': 5,\n",
       " 'kittie': 4,\n",
       " 'hestia': 68,\n",
       " 'pierre': 9,\n",
       " 'kendrick': 1,\n",
       " 'nikolai': 7,\n",
       " 'effie': 11,\n",
       " 'liana': 43,\n",
       " 'adams': 10,\n",
       " 'arnold': 11,\n",
       " 'cathie': 14,\n",
       " 'naomi': 15,\n",
       " 'erik': 9,\n",
       " 'tonia': 6,\n",
       " 'abbott': 22,\n",
       " 'sophie': 29,\n",
       " 'errol': 9,\n",
       " 'jerold': 3,\n",
       " 'cooper': 6,\n",
       " 'tan': 19,\n",
       " 'nell': 3,\n",
       " 'reg': 27,\n",
       " 'felix': 32,\n",
       " 'madison': 10,\n",
       " 'hortense': 2,\n",
       " 'diane': 5,\n",
       " 'julia': 27,\n",
       " 'chandler': 1,\n",
       " 'emmaline': 4,\n",
       " 'dorie': 1,\n",
       " 'alia': 2,\n",
       " 'giacomo': 1,\n",
       " 'skye': 5,\n",
       " 'gisele': 19,\n",
       " 'bee': 9,\n",
       " 'max': 44,\n",
       " 'luce': 2,\n",
       " 'rolf': 57,\n",
       " 'melania': 2,\n",
       " 'annabelle': 33,\n",
       " 'donnie': 2,\n",
       " 'barnett': 4,\n",
       " 'sophia': 7,\n",
       " 'shorty': 7,\n",
       " 'camel': 7,\n",
       " 'auria': 14,\n",
       " 'randy': 10,\n",
       " 'thorn': 13,\n",
       " 'kate': 26,\n",
       " 'jeffery': 2,\n",
       " 'clancy': 1,\n",
       " 'hugh': 17,\n",
       " 'brigitte': 1,\n",
       " 'barbie': 4,\n",
       " 'web': 19,\n",
       " 'pippa': 3,\n",
       " 'evelyn': 23,\n",
       " 'apollo': 10,\n",
       " 'alanna': 14,\n",
       " 'andreas': 11,\n",
       " 'hari': 2,\n",
       " 'henri': 44,\n",
       " 'jim': 34,\n",
       " 'jessie': 22,\n",
       " 'crawford': 4,\n",
       " 'edie': 4,\n",
       " 'tony': 27,\n",
       " 'sheldon': 10,\n",
       " 'timothy': 9,\n",
       " 'stan': 32,\n",
       " 'ritchie': 8,\n",
       " 'aphrodite': 2,\n",
       " 'reginald': 12,\n",
       " 'hermia': 6,\n",
       " 'elfrida': 1,\n",
       " 'marion': 6,\n",
       " 'logan': 17,\n",
       " 'spike': 13,\n",
       " 'jose': 1,\n",
       " 'frances': 3,\n",
       " 'monique': 2,\n",
       " 'alastair': 2,\n",
       " 'jacques': 5,\n",
       " 'ursula': 10,\n",
       " 'ed': 19,\n",
       " 'courtney': 11,\n",
       " 'brad': 7,\n",
       " 'nadia': 32,\n",
       " 'ariel': 31,\n",
       " 'tab': 8,\n",
       " 'astra': 8,\n",
       " 'claire': 39,\n",
       " 'stanford': 6,\n",
       " 'chuck': 13,\n",
       " 'francesca': 2,\n",
       " 'joyce': 2,\n",
       " 'maggie': 23,\n",
       " 'odessa': 5,\n",
       " 'brook': 4,\n",
       " 'darren': 5,\n",
       " 'constance': 11,\n",
       " 'roger': 40,\n",
       " 'aline': 11,\n",
       " 'cyrus': 36,\n",
       " 'corny': 7,\n",
       " 'brooke': 7,\n",
       " 'jameson': 6,\n",
       " 'abagail': 13,\n",
       " 'roderick': 7,\n",
       " 'hasty': 34,\n",
       " 'augustus': 19,\n",
       " 'trudy': 1,\n",
       " 'cole': 26,\n",
       " 'valerie': 22,\n",
       " 'donald': 12,\n",
       " 'asia': 8,\n",
       " 'ken': 7,\n",
       " 'frannie': 3,\n",
       " 'cordula': 2,\n",
       " 'waiter': 29,\n",
       " 'thadeus': 1,\n",
       " 'leo': 80,\n",
       " 'sherlock': 6,\n",
       " 'jules': 8,\n",
       " 'nate': 8,\n",
       " 'lewis': 16,\n",
       " 'amos': 43,\n",
       " 'jacinta': 4,\n",
       " 'cele': 3,\n",
       " 'ewan': 12,\n",
       " 'kristy': 1,\n",
       " 'simon': 26,\n",
       " 'ronnie': 24,\n",
       " 'julianna': 1,\n",
       " 'bianca': 11,\n",
       " 'torie': 3,\n",
       " 'cameo': 2,\n",
       " 'briggs': 2,\n",
       " 'belinda': 11,\n",
       " 'francis': 11,\n",
       " 'von': 14,\n",
       " 'jade': 71,\n",
       " 'leon': 12,\n",
       " 'martin': 36,\n",
       " 'toby': 12,\n",
       " 'lil': 23,\n",
       " 'joseph': 13,\n",
       " 'marge': 27,\n",
       " 'wells': 6,\n",
       " 'tate': 5,\n",
       " 'alana': 10,\n",
       " 'spenser': 1,\n",
       " 'winston': 6,\n",
       " 'reggie': 12,\n",
       " 'stormy': 27,\n",
       " 'fionna': 1,\n",
       " 'august': 96,\n",
       " 'brady': 9,\n",
       " 'ambrosia': 3,\n",
       " 'bethany': 7,\n",
       " 'sheffield': 3,\n",
       " 'dee': 7,\n",
       " 'brandi': 1,\n",
       " 'bea': 7,\n",
       " 'levy': 2,\n",
       " 'jesse': 14,\n",
       " 'austen': 3,\n",
       " 'marsha': 4,\n",
       " 'demeter': 4,\n",
       " 'allie': 11,\n",
       " 'melly': 1,\n",
       " 'griselda': 5,\n",
       " 'meg': 6,\n",
       " 'saul': 4,\n",
       " 'gavin': 21,\n",
       " 'samantha': 31,\n",
       " 'bertram': 8,\n",
       " 'garry': 1,\n",
       " 'robin': 16,\n",
       " 'rosemary': 31,\n",
       " 'kailey': 8,\n",
       " 'jake': 42,\n",
       " 'dunstan': 3,\n",
       " 'erika': 6,\n",
       " 'abraham': 8,\n",
       " 'virginia': 19,\n",
       " 'rosaline': 5,\n",
       " 'norman': 3,\n",
       " 'phoebe': 17,\n",
       " 'carmella': 1,\n",
       " 'julius': 19,\n",
       " 'cliff': 45,\n",
       " 'damian': 13,\n",
       " 'rosie': 77,\n",
       " 'ravi': 2,\n",
       " 'tiff': 6,\n",
       " 'gretel': 1,\n",
       " 'theodoric': 1,\n",
       " 'esmeralda': 7,\n",
       " 'wilson': 5,\n",
       " 'ferdinand': 2,\n",
       " 'vivienne': 6,\n",
       " 'danni': 2,\n",
       " 'rice': 15,\n",
       " 'anton': 9,\n",
       " 'gertrude': 4,\n",
       " 'esme': 3,\n",
       " 'agata': 2,\n",
       " 'anatole': 1,\n",
       " 'montgomery': 4,\n",
       " 'carol': 5,\n",
       " 'travers': 21,\n",
       " 'kyla': 15,\n",
       " 'nikki': 11,\n",
       " 'maura': 7,\n",
       " 'henrietta': 8,\n",
       " 'alis': 1,\n",
       " 'gracie': 15,\n",
       " 'anya': 11,\n",
       " 'kenny': 9,\n",
       " 'hayes': 5,\n",
       " 'josephine': 4,\n",
       " 'denise': 1,\n",
       " 'abigail': 42,\n",
       " ...}"
      ]
     },
     "execution_count": 15,
     "metadata": {},
     "output_type": "execute_result"
    }
   ],
   "source": [
    "#так как на всех данных считается очень долго берем сэмпл\n",
    "from random import sample\n",
    "corpus_sampled = sample(corpus, len(corpus)//100)\n",
    "names_in_corpus = dict()\n",
    "for token in tqdm(corpus_sampled):\n",
    "    if token in names_lower:\n",
    "        if token in names_in_corpus.keys():\n",
    "            names_in_corpus[token] += 1\n",
    "        else:\n",
    "            names_in_corpus[token] = 1\n",
    "\n",
    "names_in_corpus   "
   ]
  },
  {
   "cell_type": "code",
   "execution_count": 16,
   "metadata": {},
   "outputs": [
    {
     "name": "stdout",
     "output_type": "stream",
     "text": [
      "harry 39809\n",
      "hermione 18451\n",
      "ron 9098\n",
      "see 7424\n",
      "way 6639\n",
      "ginny 6308\n",
      "james 4608\n",
      "remus 4292\n",
      "lily 4151\n",
      "say 4106\n",
      "love 3351\n",
      "saw 3338\n",
      "else 2258\n",
      "neville 2207\n",
      "lucius 2103\n",
      "luna 1833\n"
     ]
    }
   ],
   "source": [
    "#сортируем и выводим топ\n",
    "names_in_corpus_sorted = {k: v for k, v in sorted(names_in_corpus.items(), key=lambda item: -item[1])}\n",
    "for name in list(names_in_corpus_sorted.keys())[:16]:\n",
    "    print(name, names_in_corpus_sorted[name])"
   ]
  },
  {
   "cell_type": "code",
   "execution_count": null,
   "metadata": {},
   "outputs": [],
   "source": []
  },
  {
   "cell_type": "code",
   "execution_count": null,
   "metadata": {},
   "outputs": [],
   "source": []
  },
  {
   "cell_type": "code",
   "execution_count": null,
   "metadata": {},
   "outputs": [],
   "source": []
  },
  {
   "cell_type": "code",
   "execution_count": null,
   "metadata": {},
   "outputs": [],
   "source": []
  },
  {
   "cell_type": "markdown",
   "metadata": {},
   "source": [
    "### Часть 3"
   ]
  },
  {
   "cell_type": "markdown",
   "metadata": {},
   "source": [
    "train, test, dev файлы"
   ]
  },
  {
   "cell_type": "code",
   "execution_count": null,
   "metadata": {},
   "outputs": [],
   "source": [
    "#Функция для очистки пунктуации и стоп-слов\n",
    "def delete_stop_words(words):\n",
    "    stops = stopwords.words(\"english\") + list(string.punctuation) + ['--', '...', '``', \"''\", 'a.n',\n",
    "                                                                     '\\'s', '\\'d', '\\'ve', '\\'re', '\\'m']\n",
    "    clean_words = [re.sub(\"\\S*\\d\\S*\", \"\", token).strip() for token in words if token not in stops] \n",
    "    clean_words = [token for token in clean_words if len(token) > 1]\n",
    "    return clean_words\n",
    "\n",
    "#Функция для лемматизации https://www.guru99.com/stemming-lemmatization-python-nltk.html\n",
    "\n",
    "tag_map = defaultdict(lambda : wn.NOUN)\n",
    "tag_map['J'] = wn.ADJ\n",
    "tag_map['V'] = wn.VERB\n",
    "tag_map['R'] = wn.ADV\n",
    "\n",
    "def lemmatize_func(tokens):\n",
    "    lemma_function = WordNetLemmatizer()\n",
    "    lemmas = [lemma_function.lemmatize(token, tag_map[tag[0]]) for token, tag in pos_tag(tokens)]\n",
    "    return lemmas"
   ]
  },
  {
   "cell_type": "code",
   "execution_count": 42,
   "metadata": {},
   "outputs": [],
   "source": [
    "import csv\n",
    "import fasttext\n",
    "import pandas as pd\n",
    "from sklearn.metrics import f1_score, classification_report"
   ]
  },
  {
   "cell_type": "code",
   "execution_count": 36,
   "metadata": {},
   "outputs": [
    {
     "name": "stdout",
     "output_type": "stream",
     "text": [
      "Collecting fasttext\n",
      "  Downloading fasttext-0.9.2.tar.gz (68 kB)\n",
      "\u001b[K     |████████████████████████████████| 68 kB 748 kB/s eta 0:00:01\n",
      "\u001b[?25hCollecting pybind11>=2.2\n",
      "  Using cached pybind11-2.10.1-py3-none-any.whl (216 kB)\n",
      "Requirement already satisfied: setuptools>=0.7.0 in /Users/19652726/opt/anaconda3/lib/python3.9/site-packages (from fasttext) (61.2.0)\n",
      "Requirement already satisfied: numpy in /Users/19652726/opt/anaconda3/lib/python3.9/site-packages (from fasttext) (1.21.5)\n",
      "Building wheels for collected packages: fasttext\n",
      "  Building wheel for fasttext (setup.py) ... \u001b[?25ldone\n",
      "\u001b[?25h  Created wheel for fasttext: filename=fasttext-0.9.2-cp39-cp39-macosx_10_16_x86_64.whl size=303819 sha256=0bf677a4bdb7b5360bb799c07f87f349acd2704a95accb3f51de6367e56cdade\n",
      "  Stored in directory: /Users/19652726/Library/Caches/pip/wheels/64/57/bc/1741406019061d5664914b070bd3e71f6244648732bc96109e\n",
      "Successfully built fasttext\n",
      "Installing collected packages: pybind11, fasttext\n",
      "Successfully installed fasttext-0.9.2 pybind11-2.10.1\n",
      "Note: you may need to restart the kernel to use updated packages.\n"
     ]
    }
   ],
   "source": [
    "pip install fasttext"
   ]
  },
  {
   "cell_type": "code",
   "execution_count": 12,
   "metadata": {},
   "outputs": [],
   "source": [
    "train_dataset = pd.read_csv(open(\"hpac_corpus/hpac_training_128.tsv\"), \n",
    "                            delimiter=\"\\t\",\n",
    "                            names=['id', 'spell', 'text'],\n",
    "                            header=None) \n",
    "\n",
    "dev_dataset = pd.read_csv(open(\"hpac_corpus/hpac_dev_128.tsv\"), \n",
    "                            delimiter=\"\\t\",\n",
    "                            names=['id', 'spell', 'text'],\n",
    "                            header=None) \n",
    "\n",
    "test_dataset = pd.read_csv(open(\"hpac_corpus/hpac_test_128.tsv\"), \n",
    "                            delimiter=\"\\t\",\n",
    "                            names=['id', 'spell', 'text'],\n",
    "                            header=None) "
   ]
  },
  {
   "cell_type": "code",
   "execution_count": 14,
   "metadata": {},
   "outputs": [
    {
     "data": {
      "text/html": [
       "<div>\n",
       "<style scoped>\n",
       "    .dataframe tbody tr th:only-of-type {\n",
       "        vertical-align: middle;\n",
       "    }\n",
       "\n",
       "    .dataframe tbody tr th {\n",
       "        vertical-align: top;\n",
       "    }\n",
       "\n",
       "    .dataframe thead th {\n",
       "        text-align: right;\n",
       "    }\n",
       "</style>\n",
       "<table border=\"1\" class=\"dataframe\">\n",
       "  <thead>\n",
       "    <tr style=\"text-align: right;\">\n",
       "      <th></th>\n",
       "      <th>id</th>\n",
       "      <th>spell</th>\n",
       "      <th>text</th>\n",
       "    </tr>\n",
       "  </thead>\n",
       "  <tbody>\n",
       "    <tr>\n",
       "      <th>0</th>\n",
       "      <td>7642954.0.676</td>\n",
       "      <td>RIDDIKULUS</td>\n",
       "      <td>were staring at her . she was up next to face ...</td>\n",
       "    </tr>\n",
       "    <tr>\n",
       "      <th>1</th>\n",
       "      <td>10443333.0.5753</td>\n",
       "      <td>RIDDIKULUS</td>\n",
       "      <td>that whole time . her first reaction , for whi...</td>\n",
       "    </tr>\n",
       "    <tr>\n",
       "      <th>2</th>\n",
       "      <td>4703706.0.8690</td>\n",
       "      <td>STUPEFY</td>\n",
       "      <td>we watched his inglorious withdrawal together ...</td>\n",
       "    </tr>\n",
       "    <tr>\n",
       "      <th>3</th>\n",
       "      <td>4593427.0.1815</td>\n",
       "      <td>ACCIO</td>\n",
       "      <td>my wand , `` incendio . '' this wretched chill...</td>\n",
       "    </tr>\n",
       "    <tr>\n",
       "      <th>4</th>\n",
       "      <td>4278446.0.2692</td>\n",
       "      <td>EXPELLIARMUS</td>\n",
       "      <td>already compared ours , they 're the same ever...</td>\n",
       "    </tr>\n",
       "    <tr>\n",
       "      <th>...</th>\n",
       "      <td>...</td>\n",
       "      <td>...</td>\n",
       "      <td>...</td>\n",
       "    </tr>\n",
       "    <tr>\n",
       "      <th>60975</th>\n",
       "      <td>2790536.0.136</td>\n",
       "      <td>CRUCIO</td>\n",
       "      <td>, evenly matched . good against evil . light a...</td>\n",
       "    </tr>\n",
       "    <tr>\n",
       "      <th>60976</th>\n",
       "      <td>7553216.0.1500</td>\n",
       "      <td>ACCIO</td>\n",
       "      <td>the professor then turned and walked into the ...</td>\n",
       "    </tr>\n",
       "    <tr>\n",
       "      <th>60977</th>\n",
       "      <td>2721339.0.1040</td>\n",
       "      <td>DIFFINDO</td>\n",
       "      <td>ran through the crowd below . she felt her eye...</td>\n",
       "    </tr>\n",
       "    <tr>\n",
       "      <th>60978</th>\n",
       "      <td>2569402.0.4724</td>\n",
       "      <td>INCENDIO</td>\n",
       "      <td>ministry a decade ago . they recorded his thou...</td>\n",
       "    </tr>\n",
       "    <tr>\n",
       "      <th>60979</th>\n",
       "      <td>11118965.0.4734</td>\n",
       "      <td>POINT_ME</td>\n",
       "      <td>mungo 's to be more `` lucrative '' than the m...</td>\n",
       "    </tr>\n",
       "  </tbody>\n",
       "</table>\n",
       "<p>60980 rows × 3 columns</p>\n",
       "</div>"
      ],
      "text/plain": [
       "                    id         spell  \\\n",
       "0        7642954.0.676    RIDDIKULUS   \n",
       "1      10443333.0.5753    RIDDIKULUS   \n",
       "2       4703706.0.8690       STUPEFY   \n",
       "3       4593427.0.1815         ACCIO   \n",
       "4       4278446.0.2692  EXPELLIARMUS   \n",
       "...                ...           ...   \n",
       "60975    2790536.0.136        CRUCIO   \n",
       "60976   7553216.0.1500         ACCIO   \n",
       "60977   2721339.0.1040      DIFFINDO   \n",
       "60978   2569402.0.4724      INCENDIO   \n",
       "60979  11118965.0.4734      POINT_ME   \n",
       "\n",
       "                                                    text  \n",
       "0      were staring at her . she was up next to face ...  \n",
       "1      that whole time . her first reaction , for whi...  \n",
       "2      we watched his inglorious withdrawal together ...  \n",
       "3      my wand , `` incendio . '' this wretched chill...  \n",
       "4      already compared ours , they 're the same ever...  \n",
       "...                                                  ...  \n",
       "60975  , evenly matched . good against evil . light a...  \n",
       "60976  the professor then turned and walked into the ...  \n",
       "60977  ran through the crowd below . she felt her eye...  \n",
       "60978  ministry a decade ago . they recorded his thou...  \n",
       "60979  mungo 's to be more `` lucrative '' than the m...  \n",
       "\n",
       "[60980 rows x 3 columns]"
      ]
     },
     "execution_count": 14,
     "metadata": {},
     "output_type": "execute_result"
    }
   ],
   "source": [
    "train_dataset"
   ]
  },
  {
   "cell_type": "code",
   "execution_count": 15,
   "metadata": {},
   "outputs": [
    {
     "data": {
      "text/plain": [
       "('RIDDIKULUS',\n",
       " \"were staring at her . she was up next to face the boggart in defense against the dark arts class . she was not scared , but what she was worried about was what had happened with lysander . she looked up at the boggart in front of her which had previously been a humongous spider . its eyes locked on her . before she could think of what frightened her , the spider transformed into lysander . he was dying . there were giggles coming from the male and female hufflepuff students . there was a smirk on lorcan 's face . `` lily help me '' i ca n't fail this class because of a secret love . lily lifted her wand and said , ``\")"
      ]
     },
     "execution_count": 15,
     "metadata": {},
     "output_type": "execute_result"
    }
   ],
   "source": [
    "train_dataset.iloc[0][1], train_dataset.iloc[0][2]"
   ]
  },
  {
   "cell_type": "code",
   "execution_count": 16,
   "metadata": {},
   "outputs": [
    {
     "name": "stdout",
     "output_type": "stream",
     "text": [
      "Overall number of images in train dataset:  60980\n",
      "Overall number of classes:  85\n"
     ]
    }
   ],
   "source": [
    "#В датасете 60980 примеров и 85 классов\n",
    "spell_counts = train_dataset.loc[:, 'spell'].value_counts()\n",
    "count_by_classes = {}\n",
    "for label in set(train_dataset.loc[:, 'spell']):\n",
    "    count_by_classes[label] = spell_counts[label]\n",
    "\n",
    "print(\"Overall number of images in train dataset: \", len(train_dataset))\n",
    "print(\"Overall number of classes: \", len(count_by_classes.keys()))"
   ]
  },
  {
   "cell_type": "code",
   "execution_count": 18,
   "metadata": {},
   "outputs": [
    {
     "data": {
      "image/png": "[encoded data removed]",
      "text/plain": [
       "<Figure size 1080x720 with 1 Axes>"
      ]
     },
     "metadata": {
      "needs_background": "light"
     },
     "output_type": "display_data"
    }
   ],
   "source": [
    "#явный дисбаланс классов\n",
    "import matplotlib.pyplot as plt\n",
    "sorted_dict = dict(sorted(count_by_classes.items(), key=lambda x: x[1]))\n",
    "classes = list(sorted_dict.keys())\n",
    "values = list(sorted_dict.values())\n",
    "\n",
    "fig = plt.figure(figsize=(15, 10))\n",
    "ax = fig.add_axes([0,0,3,1.5])\n",
    "ax.bar(classes, values)\n",
    "plt.xticks(rotation=90, size=24)\n",
    "plt.yticks(size=24)\n",
    "plt.show()"
   ]
  },
  {
   "cell_type": "code",
   "execution_count": 23,
   "metadata": {
    "id": "spl1vreGuE9R"
   },
   "outputs": [],
   "source": [
    "#предобработаем данные\n",
    "train_dataset.loc[:, 'text'] = train_dataset.loc[:, 'text'].apply(lambda x: ' '.join(delete_stop_words(x.split())))\n",
    "train_dataset.loc[:, 'text'] = train_dataset.loc[:, 'text'].apply(lambda x: ' '.join(lemmatize_func(x.split()))) "
   ]
  },
  {
   "cell_type": "code",
   "execution_count": 24,
   "metadata": {
    "id": "SUCu4JlsuE9R"
   },
   "outputs": [],
   "source": [
    "dev_dataset.loc[:, 'text'] = dev_dataset.loc[:, 'text'].apply(lambda x: ' '.join(delete_stop_words(x.split())))\n",
    "dev_dataset.loc[:, 'text'] = dev_dataset.loc[:, 'text'].apply(lambda x: ' '.join(lemmatize_func(x.split()))) "
   ]
  },
  {
   "cell_type": "code",
   "execution_count": 25,
   "metadata": {
    "id": "W1-54_RBuE9S"
   },
   "outputs": [],
   "source": [
    "test_dataset.loc[:, 'text'] = test_dataset.loc[:, 'text'].apply(lambda x: ' '.join(delete_stop_words(x.split())))\n",
    "test_dataset.loc[:, 'text'] = test_dataset.loc[:, 'text'].apply(lambda x: ' '.join(lemmatize_func(x.split()))) "
   ]
  },
  {
   "cell_type": "code",
   "execution_count": 26,
   "metadata": {
    "id": "ytJZLkDBuE9S",
    "outputId": "8c88d953-574d-48f5-985e-5dcaccf2e729",
    "scrolled": true
   },
   "outputs": [
    {
     "data": {
      "text/html": [
       "<div>\n",
       "<style scoped>\n",
       "    .dataframe tbody tr th:only-of-type {\n",
       "        vertical-align: middle;\n",
       "    }\n",
       "\n",
       "    .dataframe tbody tr th {\n",
       "        vertical-align: top;\n",
       "    }\n",
       "\n",
       "    .dataframe thead th {\n",
       "        text-align: right;\n",
       "    }\n",
       "</style>\n",
       "<table border=\"1\" class=\"dataframe\">\n",
       "  <thead>\n",
       "    <tr style=\"text-align: right;\">\n",
       "      <th></th>\n",
       "      <th>id</th>\n",
       "      <th>spell</th>\n",
       "      <th>text</th>\n",
       "    </tr>\n",
       "  </thead>\n",
       "  <tbody>\n",
       "    <tr>\n",
       "      <th>0</th>\n",
       "      <td>7642954.0.676</td>\n",
       "      <td>RIDDIKULUS</td>\n",
       "      <td>star next face boggart defense dark art class ...</td>\n",
       "    </tr>\n",
       "    <tr>\n",
       "      <th>1</th>\n",
       "      <td>10443333.0.5753</td>\n",
       "      <td>RIDDIKULUS</td>\n",
       "      <td>whole time first reaction felt quite proud sin...</td>\n",
       "    </tr>\n",
       "    <tr>\n",
       "      <th>2</th>\n",
       "      <td>4703706.0.8690</td>\n",
       "      <td>STUPEFY</td>\n",
       "      <td>watch inglorious withdrawal together accompany...</td>\n",
       "    </tr>\n",
       "    <tr>\n",
       "      <th>3</th>\n",
       "      <td>4593427.0.1815</td>\n",
       "      <td>ACCIO</td>\n",
       "      <td>wand incendio wretched chilly weather get nerv...</td>\n",
       "    </tr>\n",
       "    <tr>\n",
       "      <th>4</th>\n",
       "      <td>4278446.0.2692</td>\n",
       "      <td>EXPELLIARMUS</td>\n",
       "      <td>already compare everyday al give let see dada ...</td>\n",
       "    </tr>\n",
       "  </tbody>\n",
       "</table>\n",
       "</div>"
      ],
      "text/plain": [
       "                id         spell  \\\n",
       "0    7642954.0.676    RIDDIKULUS   \n",
       "1  10443333.0.5753    RIDDIKULUS   \n",
       "2   4703706.0.8690       STUPEFY   \n",
       "3   4593427.0.1815         ACCIO   \n",
       "4   4278446.0.2692  EXPELLIARMUS   \n",
       "\n",
       "                                                text  \n",
       "0  star next face boggart defense dark art class ...  \n",
       "1  whole time first reaction felt quite proud sin...  \n",
       "2  watch inglorious withdrawal together accompany...  \n",
       "3  wand incendio wretched chilly weather get nerv...  \n",
       "4  already compare everyday al give let see dada ...  "
      ]
     },
     "execution_count": 26,
     "metadata": {},
     "output_type": "execute_result"
    }
   ],
   "source": [
    "train_dataset.head()"
   ]
  },
  {
   "cell_type": "code",
   "execution_count": 27,
   "metadata": {
    "id": "7wDOosL4uE9S",
    "outputId": "22e3484b-ebbe-4327-c993-7bc9f67a617b"
   },
   "outputs": [
    {
     "data": {
      "text/plain": [
       "\"star next face boggart defense dark art class scar worried happen lysander look boggart front previously humongous spider eye lock could think frightened spider transform lysander die giggle come male female hufflepuff student smirk lorcan face lily help ca n't fail class secret love lily lift wand say\""
      ]
     },
     "execution_count": 27,
     "metadata": {},
     "output_type": "execute_result"
    }
   ],
   "source": [
    "train_dataset.iloc[0, -1]"
   ]
  },
  {
   "cell_type": "markdown",
   "metadata": {},
   "source": [
    "3.1 Fasttext baseline"
   ]
  },
  {
   "cell_type": "code",
   "execution_count": 28,
   "metadata": {},
   "outputs": [],
   "source": [
    "train_dataset.iloc[:, 1] = train_dataset.iloc[:, 1].apply(lambda x: '__label__' + x)\n",
    "dev_dataset.iloc[:, 1] = dev_dataset.iloc[:, 1].apply(lambda x: '__label__' + x)\n",
    "test_dataset.iloc[:, 1] = test_dataset.iloc[:, 1].apply(lambda x: '__label__' + x)"
   ]
  },
  {
   "cell_type": "code",
   "execution_count": 29,
   "metadata": {},
   "outputs": [
    {
     "data": {
      "text/html": [
       "<div>\n",
       "<style scoped>\n",
       "    .dataframe tbody tr th:only-of-type {\n",
       "        vertical-align: middle;\n",
       "    }\n",
       "\n",
       "    .dataframe tbody tr th {\n",
       "        vertical-align: top;\n",
       "    }\n",
       "\n",
       "    .dataframe thead th {\n",
       "        text-align: right;\n",
       "    }\n",
       "</style>\n",
       "<table border=\"1\" class=\"dataframe\">\n",
       "  <thead>\n",
       "    <tr style=\"text-align: right;\">\n",
       "      <th></th>\n",
       "      <th>id</th>\n",
       "      <th>spell</th>\n",
       "      <th>text</th>\n",
       "    </tr>\n",
       "  </thead>\n",
       "  <tbody>\n",
       "    <tr>\n",
       "      <th>0</th>\n",
       "      <td>7642954.0.676</td>\n",
       "      <td>__label__RIDDIKULUS</td>\n",
       "      <td>star next face boggart defense dark art class ...</td>\n",
       "    </tr>\n",
       "    <tr>\n",
       "      <th>1</th>\n",
       "      <td>10443333.0.5753</td>\n",
       "      <td>__label__RIDDIKULUS</td>\n",
       "      <td>whole time first reaction felt quite proud sin...</td>\n",
       "    </tr>\n",
       "    <tr>\n",
       "      <th>2</th>\n",
       "      <td>4703706.0.8690</td>\n",
       "      <td>__label__STUPEFY</td>\n",
       "      <td>watch inglorious withdrawal together accompany...</td>\n",
       "    </tr>\n",
       "    <tr>\n",
       "      <th>3</th>\n",
       "      <td>4593427.0.1815</td>\n",
       "      <td>__label__ACCIO</td>\n",
       "      <td>wand incendio wretched chilly weather get nerv...</td>\n",
       "    </tr>\n",
       "    <tr>\n",
       "      <th>4</th>\n",
       "      <td>4278446.0.2692</td>\n",
       "      <td>__label__EXPELLIARMUS</td>\n",
       "      <td>already compare everyday al give let see dada ...</td>\n",
       "    </tr>\n",
       "  </tbody>\n",
       "</table>\n",
       "</div>"
      ],
      "text/plain": [
       "                id                  spell  \\\n",
       "0    7642954.0.676    __label__RIDDIKULUS   \n",
       "1  10443333.0.5753    __label__RIDDIKULUS   \n",
       "2   4703706.0.8690       __label__STUPEFY   \n",
       "3   4593427.0.1815         __label__ACCIO   \n",
       "4   4278446.0.2692  __label__EXPELLIARMUS   \n",
       "\n",
       "                                                text  \n",
       "0  star next face boggart defense dark art class ...  \n",
       "1  whole time first reaction felt quite proud sin...  \n",
       "2  watch inglorious withdrawal together accompany...  \n",
       "3  wand incendio wretched chilly weather get nerv...  \n",
       "4  already compare everyday al give let see dada ...  "
      ]
     },
     "execution_count": 29,
     "metadata": {},
     "output_type": "execute_result"
    }
   ],
   "source": [
    "train_dataset.head()"
   ]
  },
  {
   "cell_type": "code",
   "execution_count": 38,
   "metadata": {},
   "outputs": [],
   "source": [
    "train_dataset[['spell', 'text']].to_csv('train.txt', index = False, sep = ' ', header = None,  quoting = csv.QUOTE_NONE,  quotechar = \"\", escapechar = \" \")\n",
    "\n",
    "dev_dataset[['spell', 'text']].to_csv('dev.txt', index = False, sep = ' ',header = None, quoting = csv.QUOTE_NONE, quotechar = \"\", escapechar = \" \")\n",
    "\n",
    "test_dataset[['spell', 'text']].to_csv('test.txt', index = False,  sep = ' ', header = None,  quoting = csv.QUOTE_NONE,  quotechar = \"\",  escapechar = \" \")"
   ]
  },
  {
   "cell_type": "code",
   "execution_count": 39,
   "metadata": {},
   "outputs": [
    {
     "name": "stderr",
     "output_type": "stream",
     "text": [
      "Read 3M words\n",
      "Number of words:  49751\n",
      "Number of labels: 85\n",
      "Progress: 100.0% words/sec/thread:  885683 lr:  0.000000 avg.loss:  0.374989 ETA:   0h 0m 0s 10.3% words/sec/thread:  831764 lr:  0.089703 avg.loss:  2.412886 ETA:   0h 0m49s 34.7% words/sec/thread:  839082 lr:  0.065285 avg.loss:  0.962291 ETA:   0h 0m35s 75.4% words/sec/thread:  855887 lr:  0.024554 avg.loss:  0.482128 ETA:   0h 0m13s 867421 lr:  0.016707 avg.loss:  0.441623 ETA:   0h 0m 8s 90.6% words/sec/thread:  876218 lr:  0.009361 avg.loss:  0.409777 ETA:   0h 0m 4s 91.9% words/sec/thread:  877481 lr:  0.008060 avg.loss:  0.404610 ETA:   0h 0m 4s\n"
     ]
    }
   ],
   "source": [
    "fasttext_classifier = fasttext.train_supervised('train.txt',\n",
    "                                                wordNgrams=2,\n",
    "                                                epoch=150,\n",
    "                                                lr=0.1, \n",
    "                                                ws=7,\n",
    "                                                neg=8)"
   ]
  },
  {
   "cell_type": "code",
   "execution_count": 40,
   "metadata": {},
   "outputs": [
    {
     "name": "stderr",
     "output_type": "stream",
     "text": [
      "100%|█████████████████████████████████████| 7605/7605 [00:01<00:00, 4822.01it/s]\n"
     ]
    }
   ],
   "source": [
    "dev_dataset['predicted'] = None\n",
    "dev_dataset['probability'] = None\n",
    "\n",
    "for i in tqdm(dev_dataset.index):\n",
    "    dev_dataset.iloc[i, [-2, -1]] = [fasttext_classifier.predict(dev_dataset.iloc[i, 2])[0][0], fasttext_classifier.predict(dev_dataset.iloc[i, 2])[1][0]]"
   ]
  },
  {
   "cell_type": "code",
   "execution_count": 45,
   "metadata": {},
   "outputs": [
    {
     "name": "stdout",
     "output_type": "stream",
     "text": [
      "F1 macro: 0.17400945788644373\n"
     ]
    }
   ],
   "source": [
    "spells = [spell[9:] for spell in list(set(dev_dataset.loc[:, 'spell']))]\n",
    "\n",
    "y_true = [spell[9:] for spell in dev_dataset.loc[:, 'spell']]\n",
    "y_pred = [spell[9:] for spell in dev_dataset.loc[:, 'predicted']]\n",
    "\n",
    "print(f\"F1 macro: {f1_score(y_true, y_pred, average='macro')}\")"
   ]
  },
  {
   "cell_type": "code",
   "execution_count": 44,
   "metadata": {},
   "outputs": [
    {
     "name": "stdout",
     "output_type": "stream",
     "text": [
      "WADDIWASI\n",
      "{'precision': 0.25, 'recall': 0.25, 'f1-score': 0.25, 'support': 4}\n",
      "\n",
      "SPECIALIS_REVELIO\n",
      "{'precision': 0.0, 'recall': 0.0, 'f1-score': 0.0, 'support': 9}\n",
      "\n",
      "SCOURGIFY\n",
      "{'precision': 0.3185840707964602, 'recall': 0.2553191489361702, 'f1-score': 0.28346456692913385, 'support': 141}\n",
      "\n",
      "FERULA\n",
      "{'precision': 0.0, 'recall': 0.0, 'f1-score': 0.0, 'support': 6}\n",
      "\n",
      "ANAPNEO\n",
      "{'precision': 0.6666666666666666, 'recall': 0.4, 'f1-score': 0.5, 'support': 5}\n",
      "\n",
      "PROTEGO\n",
      "{'precision': 0.14018691588785046, 'recall': 0.09090909090909091, 'f1-score': 0.11029411764705882, 'support': 165}\n",
      "\n",
      "SILENCIO\n",
      "{'precision': 0.16161616161616163, 'recall': 0.11347517730496454, 'f1-score': 0.13333333333333336, 'support': 141}\n",
      "\n",
      "RIDDIKULUS\n",
      "{'precision': 0.7536231884057971, 'recall': 0.6753246753246753, 'f1-score': 0.7123287671232876, 'support': 77}\n",
      "\n",
      "POINT_ME\n",
      "{'precision': 0.20689655172413793, 'recall': 0.10909090909090909, 'f1-score': 0.14285714285714285, 'support': 55}\n",
      "\n",
      "COLLOPORTUS\n",
      "{'precision': 0.1111111111111111, 'recall': 0.08695652173913043, 'f1-score': 0.0975609756097561, 'support': 23}\n",
      "\n",
      "IMPERVIUS\n",
      "{'precision': 0.45454545454545453, 'recall': 0.2, 'f1-score': 0.2777777777777778, 'support': 25}\n",
      "\n",
      "LEVICORPUS\n",
      "{'precision': 0.23076923076923078, 'recall': 0.15789473684210525, 'f1-score': 0.18749999999999997, 'support': 57}\n",
      "\n",
      "SALVIO_HEXIA\n",
      "{'precision': 0.0, 'recall': 0.0, 'f1-score': 0.0, 'support': 8}\n",
      "\n",
      "ERECTO\n",
      "{'precision': 0.0, 'recall': 0.0, 'f1-score': 0.0, 'support': 7}\n",
      "\n",
      "LOCOMOTOR\n",
      "{'precision': 0.36363636363636365, 'recall': 0.17391304347826086, 'f1-score': 0.2352941176470588, 'support': 23}\n",
      "\n",
      "RENNERVATE\n",
      "{'precision': 0.26666666666666666, 'recall': 0.2, 'f1-score': 0.2285714285714286, 'support': 20}\n",
      "\n",
      "OBSCURO\n",
      "{'precision': 0.0, 'recall': 0.0, 'f1-score': 0.0, 'support': 11}\n",
      "\n",
      "IMPERIO\n",
      "{'precision': 0.24705882352941178, 'recall': 0.14685314685314685, 'f1-score': 0.18421052631578944, 'support': 143}\n",
      "\n",
      "MUFFLIATO\n",
      "{'precision': 0.2289156626506024, 'recall': 0.18627450980392157, 'f1-score': 0.20540540540540542, 'support': 102}\n",
      "\n",
      "TARANTALLEGRA\n",
      "{'precision': 0.07692307692307693, 'recall': 0.09090909090909091, 'f1-score': 0.08333333333333334, 'support': 11}\n",
      "\n",
      "SONORUS\n",
      "{'precision': 0.46153846153846156, 'recall': 0.19672131147540983, 'f1-score': 0.27586206896551724, 'support': 61}\n",
      "\n",
      "PRIOR_INCANTATO\n",
      "{'precision': 0.0, 'recall': 0.0, 'f1-score': 0.0, 'support': 4}\n",
      "\n",
      "GLISSEO\n",
      "{'precision': 0.5, 'recall': 0.25, 'f1-score': 0.3333333333333333, 'support': 4}\n",
      "\n",
      "DEFODIO\n",
      "{'precision': 0.0, 'recall': 0.0, 'f1-score': 0.0, 'support': 2}\n",
      "\n",
      "CONFUNDO\n",
      "{'precision': 0.25, 'recall': 0.0625, 'f1-score': 0.1, 'support': 16}\n",
      "\n",
      "APARECIUM\n",
      "{'precision': 0.5, 'recall': 0.18181818181818182, 'f1-score': 0.26666666666666666, 'support': 11}\n",
      "\n",
      "HOMENUM_REVELIO\n",
      "{'precision': 0.125, 'recall': 0.04, 'f1-score': 0.06060606060606061, 'support': 25}\n",
      "\n",
      "FLAGRATE\n",
      "{'precision': 0.0, 'recall': 0.0, 'f1-score': 0.0, 'support': 3}\n",
      "\n",
      "CRUCIO\n",
      "{'precision': 0.38331996792301526, 'recall': 0.5526011560693641, 'f1-score': 0.4526515151515152, 'support': 865}\n",
      "\n",
      "INCARCEROUS\n",
      "{'precision': 0.2, 'recall': 0.06666666666666667, 'f1-score': 0.1, 'support': 90}\n",
      "\n",
      "EXPECTO_PATRONUM\n",
      "{'precision': 0.5189873417721519, 'recall': 0.615, 'f1-score': 0.5629290617848971, 'support': 200}\n",
      "\n",
      "REDUCTO\n",
      "{'precision': 0.20689655172413793, 'recall': 0.12, 'f1-score': 0.1518987341772152, 'support': 150}\n",
      "\n",
      "SERPENSORTIA\n",
      "{'precision': 0.2, 'recall': 0.16666666666666666, 'f1-score': 0.1818181818181818, 'support': 12}\n",
      "\n",
      "EPISKEY\n",
      "{'precision': 0.3611111111111111, 'recall': 0.26, 'f1-score': 0.3023255813953488, 'support': 50}\n",
      "\n",
      "ALOHOMORA\n",
      "{'precision': 0.3333333333333333, 'recall': 0.36363636363636365, 'f1-score': 0.34782608695652173, 'support': 154}\n",
      "\n",
      "TERGEO\n",
      "{'precision': 0.3333333333333333, 'recall': 0.19047619047619047, 'f1-score': 0.24242424242424246, 'support': 21}\n",
      "\n",
      "AGUAMENTI\n",
      "{'precision': 0.2, 'recall': 0.18181818181818182, 'f1-score': 0.1904761904761905, 'support': 77}\n",
      "\n",
      "LUMOS\n",
      "{'precision': 0.37970540098199673, 'recall': 0.4904862579281184, 'f1-score': 0.42804428044280446, 'support': 473}\n",
      "\n",
      "STUPEFY\n",
      "{'precision': 0.21748400852878466, 'recall': 0.24228028503562946, 'f1-score': 0.22921348314606743, 'support': 421}\n",
      "\n",
      "CONFRINGO\n",
      "{'precision': 0.10714285714285714, 'recall': 0.06, 'f1-score': 0.07692307692307691, 'support': 50}\n",
      "\n",
      "EVANESCO\n",
      "{'precision': 0.18604651162790697, 'recall': 0.16, 'f1-score': 0.17204301075268816, 'support': 50}\n",
      "\n",
      "PROTEGO_HORRIBILIS\n",
      "{'precision': 0.0, 'recall': 0.0, 'f1-score': 0.0, 'support': 6}\n",
      "\n",
      "MORSMORDRE\n",
      "{'precision': 0.125, 'recall': 0.034482758620689655, 'f1-score': 0.05405405405405405, 'support': 29}\n",
      "\n",
      "GEMINIO\n",
      "{'precision': 0.2, 'recall': 0.2, 'f1-score': 0.20000000000000004, 'support': 5}\n",
      "\n",
      "EXPULSO\n",
      "{'precision': 0.06666666666666667, 'recall': 0.05, 'f1-score': 0.05714285714285715, 'support': 20}\n",
      "\n",
      "PETRIFICUS_TOTALUS\n",
      "{'precision': 0.13333333333333333, 'recall': 0.0625, 'f1-score': 0.0851063829787234, 'support': 160}\n",
      "\n",
      "MOBILICORPUS\n",
      "{'precision': 0.08333333333333333, 'recall': 0.05263157894736842, 'f1-score': 0.06451612903225808, 'support': 19}\n",
      "\n",
      "PIERTOTUM_LOCOMOTOR\n",
      "{'precision': 0.0, 'recall': 0.0, 'f1-score': 0.0, 'support': 3}\n",
      "\n",
      "DIFFINDO\n",
      "{'precision': 0.21875, 'recall': 0.08641975308641975, 'f1-score': 0.12389380530973453, 'support': 81}\n",
      "\n",
      "DURO\n",
      "{'precision': 0.0, 'recall': 0.0, 'f1-score': 0.0, 'support': 4}\n",
      "\n",
      "RICTUSEMPRA\n",
      "{'precision': 0.07142857142857142, 'recall': 0.0625, 'f1-score': 0.06666666666666667, 'support': 16}\n",
      "\n",
      "WINGARDIUM_LEVIOSA\n",
      "{'precision': 0.2641509433962264, 'recall': 0.1891891891891892, 'f1-score': 0.2204724409448819, 'support': 148}\n",
      "\n",
      "METEOLOJINX_RECANTO\n",
      "{'precision': 0.5, 'recall': 0.3333333333333333, 'f1-score': 0.4, 'support': 3}\n",
      "\n",
      "REPARO\n",
      "{'precision': 0.36496350364963503, 'recall': 0.33783783783783783, 'f1-score': 0.3508771929824561, 'support': 148}\n",
      "\n",
      "PROTEGO_TOTALUM\n",
      "{'precision': 0.0, 'recall': 0.0, 'f1-score': 0.0, 'support': 9}\n",
      "\n",
      "CAVE_INIMICUM\n",
      "{'precision': 0.0, 'recall': 0.0, 'f1-score': 0.0, 'support': 2}\n",
      "\n",
      "RELASHIO\n",
      "{'precision': 0.18181818181818182, 'recall': 0.1, 'f1-score': 0.12903225806451613, 'support': 20}\n",
      "\n",
      "QUIETUS\n",
      "{'precision': 0.6, 'recall': 0.23076923076923078, 'f1-score': 0.33333333333333337, 'support': 13}\n",
      "\n",
      "DENSAUGEO\n",
      "{'precision': 0.0, 'recall': 0.0, 'f1-score': 0.0, 'support': 13}\n",
      "\n",
      "AVIS\n",
      "{'precision': 0.4444444444444444, 'recall': 0.26666666666666666, 'f1-score': 0.33333333333333337, 'support': 15}\n",
      "\n",
      "FURNUNCULUS\n",
      "{'precision': 0.0, 'recall': 0.0, 'f1-score': 0.0, 'support': 19}\n",
      "\n",
      "OBLIVIATE\n",
      "{'precision': 0.30198019801980197, 'recall': 0.34269662921348315, 'f1-score': 0.32105263157894737, 'support': 356}\n",
      "\n",
      "ENGORGIO\n",
      "{'precision': 0.2413793103448276, 'recall': 0.15217391304347827, 'f1-score': 0.18666666666666665, 'support': 46}\n",
      "\n",
      "FINITE_INCANTATEM\n",
      "{'precision': 0.12727272727272726, 'recall': 0.08641975308641975, 'f1-score': 0.10294117647058823, 'support': 81}\n",
      "\n",
      "REDUCIO\n",
      "{'precision': 0.2222222222222222, 'recall': 0.18181818181818182, 'f1-score': 0.19999999999999998, 'support': 11}\n",
      "\n",
      "AVADA_KEDAVRA\n",
      "{'precision': 0.39147286821705424, 'recall': 0.5441810344827587, 'f1-score': 0.45536519386834984, 'support': 928}\n",
      "\n",
      "LOCOMOTOR_MORTIS\n",
      "{'precision': 0.25, 'recall': 0.16666666666666666, 'f1-score': 0.2, 'support': 12}\n",
      "\n",
      "MOBILIARBUS\n",
      "{'precision': 0.0, 'recall': 0.0, 'f1-score': 0.0, 'support': 3}\n",
      "\n",
      "IMPEDIMENTA\n",
      "{'precision': 0.13953488372093023, 'recall': 0.07407407407407407, 'f1-score': 0.0967741935483871, 'support': 81}\n",
      "\n",
      "PORTUS\n",
      "{'precision': 0.1875, 'recall': 0.15, 'f1-score': 0.16666666666666663, 'support': 20}\n",
      "\n",
      "LIBERACORPUS\n",
      "{'precision': 0.3333333333333333, 'recall': 0.16666666666666666, 'f1-score': 0.2222222222222222, 'support': 6}\n",
      "\n",
      "ORCHIDEOUS\n",
      "{'precision': 0.0, 'recall': 0.0, 'f1-score': 0.0, 'support': 6}\n",
      "\n",
      "SECTUMSEMPRA\n",
      "{'precision': 0.23853211009174313, 'recall': 0.1452513966480447, 'f1-score': 0.18055555555555555, 'support': 179}\n",
      "\n",
      "DELETRIUS\n",
      "{'precision': 0.0, 'recall': 0.0, 'f1-score': 0.0, 'support': 12}\n",
      "\n",
      "OPPUGNO\n",
      "{'precision': 0.2857142857142857, 'recall': 0.23529411764705882, 'f1-score': 0.2580645161290323, 'support': 17}\n",
      "\n",
      "REPELLO_MUGGLETUM\n",
      "{'precision': 0.0, 'recall': 0.0, 'f1-score': 0.0, 'support': 2}\n",
      "\n",
      "NOX\n",
      "{'precision': 0.20454545454545456, 'recall': 0.1125, 'f1-score': 0.14516129032258066, 'support': 80}\n",
      "\n",
      "ACCIO\n",
      "{'precision': 0.3203463203463203, 'recall': 0.40437158469945356, 'f1-score': 0.357487922705314, 'support': 549}\n",
      "\n",
      "LANGLOCK\n",
      "{'precision': 0.2222222222222222, 'recall': 0.18181818181818182, 'f1-score': 0.19999999999999998, 'support': 11}\n",
      "\n",
      "DEPRIMO\n",
      "{'precision': 0.0, 'recall': 0.0, 'f1-score': 0.0, 'support': 2}\n",
      "\n",
      "INCENDIO\n",
      "{'precision': 0.24, 'recall': 0.16216216216216217, 'f1-score': 0.1935483870967742, 'support': 148}\n",
      "\n",
      "EXPELLIARMUS\n",
      "{'precision': 0.2129032258064516, 'recall': 0.19584569732937684, 'f1-score': 0.20401854714064913, 'support': 337}\n",
      "\n",
      "LEGILIMENS\n",
      "{'precision': 0.4362745098039216, 'recall': 0.41784037558685444, 'f1-score': 0.42685851318944845, 'support': 213}\n",
      "\n",
      "accuracy\n",
      "0.3255752794214333\n",
      "\n",
      "macro avg\n",
      "{'precision': 0.21144845149009364, 'recall': 0.157394001158745, 'f1-score': 0.17400945788644373, 'support': 7605}\n",
      "\n",
      "weighted avg\n",
      "{'precision': 0.30107102420747855, 'recall': 0.3255752794214333, 'f1-score': 0.3046328473026554, 'support': 7605}\n",
      "\n"
     ]
    },
    {
     "name": "stderr",
     "output_type": "stream",
     "text": [
      "/Users/19652726/opt/anaconda3/lib/python3.9/site-packages/sklearn/metrics/_classification.py:1318: UndefinedMetricWarning: Precision and F-score are ill-defined and being set to 0.0 in labels with no predicted samples. Use `zero_division` parameter to control this behavior.\n",
      "  _warn_prf(average, modifier, msg_start, len(result))\n",
      "/Users/19652726/opt/anaconda3/lib/python3.9/site-packages/sklearn/metrics/_classification.py:1318: UndefinedMetricWarning: Precision and F-score are ill-defined and being set to 0.0 in labels with no predicted samples. Use `zero_division` parameter to control this behavior.\n",
      "  _warn_prf(average, modifier, msg_start, len(result))\n",
      "/Users/19652726/opt/anaconda3/lib/python3.9/site-packages/sklearn/metrics/_classification.py:1318: UndefinedMetricWarning: Precision and F-score are ill-defined and being set to 0.0 in labels with no predicted samples. Use `zero_division` parameter to control this behavior.\n",
      "  _warn_prf(average, modifier, msg_start, len(result))\n"
     ]
    }
   ],
   "source": [
    "report = classification_report(y_true, y_pred, labels=spells, output_dict=True)\n",
    "for spell in report.keys():\n",
    "    print(spell)\n",
    "    print(report[spell])\n",
    "    print()"
   ]
  },
  {
   "cell_type": "code",
   "execution_count": 48,
   "metadata": {},
   "outputs": [
    {
     "data": {
      "text/plain": [
       "[Text(0.5, 201.5, 'Pred'), Text(201.5, 0.5, 'True')]"
      ]
     },
     "execution_count": 48,
     "metadata": {},
     "output_type": "execute_result"
    },
    {
     "data": {
      "image/png": "[encoded data removed]",
      "text/plain": [
       "<Figure size 1800x1800 with 2 Axes>"
      ]
     },
     "metadata": {},
     "output_type": "display_data"
    }
   ],
   "source": [
    "from sklearn.metrics import confusion_matrix\n",
    "import seaborn as sns\n",
    "cf_matrix = confusion_matrix(y_true=y_true,\n",
    "                             y_pred=y_pred,\n",
    "                             labels=spells)\n",
    "\n",
    "sns.set(rc={'figure.figsize':(25, 25)})\n",
    "s = sns.heatmap(cf_matrix, annot=True, annot_kws={\"fontsize\":8}, fmt='d',\n",
    "           xticklabels=spells, yticklabels=spells)\n",
    "s.set(xlabel='Pred', ylabel='True')"
   ]
  },
  {
   "cell_type": "code",
   "execution_count": null,
   "metadata": {},
   "outputs": [],
   "source": []
  },
  {
   "cell_type": "markdown",
   "metadata": {
    "id": "IxDBC1pxA0Dk"
   },
   "source": [
    "# Домашнее задание\n",
    "## Harry Potter and the Action Prediction Challenge from Natural Language\n",
    "\n",
    "*deadline*: 14 ноября 2022, 23:59\n",
    "\n",
    "В этом домашнем задании вы будете работать с корпусом Harry Potter and the Action Prediction Challenge. Корпус собран из фанфиков о Гарри Поттере и состоит из двух частей: 1) сырые тексты, 2) фрагменты текстов, описывающих ситуацию, в которой произнесено заклинание.\n",
    "\n",
    "Корпус описан в статье: https://arxiv.org/pdf/1905.11037.pdf\n",
    "\n",
    "David Vilares and Carlos Gómez-Rodríguez. Harry Potter and the Action Prediction Challenge from Natural Language. 2019 Annual Conference of the North American Chapter of the Association for Computational Linguistics. To appear.\n",
    "\n",
    "Код для сбора корпуса находится в репозитории: https://github.com/aghie/hpac . Корпус можно скачать по инструкции из этого репозитория, но для экономии времени авторы задания уже скачали и подготовили данные к работе. \n",
    "\n",
    "Ссылки на собранный корпус: \n",
    "* Сырые тексты:  https://www.dropbox.com/s/23xet9kvbqna1qs/hpac_raw.zip?dl=0\n",
    "* Токенизированные тексты в нижнем регистре: https://www.dropbox.com/s/gwfgmomdbetvdye/hpac_lower_tokenized.zip?dl=0\n",
    "* train-test-dev: https://www.dropbox.com/s/3vdz0mouvex8abd/hpac_splits.zip?dl=0\n",
    "\n",
    "Части 1, 2 задания должны быть выполнены на полных текстах (сырых или предобработанных -- на ваше усмотрение), Часть 3 – на разбиение на тестовое, отладочное и обучающее множества. Тестовое множество должно быть использовано исключительно для тестирования моделей, обучающее и отладочное – для выбора модели и параметров. \n",
    "\n",
    "В статье и репозитории вы найдете идеи, которые помогут вам выполнить домашнее задание. Их стоит воспринимать как руководство к действию, и не стоит их копировать и переиспользовать. Обученные модели использовать не нужно, код для их обучения можно использовать как подсказку. \n",
    "\n",
    "## ПРАВИЛА\n",
    "1. Домашнее задание выполняется в группе до 3-х человек.\n",
    "2. Домашнее задание оформляется в виде отчета либо в .pdf файле, либо ipython-тетрадке. \n",
    "3. Отчет должен содержать: нумерацию заданий и пунктов, которые вы выполнили, код решения, и понятное пошаговое описание того, что вы сделали. Отчет должен быть написан в академическом стиле, без излишнего использования сленга и с соблюдением норм русского языка.\n",
    "4. Не стоит копировать фрагменты лекций, статей и Википедии в ваш отчет.\n",
    "5. Отчеты, состоящие исключительно из кода, не будут проверены и будут автоматически оценены нулевой оценкой.\n",
    "6. Плагиат и любое недобросоветсное цитирование приводит к обнуление оценки. \n",
    "\n",
    "\n",
    "## Часть 1. [2 балла] Эксплоративный анализ \n",
    "1. Найдите топ-1000 слов по частоте без учета стоп-слов.\n",
    "2. Найдите топ-10 по частоте: имен, пар имя + фамилия, пар вида ''профессор'' + имя / фамилия. \n",
    "\n",
    "[бонус] Постройте тематическую модель по корпусу HPAC.\n",
    "\n",
    "[бонус] Найдите еще что-то интересное в корпусе (что-то специфичное для фанфиков или фентези-тематики)\n",
    "\n",
    "## Часть 2. [2 балла] Модели представления слов \n",
    "Обучите модель представления слов (word2vec, GloVe, fastText или любую другую) на материале корпуса HPAC.\n",
    "1. Продемонстрируйте, как работает поиск синонимов, ассоциаций, лишних слов в обученной модели. \n",
    "2. Визуализируйте топ-1000 слов по частоте без учета стоп-слов (п. 1.1) с помощью TSNE или UMAP (https://umap-learn.readthedocs.io).\n",
    "\n",
    "## Часть 3. [5 баллов] Классификация текстов\n",
    "Задача классификации формулируется так: данный фрагмент фанфика описывают какую-то ситуацию, которая предшествует произнесению заклинания. Требуется по тексту предсказать, какое именно заклинание будет произнесено. Таким образом, заклинание - это фактически метка класса. Основная мера качества – macro $F_1$.\n",
    "Обучите несколько классификаторов и сравните их между собой. Оцените качество классификаторов на частых и редких классах. Какие классы чаще всего оказываются перепутаны? Связаны ли ошибки со смыслом заклинаний?\n",
    "\n",
    "Используйте фрагменты из множества train для обучения, из множества dev для отладки, из множества test – для тестирования и получения итоговых результатов. \n",
    "\n",
    "1. [1 балл] Используйте fastText в качестве baseline-классификатора.\n",
    "2. [2 балла] Используйте сверточные  или реккурентные сети в качестве более продвинутого классификатора. Поэкспериментируйте с количеством и размерностью фильтров, используйте разные размеры окон, попробуйте использовать $k$-max pooling. \n",
    "3. [2 балла] Попробуйте расширить обучающее множество за счет аугментации данных. Если вам понадобится словарь синонимов, можно использовать WordNet (ниже вы найдете примеры).\n",
    "\n",
    "[бонус] Используйте результат max pooling'а как эмбеддинг входного текста. Визуализируйте эмбеддинги 500-1000 предложений из обучающего множества и изучите свойства получившегося пространства.\n",
    "\n",
    "[бонус] Используйте ваш любимый классификатор и любые (честные) способы повышения качества классификации и получите macro $F_1$ больше 0.5.\n",
    "\n",
    "## Часть 4. [1 балл] Итоги\n",
    "Напишите краткое резюме проделанной работы. Читали ли вы сами Гарри Поттера или фанфики о нем и помогло ли вам знание предметной области в выполнении домашнего задания?"
   ]
  },
  {
   "cell_type": "code",
   "execution_count": null,
   "metadata": {
    "colab": {
     "base_uri": "https://localhost:8080/"
    },
    "id": "jkH9HAj0gZW6",
    "outputId": "c1533f4f-4eb2-495f-c4ff-32e04ae64904"
   },
   "outputs": [
    {
     "name": "stdout",
     "output_type": "stream",
     "text": [
      "Mounted at /content/drive\n"
     ]
    }
   ],
   "source": [
    "from google.colab import drive\n",
    "drive.mount('/content/drive')"
   ]
  },
  {
   "cell_type": "code",
   "execution_count": null,
   "metadata": {
    "colab": {
     "base_uri": "https://localhost:8080/"
    },
    "id": "WHDFLTEd2uYg",
    "outputId": "b7fa3a1f-8ab2-4d65-e620-a55e34cdf5a9"
   },
   "outputs": [
    {
     "name": "stdout",
     "output_type": "stream",
     "text": [
      "--2022-11-17 16:52:59--  https://www.dropbox.com/s/aogtja9upycdqv4/hpac_splits.zip\n",
      "Resolving www.dropbox.com (www.dropbox.com)... 162.125.7.18, 2620:100:6028:18::a27d:4712\n",
      "Connecting to www.dropbox.com (www.dropbox.com)|162.125.7.18|:443... connected.\n",
      "HTTP request sent, awaiting response... 302 Found\n",
      "Location: /s/raw/aogtja9upycdqv4/hpac_splits.zip [following]\n",
      "--2022-11-17 16:53:00--  https://www.dropbox.com/s/raw/aogtja9upycdqv4/hpac_splits.zip\n",
      "Reusing existing connection to www.dropbox.com:443.\n",
      "HTTP request sent, awaiting response... 302 Found\n",
      "Location: https://ucce23ee51ffcc92d5f23923bb1c.dl.dropboxusercontent.com/cd/0/inline/Bw4NQaqXQnxKlfNeK4KnU6i4d9K0y_XBPex4rxFnED4nK2uvYcrqKJnFWrDmVULyWo59hJnIgnhTlyHCQkCRa-iTXkPFAUa7me2foYlrgy_BntAwa4t6byzliwSCz2_zD5wUyXvYPa__ORaVzEqPEL19rgUUPLOqfwcIlIMb7Webgg/file# [following]\n",
      "--2022-11-17 16:53:01--  https://ucce23ee51ffcc92d5f23923bb1c.dl.dropboxusercontent.com/cd/0/inline/Bw4NQaqXQnxKlfNeK4KnU6i4d9K0y_XBPex4rxFnED4nK2uvYcrqKJnFWrDmVULyWo59hJnIgnhTlyHCQkCRa-iTXkPFAUa7me2foYlrgy_BntAwa4t6byzliwSCz2_zD5wUyXvYPa__ORaVzEqPEL19rgUUPLOqfwcIlIMb7Webgg/file\n",
      "Resolving ucce23ee51ffcc92d5f23923bb1c.dl.dropboxusercontent.com (ucce23ee51ffcc92d5f23923bb1c.dl.dropboxusercontent.com)... 162.125.65.15, 2620:100:6021:15::a27d:410f\n",
      "Connecting to ucce23ee51ffcc92d5f23923bb1c.dl.dropboxusercontent.com (ucce23ee51ffcc92d5f23923bb1c.dl.dropboxusercontent.com)|162.125.65.15|:443... connected.\n",
      "HTTP request sent, awaiting response... 302 Found\n",
      "Location: /cd/0/inline2/Bw5YK7hAachk2lv3Pi5ObolPWn5sQhCYhzINO57JrCpZsoGNp2VjsAvIcPZeWQyhJH26mp-aGjxDOURfdnhw7U3XhSaqD0BGp_ypNE8AIkLgP0AqVXeUCleDlh__Io529sbzS9iz5Y6wkbPooF4-LgvvOUPRyvrRj2SmvInNFzl0xm4JbBPKtpVRMN8Iz8QkrXSnbiYRbMGnpNiEyU2FnOlb8Zhc-KhSqNSusCylRE1h6RGb80oZPX5nmCAKNWo6i7nrMEHicf_ruE2JouEHQ0VPhOC9p_GIv3uJUqGgV6jL82tUQwplXCWGhc5ob4nGxvFWKcopacWKuZGetTfcOlsfONKHDcyUG6qIHETfcaJ2BZawQaQ-A_QHyZkS8ff079SqKK0xPjVvA6kvhXD1S_vP6LG8RHWhj3D61nclpNAdPw/file [following]\n",
      "--2022-11-17 16:53:01--  https://ucce23ee51ffcc92d5f23923bb1c.dl.dropboxusercontent.com/cd/0/inline2/Bw5YK7hAachk2lv3Pi5ObolPWn5sQhCYhzINO57JrCpZsoGNp2VjsAvIcPZeWQyhJH26mp-aGjxDOURfdnhw7U3XhSaqD0BGp_ypNE8AIkLgP0AqVXeUCleDlh__Io529sbzS9iz5Y6wkbPooF4-LgvvOUPRyvrRj2SmvInNFzl0xm4JbBPKtpVRMN8Iz8QkrXSnbiYRbMGnpNiEyU2FnOlb8Zhc-KhSqNSusCylRE1h6RGb80oZPX5nmCAKNWo6i7nrMEHicf_ruE2JouEHQ0VPhOC9p_GIv3uJUqGgV6jL82tUQwplXCWGhc5ob4nGxvFWKcopacWKuZGetTfcOlsfONKHDcyUG6qIHETfcaJ2BZawQaQ-A_QHyZkS8ff079SqKK0xPjVvA6kvhXD1S_vP6LG8RHWhj3D61nclpNAdPw/file\n",
      "Reusing existing connection to ucce23ee51ffcc92d5f23923bb1c.dl.dropboxusercontent.com:443.\n",
      "HTTP request sent, awaiting response... 200 OK\n",
      "Length: 18284862 (17M) [application/zip]\n",
      "Saving to: ‘hpac_splits.zip.1’\n",
      "\n",
      "hpac_splits.zip.1   100%[===================>]  17.44M  18.6MB/s    in 0.9s    \n",
      "\n",
      "2022-11-17 16:53:02 (18.6 MB/s) - ‘hpac_splits.zip.1’ saved [18284862/18284862]\n",
      "\n"
     ]
    }
   ],
   "source": [
    "!wget https://www.dropbox.com/s/aogtja9upycdqv4/hpac_splits.zip"
   ]
  },
  {
   "cell_type": "code",
   "execution_count": null,
   "metadata": {
    "colab": {
     "base_uri": "https://localhost:8080/"
    },
    "id": "yg134tTT4Je9",
    "outputId": "28d7fe6d-b6b7-4ef2-c269-f58dee0e870f"
   },
   "outputs": [
    {
     "name": "stdout",
     "output_type": "stream",
     "text": [
      "Archive:  hpac_splits.zip\n",
      "replace hpac_corpus/hpac_training_128.tsv? [y]es, [n]o, [A]ll, [N]one, [r]ename: "
     ]
    }
   ],
   "source": [
    "!unzip hpac_splits.zip"
   ]
  },
  {
   "cell_type": "markdown",
   "metadata": {
    "id": "upqkRQ-WTt9I"
   },
   "source": [
    "# Построение модели"
   ]
  },
  {
   "cell_type": "markdown",
   "metadata": {
    "id": "KlXFXtth4wfW"
   },
   "source": [
    "LSTM"
   ]
  },
  {
   "cell_type": "markdown",
   "metadata": {
    "id": "j0rjMpocT153"
   },
   "source": [
    "### Импорты"
   ]
  },
  {
   "cell_type": "code",
   "execution_count": null,
   "metadata": {
    "colab": {
     "base_uri": "https://localhost:8080/"
    },
    "id": "6NbpEQEFVWfs",
    "outputId": "03234945-d459-41db-87c8-283cda1c9f84"
   },
   "outputs": [
    {
     "name": "stderr",
     "output_type": "stream",
     "text": [
      "[nltk_data] Downloading package wordnet to /root/nltk_data...\n",
      "[nltk_data]   Package wordnet is already up-to-date!\n",
      "[nltk_data] Downloading package omw-1.4 to /root/nltk_data...\n",
      "[nltk_data]   Package omw-1.4 is already up-to-date!\n",
      "[nltk_data] Downloading package punkt to /root/nltk_data...\n",
      "[nltk_data]   Package punkt is already up-to-date!\n",
      "[nltk_data] Downloading package stopwords to /root/nltk_data...\n",
      "[nltk_data]   Package stopwords is already up-to-date!\n",
      "[nltk_data] Downloading package averaged_perceptron_tagger to\n",
      "[nltk_data]     /root/nltk_data...\n",
      "[nltk_data]   Package averaged_perceptron_tagger is already up-to-\n",
      "[nltk_data]       date!\n",
      "[nltk_data] Downloading package stopwords to /root/nltk_data...\n",
      "[nltk_data]   Package stopwords is already up-to-date!\n"
     ]
    }
   ],
   "source": [
    "import numpy as np\n",
    "import pandas as pd\n",
    "\n",
    "# Загрузка\n",
    "import os\n",
    "from torch.utils.data import DataLoader, Dataset\n",
    "from glob import glob\n",
    "from pathlib import Path\n",
    "from PIL import Image\n",
    "\n",
    "# Архиектура нейронной сети\n",
    "import torch\n",
    "import torch.nn as nn\n",
    "import torch.nn.functional as F\n",
    "import torch.optim as optim\n",
    "import torchvision.transforms as tt\n",
    "\n",
    "# Отображение изображений\n",
    "import matplotlib.pyplot as plt\n",
    "import seaborn as sns\n",
    "sns.set(style='darkgrid', font_scale=1.2)\n",
    "from torchvision.utils import make_grid\n",
    "from IPython.display import clear_output\n",
    "%matplotlib inline\n",
    "\n",
    "from tqdm.notebook import tqdm\n",
    "from torchsummary import summary\n",
    "import re\n",
    "\n",
    "from collections import Counter\n",
    "\n",
    "from torchtext.data.utils import get_tokenizer\n",
    "from torchtext.vocab import build_vocab_from_iterator\n",
    "\n",
    "from nltk.corpus import wordnet as wn\n",
    "from nltk.stem.wordnet import WordNetLemmatizer\n",
    "from nltk import pos_tag\n",
    "from collections import defaultdict\n",
    "\n",
    "import nltk\n",
    "nltk.download('wordnet')\n",
    "nltk.download('omw-1.4')\n",
    "nltk.download('punkt')\n",
    "nltk.download('stopwords')\n",
    "nltk.download('averaged_perceptron_tagger')\n",
    "\n",
    "import nltk\n",
    "from nltk.corpus import stopwords\n",
    "from string import punctuation\n",
    "import string\n",
    "import time\n",
    "\n",
    "nltk.download('stopwords')\n",
    "english_stopwords = stopwords.words('english')\n",
    "\n",
    "from sklearn.preprocessing import LabelEncoder\n",
    "import pickle\n",
    "\n",
    "import torch\n",
    "import torch.nn as nn\n",
    "import pandas as pd\n",
    "import numpy as np\n",
    "import re\n",
    "import spacy\n",
    "from collections import Counter\n",
    "from torch.utils.data import Dataset, DataLoader\n",
    "import torch.nn.functional as F\n",
    "import string\n",
    "from torch.nn.utils.rnn import pack_padded_sequence, pad_packed_sequence\n",
    "from sklearn.metrics import f1_score, accuracy_score\n",
    "import torchtext"
   ]
  },
  {
   "cell_type": "code",
   "execution_count": null,
   "metadata": {
    "id": "nR4R5Lgf60Qd"
   },
   "outputs": [],
   "source": [
    "path_train = \"./hpac_corpus/hpac_training_128.tsv\"\n",
    "path_val = \"./hpac_corpus/hpac_dev_128.tsv\"\n",
    "path_test = \"./hpac_corpus/hpac_test_128.tsv\""
   ]
  },
  {
   "cell_type": "code",
   "execution_count": null,
   "metadata": {
    "colab": {
     "base_uri": "https://localhost:8080/"
    },
    "id": "yYDdax_nJred",
    "outputId": "ba5623a8-cc23-41be-ca36-ea33b15969c3"
   },
   "outputs": [
    {
     "name": "stdout",
     "output_type": "stream",
     "text": [
      "num_words before: 613702\n",
      "num_words after: 266685\n"
     ]
    }
   ],
   "source": [
    "#Токенайзер\n",
    "#tok = spacy.load('en_core_web_sm')\n",
    "\n",
    "#Функция для очистки пунктуации и стоп-слов\n",
    "def delete_stop_words(words):\n",
    "    stops = stopwords.words(\"english\") + list(string.punctuation) + ['--', '...', '``', \"''\", 'a.n',\n",
    "                                                                     '\\'s', '\\'d', '\\'ve', '\\'re', '\\'m']\n",
    "    clean_words = [re.sub(\"\\S*\\d\\S*\", \"\", token).strip() for token in words if token not in stops] \n",
    "    clean_words = [token for token in clean_words if len(token) > 1]\n",
    "    return clean_words\n",
    "\n",
    "#Функция для лемматизации https://www.guru99.com/stemming-lemmatization-python-nltk.html\n",
    "\n",
    "tag_map = defaultdict(lambda : wn.NOUN)\n",
    "tag_map['J'] = wn.ADJ\n",
    "tag_map['V'] = wn.VERB\n",
    "tag_map['R'] = wn.ADV\n",
    "\n",
    "def lemmatize_func(tokens):\n",
    "    lemma_function = WordNetLemmatizer()\n",
    "    lemmas = [lemma_function.lemmatize(token, tag_map[tag[0]]) for token, tag in pos_tag(tokens)]\n",
    "    return lemmas\n",
    "\n",
    "\n",
    "def prepare_text(text):\n",
    "    text_stop = delete_stop_words(text.split())\n",
    "    text_lem = lemmatize_func(text_stop)\n",
    "\n",
    "    return text_lem\n",
    "\n",
    "with open('/content/hpac_source_counter.pickle', 'rb') as f:\n",
    "  hpac_source_counter_pkl = pickle.load(f)\n",
    "\n",
    "print(\"num_words before:\",len(hpac_source_counter_pkl.keys()))\n",
    "for word in list(hpac_source_counter_pkl):\n",
    "    if hpac_source_counter_pkl[word] < 2:\n",
    "        del hpac_source_counter_pkl[word]\n",
    "print(\"num_words after:\",len(hpac_source_counter_pkl.keys()))\n",
    "\n",
    "vocab2index = {\"\":0, \"UNK\":1}\n",
    "words = [\"\", \"UNK\"]\n",
    "for word in hpac_source_counter_pkl:\n",
    "    vocab2index[word] = len(words)\n",
    "    words.append(word)\n",
    "\n",
    "\n",
    "def encode_sentence(text, vocab2index, N=70):\n",
    "    text_stop = delete_stop_words(text.split())\n",
    "    text_lem = lemmatize_func(text_stop)\n",
    "    encoded = np.zeros(N, dtype=int)\n",
    "    enc1 = np.array([vocab2index.get(word, vocab2index[\"UNK\"]) for word in text_lem])\n",
    "    length = min(N, len(enc1))\n",
    "    encoded[:length] = enc1[:length]\n",
    "    return encoded, length"
   ]
  },
  {
   "cell_type": "code",
   "execution_count": null,
   "metadata": {
    "id": "AGcuKJDZSGga"
   },
   "outputs": [],
   "source": [
    "import random\n",
    "\n",
    "SEED = 42\n",
    "\n",
    "random.seed(SEED)\n",
    "np.random.seed(SEED)\n",
    "torch.manual_seed(SEED)\n",
    "torch.cuda.manual_seed(SEED)\n",
    "torch.backends.cudnn.deterministic = True"
   ]
  },
  {
   "cell_type": "code",
   "execution_count": null,
   "metadata": {
    "id": "SWf2187K6x9n"
   },
   "outputs": [],
   "source": [
    "train = pd.read_csv(open(path_train), \n",
    "                            delimiter=\"\\t\",\n",
    "                            names=['id', 'spell', 'text'],\n",
    "                            header=None)"
   ]
  },
  {
   "cell_type": "code",
   "execution_count": null,
   "metadata": {
    "id": "_u7x2nGrJAsy"
   },
   "outputs": [],
   "source": [
    "n_classes = train.spell.nunique()"
   ]
  },
  {
   "cell_type": "code",
   "execution_count": null,
   "metadata": {
    "id": "lNolp2ihNoTr"
   },
   "outputs": [],
   "source": [
    "# разные режимы датасета \n",
    "DATA_MODES = ['train', 'val', 'test']"
   ]
  },
  {
   "cell_type": "code",
   "execution_count": null,
   "metadata": {
    "id": "cZ73wElY5Svl"
   },
   "outputs": [],
   "source": [
    "class HPACDataset(Dataset):\n",
    "    def __init__(self, path, mode):\n",
    "        #self.filenames = glob(str(Path(path) / \"*\"))\n",
    "        self.df = pd.read_csv(open(path), \n",
    "                            delimiter=\"\\t\",\n",
    "                            names=['id', 'spell', 'text'],\n",
    "                            header=None) \n",
    "        \n",
    "        self.mode = mode\n",
    "\n",
    "        if self.mode not in DATA_MODES:\n",
    "            print(f\"{self.mode} is not correct; correct modes: {DATA_MODES}\")\n",
    "            raise NameError\n",
    "\n",
    "     \n",
    "        label_encoder = LabelEncoder()\n",
    "\n",
    "        if self.mode == 'train':\n",
    "            self.labels = self.df.spell\n",
    "            label_encoder.fit(self.labels)\n",
    "\n",
    "            with open('label_encoder.pkl', 'wb') as le_dump_file:\n",
    "                  pickle.dump(label_encoder, le_dump_file)\n",
    "\n",
    "    def __len__(self):\n",
    "        return len(self.df)\n",
    "\n",
    "    def __getitem__(self, idx):\n",
    "        text = self.df.text[idx]\n",
    "        prep_text, len_ = encode_sentence(text, vocab2index, N=100)\n",
    "        #vec_text = voc.get_vecs_by_tokens(prep_text)\n",
    "\n",
    "        label = self.df.spell[idx]\n",
    "\n",
    "        with open('/content/label_encoder.pkl', 'rb') as f:\n",
    "            label_encoder = pickle.load(f)\n",
    "\n",
    "        label_id = label_encoder.transform([label])\n",
    "        y = label_id.item()\n",
    "\n",
    "        return prep_text, y, len_"
   ]
  },
  {
   "cell_type": "code",
   "execution_count": null,
   "metadata": {
    "colab": {
     "base_uri": "https://localhost:8080/"
    },
    "id": "DP9CZwXzR1Za",
    "outputId": "0c3559c7-36e3-4a0d-9213-885cd17df651"
   },
   "outputs": [
    {
     "name": "stdout",
     "output_type": "stream",
     "text": [
      "Thu Nov 17 16:54:52 2022       \n",
      "+-----------------------------------------------------------------------------+\n",
      "| NVIDIA-SMI 460.32.03    Driver Version: 460.32.03    CUDA Version: 11.2     |\n",
      "|-------------------------------+----------------------+----------------------+\n",
      "| GPU  Name        Persistence-M| Bus-Id        Disp.A | Volatile Uncorr. ECC |\n",
      "| Fan  Temp  Perf  Pwr:Usage/Cap|         Memory-Usage | GPU-Util  Compute M. |\n",
      "|                               |                      |               MIG M. |\n",
      "|===============================+======================+======================|\n",
      "|   0  Tesla T4            Off  | 00000000:00:04.0 Off |                    0 |\n",
      "| N/A   57C    P0    28W /  70W |    842MiB / 15109MiB |      0%      Default |\n",
      "|                               |                      |                  N/A |\n",
      "+-------------------------------+----------------------+----------------------+\n",
      "                                                                               \n",
      "+-----------------------------------------------------------------------------+\n",
      "| Processes:                                                                  |\n",
      "|  GPU   GI   CI        PID   Type   Process name                  GPU Memory |\n",
      "|        ID   ID                                                   Usage      |\n",
      "|=============================================================================|\n",
      "+-----------------------------------------------------------------------------+\n"
     ]
    },
    {
     "data": {
      "text/plain": [
       "True"
      ]
     },
     "execution_count": 12,
     "metadata": {},
     "output_type": "execute_result"
    }
   ],
   "source": [
    "!nvidia-smi\n",
    "torch.cuda.is_available()"
   ]
  },
  {
   "cell_type": "code",
   "execution_count": 98,
   "metadata": {
    "id": "tNbXkF8-SgcP"
   },
   "outputs": [],
   "source": [
    "batch_size = 64\n",
    "\n",
    "train_dataset = HPACDataset(path_train, mode='train')\n",
    "trainloader = DataLoader(train_dataset, batch_size=batch_size, shuffle=True)\n",
    "\n",
    "val_dataset = HPACDataset(path_val, mode='val')\n",
    "valloader = DataLoader(val_dataset, batch_size=batch_size, shuffle=False)\n",
    "\n",
    "test_dataset = HPACDataset(path_test, mode='test')\n",
    "testloader = DataLoader(val_dataset, batch_size=7605, shuffle=False)"
   ]
  },
  {
   "cell_type": "code",
   "execution_count": 99,
   "metadata": {
    "colab": {
     "base_uri": "https://localhost:8080/"
    },
    "id": "X0K70Ti0SmCC",
    "outputId": "b4d0e5c7-cb22-417c-a5bb-cf5f62b99380"
   },
   "outputs": [
    {
     "data": {
      "text/plain": [
       "(60980, 7605, 7605)"
      ]
     },
     "execution_count": 99,
     "metadata": {},
     "output_type": "execute_result"
    }
   ],
   "source": [
    "len(trainloader.dataset), len(valloader.dataset), len(testloader.dataset)"
   ]
  },
  {
   "cell_type": "code",
   "execution_count": 100,
   "metadata": {
    "colab": {
     "base_uri": "https://localhost:8080/"
    },
    "id": "xc8wLR-QTOgK",
    "outputId": "bd3d2456-5ff4-4bce-a400-747ce4d86ddf"
   },
   "outputs": [
    {
     "data": {
      "text/plain": [
       "device(type='cuda')"
      ]
     },
     "execution_count": 100,
     "metadata": {},
     "output_type": "execute_result"
    }
   ],
   "source": [
    "device = torch.device('cuda') if torch.cuda.is_available() else torch.device('cpu')\n",
    "device"
   ]
  },
  {
   "cell_type": "code",
   "execution_count": 117,
   "metadata": {
    "id": "UoUE3NZdPfOY"
   },
   "outputs": [],
   "source": [
    "class LSTM(torch.nn.Module) :\n",
    "    def __init__(self, vocab_size, embedding_dim, hidden_dim, n_classes) :\n",
    "        super().__init__()\n",
    "        self.embeddings = nn.Embedding(vocab_size, embedding_dim, padding_idx=0)\n",
    "        self.lstm = nn.LSTM(embedding_dim, hidden_dim, batch_first=True)\n",
    "        self.linear = nn.Linear(hidden_dim, 125)\n",
    "        self.dropout = nn.Dropout(0.2)\n",
    "        self.relu = nn.ReLU()\n",
    "        self.out_linear = nn.Linear(125, n_classes)\n",
    "        self.sigmoid = nn.Sigmoid()\n",
    "        \n",
    "    def forward(self, x, l):\n",
    "        x = self.embeddings(x)\n",
    "        x = self.dropout(x)\n",
    "        lstm_out, (hidden, cell) = self.lstm(x)\n",
    "\n",
    "        out = hidden[-1, :, :]\n",
    "        out = self.linear(out)\n",
    "        out = self.relu(out)\n",
    "        out = self.out_linear(out)\n",
    "        out = self.sigmoid(out)\n",
    "        \n",
    "        return out"
   ]
  },
  {
   "cell_type": "code",
   "execution_count": 106,
   "metadata": {
    "id": "yycMcyCXwucj"
   },
   "outputs": [],
   "source": [
    "def score_model(model, metric, data):\n",
    "    model.eval()  # testing mode\n",
    "    scores = 0\n",
    "    for X_batch, Y_label in data:\n",
    "        with torch.no_grad():\n",
    "            Y_pred = torch.sigmoid( model(X_batch.to(device)) )\n",
    "            Y_pred = torch.round(Y_pred)\n",
    "            scores += metric(Y_pred, Y_label.to(device)).mean().item()\n",
    "\n",
    "    return scores/len(data)"
   ]
  },
  {
   "cell_type": "code",
   "execution_count": 118,
   "metadata": {
    "id": "FSLNcZHgPWhR"
   },
   "outputs": [],
   "source": [
    "def train(model, epochs=10, lr=0.1):\n",
    "    torch.cuda.empty_cache()\n",
    "    #clear_output(wait=True)\n",
    "    loss_train = []\n",
    "    loss_val = []\n",
    "    #times = []\n",
    "    f1_test = []\n",
    "\n",
    "    parameters = filter(lambda p: p.requires_grad, model.parameters())\n",
    "    optimizer = torch.optim.Adam(parameters, lr=lr)\n",
    "    criterion = nn.CrossEntropyLoss()\n",
    "\n",
    "    for i in tqdm(range(epochs)):\n",
    "        print(f'Epoch {i+1}')\n",
    "        #tic = time()\n",
    "        loss_train_epoch = []\n",
    "        loss_val_epoch = []\n",
    "\n",
    "        model.train()\n",
    "        \n",
    "        for x, y, l in trainloader:\n",
    "            x = x.to(device)\n",
    "            y = y.to(device) \n",
    "            l = l.to(device)\n",
    "\n",
    "            #x = x.long()\n",
    "            #y = y.long()\n",
    "            y_pred = model(x, l)\n",
    "            optimizer.zero_grad()\n",
    "            loss = F.cross_entropy(y_pred, y)\n",
    "            loss.backward()\n",
    "            optimizer.step()\n",
    "\n",
    "            loss_train_epoch.append(loss.item())\n",
    "\n",
    "        #time_epoch = time() - tic\n",
    "        #times.append(time_epoch)    \n",
    "        \n",
    "        print('train loss: %f' % np.mean(loss_train_epoch))\n",
    "        loss_train.append(np.mean(loss_train_epoch))\n",
    "        #print(loss_train)\n",
    "\n",
    "        #train_score = score_model(model, metric, data_tr)\n",
    "        #train_scores.append(train_score)\n",
    "\n",
    "        model.eval()\n",
    "        for x, y, l in valloader:\n",
    "            x = x.to(device)\n",
    "            y = y.to(device) \n",
    "            l = l.to(device)\n",
    "\n",
    "            with torch.no_grad():\n",
    "                y_hat = model(x, l)\n",
    "                loss = criterion(y_hat, y)\n",
    "                preds = torch.argmax(y_hat, 1)\n",
    "\n",
    "                loss_val_epoch.append(loss.item())\n",
    "                \n",
    "        loss_val.append(np.mean(loss_val_epoch))\n",
    "        print('val loss: %f' % np.mean(loss_val_epoch))\n",
    "        #print(loss_val)\n",
    "\n",
    "        #accuracy = accuracy_score(y, preds)\n",
    "        #f1 = f1_score(y, preds, average = 'macro')\n",
    "        f1 = predict(model, testloader)\n",
    "        f1_test.append(f1)\n",
    "        print('f1 test: %f' % f1)\n",
    "        #print(f1_test)\n",
    "\n",
    "        # отрисовка графиков\n",
    "        \n",
    "        plt.figure(figsize=(16, 3))\n",
    "        plt.plot(np.arange(i+1), loss_train, label='Train')\n",
    "        plt.plot(np.arange(i+1), loss_val, label='Validation')\n",
    "        plt.xlim(0, i+2)\n",
    "        plt.ylabel('Loss')\n",
    "        plt.legend()\n",
    "        plt.show()\n",
    "        \n",
    "        plt.figure(figsize=(16, 3))\n",
    "        plt.plot(np.arange(i+1), f1_test, label='F1 Macro on test')\n",
    "        plt.xlim(0, i+2)\n",
    "        plt.ylim(0, 1)\n",
    "        plt.xlabel('Epoch')\n",
    "        plt.ylabel('Score')\n",
    "        plt.legend()\n",
    "        plt.show()\n",
    "\n",
    "    return loss_train, loss_val, f1_test"
   ]
  },
  {
   "cell_type": "code",
   "execution_count": 119,
   "metadata": {
    "id": "45-eawvLduDH"
   },
   "outputs": [],
   "source": [
    "def predict(model, testloader):\n",
    "    model.eval()\n",
    "    with torch.no_grad():\n",
    "      \n",
    "        for inputs, y, l in testloader:\n",
    "            inputs = inputs.to(device)\n",
    "            \n",
    "            outputs = model(inputs, l).cpu()\n",
    "            logits = outputs\n",
    "            labels = y\n",
    "            \n",
    "    preds = np.argmax(logits, axis=1)\n",
    "    f1 = f1_score(labels, preds, average = 'macro')\n",
    "    return f1"
   ]
  },
  {
   "cell_type": "code",
   "execution_count": 120,
   "metadata": {
    "id": "hQJX7VIwPsUM"
   },
   "outputs": [],
   "source": [
    "#batch_size = 16\n",
    "vocab_size = len(words)\n",
    "\n",
    "model =  LSTM(vocab_size, 200, 256, n_classes = n_classes).to(device)"
   ]
  },
  {
   "cell_type": "code",
   "execution_count": null,
   "metadata": {
    "colab": {
     "base_uri": "https://localhost:8080/",
     "height": 66,
     "referenced_widgets": [
      "3e3649be655b4125993064e7a1bd3619",
      "e4875e59797a405b9ee4672b99c23cef",
      "def6ca0f6e8044318f02c8ed337e4f27",
      "a48c378ed5e948c9a80e8d33a62ebd1f",
      "1da2c78ec3674a3aa41595055a03972a",
      "e66094a8f5384f1082ba1a4b103d1fd7",
      "0a3fc865e4654b4ebd55b8530fc74621",
      "ca2239b4ee5d4d4da9059c32685bdc6c",
      "b187936a6f044a32a33d51c2a91cd08f",
      "7ea2453e796248ccaeb7a11622d65aef",
      "54dd16f8d447491a9ade8430354e3629"
     ]
    },
    "id": "LcGIwae2PWeI",
    "outputId": "2b21a538-e0d3-46a2-e13c-ef90e467f57c"
   },
   "outputs": [
    {
     "data": {
      "application/vnd.jupyter.widget-view+json": {
       "model_id": "3e3649be655b4125993064e7a1bd3619",
       "version_major": 2,
       "version_minor": 0
      },
      "text/plain": [
       "  0%|          | 0/10 [00:00<?, ?it/s]"
      ]
     },
     "metadata": {},
     "output_type": "display_data"
    },
    {
     "name": "stdout",
     "output_type": "stream",
     "text": [
      "Epoch 1\n"
     ]
    }
   ],
   "source": [
    "history = train(model, epochs=10, lr=0.1)"
   ]
  },
  {
   "cell_type": "code",
   "execution_count": 76,
   "metadata": {
    "colab": {
     "base_uri": "https://localhost:8080/"
    },
    "id": "4WU780RddXSG",
    "outputId": "4d8237fe-5ee0-4019-b01b-b05fde22f17a"
   },
   "outputs": [
    {
     "data": {
      "text/plain": [
       "<All keys matched successfully>"
      ]
     },
     "execution_count": 76,
     "metadata": {},
     "output_type": "execute_result"
    }
   ],
   "source": [
    "  path = '/content/drive/MyDrive/lstm_model.pth'\n",
    "\n",
    "torch.save(model.state_dict(), path)\n",
    "\n",
    "checkpoint = torch.load(path)\n",
    "\n",
    "model.load_state_dict(checkpoint)"
   ]
  },
  {
   "cell_type": "code",
   "execution_count": 77,
   "metadata": {
    "colab": {
     "base_uri": "https://localhost:8080/"
    },
    "id": "S-JSg0OjaFQd",
    "outputId": "409c43e8-60e3-4833-e169-25ea7720cfec"
   },
   "outputs": [
    {
     "data": {
      "text/plain": [
       "([3.9864979031703904], [3.988719782408546], [0.001622383574031224])"
      ]
     },
     "execution_count": 77,
     "metadata": {},
     "output_type": "execute_result"
    }
   ],
   "source": [
    "history"
   ]
  },
  {
   "cell_type": "code",
   "execution_count": null,
   "metadata": {
    "id": "uEDZh_qe85M4"
   },
   "outputs": [],
   "source": []
  },
  {
   "cell_type": "markdown",
   "metadata": {
    "id": "H7GMgtk3cseb"
   },
   "source": [
    "## Download data"
   ]
  },
  {
   "cell_type": "code",
   "execution_count": 1,
   "metadata": {
    "id": "00g_2y50Ut_w"
   },
   "outputs": [],
   "source": [
    "!wget https://www.dropbox.com/s/yp7fenfs4c8ohef/hpac_raw.zip?dl=0 -O hpac_raw.zip -q"
   ]
  },
  {
   "cell_type": "code",
   "execution_count": 2,
   "metadata": {
    "id": "534oY7-CcWpj"
   },
   "outputs": [],
   "source": [
    "!wget https://www.dropbox.com/s/u0l2fkkmtmjumbx/hpac_lower_tokenized.zip?dl=0 -O hpac_lower_tokenized.zip -q"
   ]
  },
  {
   "cell_type": "code",
   "execution_count": 3,
   "metadata": {
    "id": "ee7VXOZ8elab"
   },
   "outputs": [],
   "source": [
    "!unzip -q hpac_lower_tokenized.zip"
   ]
  },
  {
   "cell_type": "markdown",
   "metadata": {
    "id": "fLAH34KadWTL"
   },
   "source": [
    "# Task 1. Exploratory analysis"
   ]
  },
  {
   "cell_type": "markdown",
   "metadata": {
    "id": "jOixahv4dnjl"
   },
   "source": [
    "## Stop words"
   ]
  },
  {
   "cell_type": "code",
   "execution_count": 4,
   "metadata": {
    "colab": {
     "base_uri": "https://localhost:8080/"
    },
    "id": "-ZrnXOBidpwY",
    "outputId": "fd0ed73c-ed7e-42ac-9393-e77eb2455109"
   },
   "outputs": [
    {
     "name": "stderr",
     "output_type": "stream",
     "text": [
      "[nltk_data] Downloading package stopwords to /root/nltk_data...\n",
      "[nltk_data]   Unzipping corpora/stopwords.zip.\n"
     ]
    }
   ],
   "source": [
    "import nltk\n",
    "from nltk.corpus import stopwords\n",
    "\n",
    "nltk.download('stopwords')\n",
    "english_stopwords = stopwords.words('english')"
   ]
  },
  {
   "cell_type": "code",
   "execution_count": 5,
   "metadata": {
    "colab": {
     "base_uri": "https://localhost:8080/"
    },
    "id": "xNklNq8pdm6e",
    "outputId": "240fcb23-fe76-479d-eb73-ef830a7ee13d"
   },
   "outputs": [
    {
     "data": {
      "text/plain": [
       "['i', 'me', 'my', 'myself', 'we', 'our', 'ours', 'ourselves', 'you', \"you're\"]"
      ]
     },
     "execution_count": 5,
     "metadata": {},
     "output_type": "execute_result"
    }
   ],
   "source": [
    "english_stopwords[:10]"
   ]
  },
  {
   "cell_type": "markdown",
   "metadata": {
    "id": "-0IMIpjtiRp8"
   },
   "source": [
    "## Punctuation"
   ]
  },
  {
   "cell_type": "code",
   "execution_count": 6,
   "metadata": {
    "id": "E6AWkKyoiUgg"
   },
   "outputs": [],
   "source": [
    "from string import punctuation"
   ]
  },
  {
   "cell_type": "code",
   "execution_count": 7,
   "metadata": {
    "colab": {
     "base_uri": "https://localhost:8080/",
     "height": 36
    },
    "id": "nf08gZSTiYFA",
    "outputId": "96a1a08e-d70d-4d9b-efc2-c0296b34c72a"
   },
   "outputs": [
    {
     "data": {
      "application/vnd.google.colaboratory.intrinsic+json": {
       "type": "string"
      },
      "text/plain": [
       "'!\"#$%&\\'()*+,-./:;<=>?@[\\\\]^_`{|}~'"
      ]
     },
     "execution_count": 7,
     "metadata": {},
     "output_type": "execute_result"
    }
   ],
   "source": [
    "punctuation"
   ]
  },
  {
   "cell_type": "markdown",
   "metadata": {
    "id": "08v95cG5fC2J"
   },
   "source": [
    "## Look at how many files are there in the lower tokenized files"
   ]
  },
  {
   "cell_type": "code",
   "execution_count": 8,
   "metadata": {
    "id": "d1KhOtKSc4Pu"
   },
   "outputs": [],
   "source": [
    "import os"
   ]
  },
  {
   "cell_type": "code",
   "execution_count": 9,
   "metadata": {
    "colab": {
     "base_uri": "https://localhost:8080/"
    },
    "id": "-GUN0cszcna2",
    "outputId": "89d76ac9-2196-445e-be39-e84af82d3aff"
   },
   "outputs": [
    {
     "data": {
      "text/plain": [
       "36225"
      ]
     },
     "execution_count": 9,
     "metadata": {},
     "output_type": "execute_result"
    }
   ],
   "source": [
    "len(os.listdir('./hpac_source/'))"
   ]
  },
  {
   "cell_type": "markdown",
   "metadata": {
    "id": "qmR7TkYWfXGr"
   },
   "source": [
    "Since amount of files is big let's define a dataloader in order to process files in the online mode"
   ]
  },
  {
   "cell_type": "markdown",
   "metadata": {
    "id": "REMLXoJ8frpe"
   },
   "source": [
    "### Define dataset and dataloader"
   ]
  },
  {
   "cell_type": "code",
   "execution_count": 10,
   "metadata": {
    "id": "xnYmjcoufdfH"
   },
   "outputs": [],
   "source": [
    "import torch\n",
    "from torch.utils.data import DataLoader, Dataset"
   ]
  },
  {
   "cell_type": "code",
   "execution_count": 11,
   "metadata": {
    "id": "GdwISkTyfg5U"
   },
   "outputs": [],
   "source": [
    "class HpacSourceDataset(Dataset):\n",
    "  def __init__(self, path):\n",
    "    self.path = path\n",
    "    self.file_names = torch.tensor(sorted(map(int, os.listdir(self.path))))\n",
    "\n",
    "  def __len__(self):\n",
    "    return self.file_names.size(0)\n",
    "\n",
    "  def __getitem__(self, idx):\n",
    "    file_name = str(self.file_names[idx].item())\n",
    "\n",
    "    with open(os.path.join(self.path, file_name), 'r', encoding='utf-8') as f:\n",
    "      text = f.read()\n",
    "\n",
    "    return text"
   ]
  },
  {
   "cell_type": "code",
   "execution_count": 12,
   "metadata": {
    "id": "0bAWrXG3hkg3"
   },
   "outputs": [],
   "source": [
    "hpac_source_dataset = HpacSourceDataset('./hpac_source/')"
   ]
  },
  {
   "cell_type": "code",
   "execution_count": 13,
   "metadata": {
    "colab": {
     "base_uri": "https://localhost:8080/"
    },
    "id": "NAPHYtJ7hkhy",
    "outputId": "3502662a-79a5-4808-b7e7-5ef5e2fad81f"
   },
   "outputs": [
    {
     "data": {
      "text/plain": [
       "36225"
      ]
     },
     "execution_count": 13,
     "metadata": {},
     "output_type": "execute_result"
    }
   ],
   "source": [
    "len(hpac_source_dataset)"
   ]
  },
  {
   "cell_type": "code",
   "execution_count": 14,
   "metadata": {
    "colab": {
     "base_uri": "https://localhost:8080/",
     "height": 36
    },
    "id": "FqNKsLuEhxEQ",
    "outputId": "15ee3a55-9082-4519-dbbd-6ac4640a3876"
   },
   "outputs": [
    {
     "data": {
      "application/vnd.google.colaboratory.intrinsic+json": {
       "type": "string"
      },
      "text/plain": [
       "'harry potter and the last batt'"
      ]
     },
     "execution_count": 14,
     "metadata": {},
     "output_type": "execute_result"
    }
   ],
   "source": [
    "hpac_source_dataset[0][:30]"
   ]
  },
  {
   "cell_type": "code",
   "execution_count": 15,
   "metadata": {
    "id": "dFaU0P1MlxuG"
   },
   "outputs": [],
   "source": [
    "def prep_text(texts):\n",
    "  filter_fn = lambda word: word not in punctuation and word not in english_stopwords\n",
    "  c = Counter()\n",
    "\n",
    "  for text in texts:\n",
    "    c.update(filter(filter_fn, text.split()))\n",
    "\n",
    "  return c"
   ]
  },
  {
   "cell_type": "code",
   "execution_count": 16,
   "metadata": {
    "id": "H3BI09FnlrDb"
   },
   "outputs": [],
   "source": [
    "hpac_source_dataloader = DataLoader(hpac_source_dataset, shuffle=False, collate_fn=prep_text)"
   ]
  },
  {
   "cell_type": "markdown",
   "metadata": {
    "id": "755mn3-MipSD"
   },
   "source": [
    "### Count words"
   ]
  },
  {
   "cell_type": "code",
   "execution_count": 17,
   "metadata": {
    "id": "XW5dJ7m4h2JM"
   },
   "outputs": [],
   "source": [
    "from collections import Counter"
   ]
  },
  {
   "cell_type": "code",
   "execution_count": 18,
   "metadata": {
    "id": "P961N-EbjyRZ"
   },
   "outputs": [],
   "source": [
    "from tqdm import tqdm"
   ]
  },
  {
   "cell_type": "code",
   "execution_count": null,
   "metadata": {
    "colab": {
     "base_uri": "https://localhost:8080/"
    },
    "id": "DODc50rwnLE4",
    "outputId": "3b2697e4-0751-484f-e1d3-ce95a8cfdc6d"
   },
   "outputs": [
    {
     "name": "stderr",
     "output_type": "stream",
     "text": [
      "100%|██████████| 36225/36225 [25:17<00:00, 23.87it/s]\n"
     ]
    }
   ],
   "source": [
    "hpac_source_counter = Counter()\n",
    "\n",
    "for c in tqdm(hpac_source_dataloader, total=len(hpac_source_dataloader)):\n",
    "  hpac_source_counter.update(c)"
   ]
  },
  {
   "cell_type": "markdown",
   "metadata": {
    "id": "CFTmzn2cvFDO"
   },
   "source": [
    "### Top 1000 words"
   ]
  },
  {
   "cell_type": "code",
   "execution_count": null,
   "metadata": {
    "id": "gCuHr5-jj69a"
   },
   "outputs": [],
   "source": [
    "print(list(map(lambda x: x[0], hpac_source_counter.most_common(1000))))"
   ]
  },
  {
   "cell_type": "markdown",
   "metadata": {
    "id": "1sUm6z-DvHOQ"
   },
   "source": [
    "Some punctuation symbols got there but those aren't many so we simply ignore this fact.\n",
    "\n",
    "Interesting stuff: we see that names of main heros are in the top words: Harry, Hermione, Draco. Main actors like Ron is less popular than the rest 3 persons but his sister Ginny whis is supposed to be a secondary actor is quite popular among fans. \n",
    "\n"
   ]
  },
  {
   "cell_type": "markdown",
   "metadata": {
    "id": "qq0jj3lUSGZx"
   },
   "source": [
    "### Top 10 characters"
   ]
  },
  {
   "cell_type": "markdown",
   "metadata": {
    "id": "ayG0Y6wU2d_b"
   },
   "source": [
    "Let's get the list of characters (found on the internet and parsed)"
   ]
  },
  {
   "cell_type": "code",
   "execution_count": 20,
   "metadata": {
    "id": "nmbGlUCs3LZg"
   },
   "outputs": [],
   "source": [
    "characters = ['Albus Dumbledore', 'Minerva McGonagall', 'Rubeus Hagrid',\n",
    "       'Petunia Dursley', 'Dudley Dursley', 'Vernon Dursley',\n",
    "       'Harry Potter', 'Snake', 'Tom', 'Doris Crockford',\n",
    "       'Quirinus Quirrell', 'Goblin', 'Griphook', 'Garrick Ollivander',\n",
    "       'Guard', 'Molly Weasley', 'George Weasley', 'Fred Weasley',\n",
    "       'Ginny Weasley', 'Ron Weasley', 'Trolley lady', 'Hermione Granger',\n",
    "       'Neville Longbottom', 'Draco Malfoy', 'Sorting Hat',\n",
    "       'Seamus Finnigan', 'Percy Weasley', 'Nearly Headless Nick',\n",
    "       'Bloody Baron', 'The Fat Lady', 'Severus Snape', 'Rolanda Hooch',\n",
    "       'Class', 'Argus Filch', 'Oliver Wood', 'Filius Flitwick',\n",
    "       'Lee Jordan', 'Marcus Flint', 'Man', 'Firenze', 'Voldemort']"
   ]
  },
  {
   "cell_type": "code",
   "execution_count": 21,
   "metadata": {
    "colab": {
     "base_uri": "https://localhost:8080/"
    },
    "id": "Vg3qG0V23OrW",
    "outputId": "8a17eb68-924a-4acd-e03c-df70f216a83a"
   },
   "outputs": [
    {
     "name": "stdout",
     "output_type": "stream",
     "text": [
      "['albus dumbledore', 'albus', 'professor albus', 'dumbledore', 'professor dumbledore', 'minerva mcgonagall', 'minerva', 'professor minerva', 'mcgonagall', 'professor mcgonagall', 'rubeus hagrid', 'rubeus', 'professor rubeus', 'hagrid', 'professor hagrid', 'petunia dursley', 'petunia', 'professor petunia', 'dursley', 'professor dursley', 'dudley dursley', 'dudley', 'professor dudley', 'dursley', 'professor dursley', 'vernon dursley', 'vernon', 'professor vernon', 'dursley', 'professor dursley', 'harry potter', 'harry', 'professor harry', 'potter', 'professor potter', 'snake', 'professor snake', 'tom', 'professor tom', 'doris crockford', 'doris', 'professor doris', 'crockford', 'professor crockford', 'quirinus quirrell', 'quirinus', 'professor quirinus', 'quirrell', 'professor quirrell', 'goblin', 'professor goblin', 'griphook', 'professor griphook', 'garrick ollivander', 'garrick', 'professor garrick', 'ollivander', 'professor ollivander', 'guard', 'professor guard', 'molly weasley', 'molly', 'professor molly', 'weasley', 'professor weasley', 'george weasley', 'george', 'professor george', 'weasley', 'professor weasley', 'fred weasley', 'fred', 'professor fred', 'weasley', 'professor weasley', 'ginny weasley', 'ginny', 'professor ginny', 'weasley', 'professor weasley', 'ron weasley', 'ron', 'professor ron', 'weasley', 'professor weasley', 'trolley lady', 'trolley', 'professor trolley', 'lady', 'professor lady', 'hermione granger', 'hermione', 'professor hermione', 'granger', 'professor granger', 'neville longbottom', 'neville', 'professor neville', 'longbottom', 'professor longbottom', 'draco malfoy', 'draco', 'professor draco', 'malfoy', 'professor malfoy', 'sorting hat', 'sorting', 'professor sorting', 'hat', 'professor hat', 'seamus finnigan', 'seamus', 'professor seamus', 'finnigan', 'professor finnigan', 'percy weasley', 'percy', 'professor percy', 'weasley', 'professor weasley', 'nearly headless nick', 'nearly', 'professor nearly', 'headless', 'professor headless', 'nick', 'professor nick', 'bloody baron', 'bloody', 'professor bloody', 'baron', 'professor baron', 'the fat lady', 'the', 'professor the', 'fat', 'professor fat', 'lady', 'professor lady', 'severus snape', 'severus', 'professor severus', 'snape', 'professor snape', 'rolanda hooch', 'rolanda', 'professor rolanda', 'hooch', 'professor hooch', 'class', 'professor class', 'argus filch', 'argus', 'professor argus', 'filch', 'professor filch', 'oliver wood', 'oliver', 'professor oliver', 'wood', 'professor wood', 'filius flitwick', 'filius', 'professor filius', 'flitwick', 'professor flitwick', 'lee jordan', 'lee', 'professor lee', 'jordan', 'professor jordan', 'marcus flint', 'marcus', 'professor marcus', 'flint', 'professor flint', 'man', 'professor man', 'firenze', 'professor firenze', 'voldemort', 'professor voldemort']\n"
     ]
    }
   ],
   "source": [
    "characters_lower = []\n",
    "for c in characters:\n",
    "  characters_lower.append(c.lower())\n",
    "  multiple_names = c.lower().split()\n",
    "\n",
    "  if len(multiple_names) > 1:\n",
    "    for name in multiple_names:\n",
    "      characters_lower.append(name)\n",
    "      characters_lower.append(f'professor {name}')\n",
    "  else:\n",
    "    characters_lower.append(f'professor {multiple_names[0]}')\n",
    "\n",
    "print(characters_lower)"
   ]
  },
  {
   "cell_type": "code",
   "execution_count": 22,
   "metadata": {
    "id": "0Hptd1ZNx6X3"
   },
   "outputs": [],
   "source": [
    "def prep_text_names(texts):\n",
    "  c = Counter()\n",
    "\n",
    "  for text in texts:\n",
    "    persons = []\n",
    "\n",
    "    words = text.split()\n",
    "    for i in range(len(words)):\n",
    "      if i < len(words) - 1 and f\"{words[i]} {words[i+1]}\" in characters_lower:\n",
    "        persons.append(f\"{words[i]} {words[i+1]}\")\n",
    "      elif i > 0 and f\"{words[i-1]} {words[i]}\" not in characters_lower and words[i] in characters_lower: # to avoid duplicates\n",
    "        persons.append(words[i])\n",
    "      elif i == 0 and words[i] in characters_lower:\n",
    "        persons.append(words[i])\n",
    "\n",
    "    c.update(persons)\n",
    "\n",
    "  return c"
   ]
  },
  {
   "cell_type": "code",
   "execution_count": 23,
   "metadata": {
    "id": "2aCkuaprzC5a"
   },
   "outputs": [],
   "source": [
    "hpac_source_names_dataloader = DataLoader(hpac_source_dataset, shuffle=False, collate_fn=prep_text_names)"
   ]
  },
  {
   "cell_type": "code",
   "execution_count": null,
   "metadata": {
    "colab": {
     "base_uri": "https://localhost:8080/"
    },
    "id": "RKetx6g6zPLa",
    "outputId": "bf622125-d865-42e6-dea6-b901f9fbc957"
   },
   "outputs": [
    {
     "name": "stderr",
     "output_type": "stream",
     "text": [
      "100%|██████████| 36225/36225 [1:35:00<00:00,  6.35it/s]\n"
     ]
    }
   ],
   "source": [
    "hpac_source_names_counter = Counter()\n",
    "\n",
    "for c in tqdm(hpac_source_names_dataloader, total=len(hpac_source_names_dataloader)):\n",
    "  hpac_source_names_counter.update(c)"
   ]
  },
  {
   "cell_type": "code",
   "execution_count": 30,
   "metadata": {
    "colab": {
     "base_uri": "https://localhost:8080/"
    },
    "id": "3DbDRb4JSKoF",
    "outputId": "86ce7558-9129-4f0d-e60b-d35015c1d0d8"
   },
   "outputs": [
    {
     "data": {
      "text/plain": [
       "[('the', 20758355),\n",
       " ('harry', 3858103),\n",
       " ('hermione', 1795411),\n",
       " ('draco', 1336770),\n",
       " ('ron', 893370),\n",
       " ('ginny', 626763),\n",
       " ('severus', 622495),\n",
       " ('snape', 520556),\n",
       " ('potter', 468148),\n",
       " ('malfoy', 433385),\n",
       " ('dumbledore', 425874)]"
      ]
     },
     "execution_count": 30,
     "metadata": {},
     "output_type": "execute_result"
    }
   ],
   "source": [
    "hpac_source_names_counter.most_common(11)"
   ]
  },
  {
   "cell_type": "markdown",
   "metadata": {
    "id": "krJvHTj_SD_f"
   },
   "source": [
    "Got output 11 names since we see the \"the\" word which is part of name of \"The Fat Lady\", we may ignore it"
   ]
  },
  {
   "cell_type": "markdown",
   "metadata": {
    "id": "q1H1QLQV_Ud_"
   },
   "source": [
    "Pickle counters"
   ]
  },
  {
   "cell_type": "code",
   "execution_count": 26,
   "metadata": {
    "id": "Y0Hv0ELq6uct"
   },
   "outputs": [],
   "source": [
    "import pickle"
   ]
  },
  {
   "cell_type": "code",
   "execution_count": null,
   "metadata": {
    "id": "QpieDZBP_XhY"
   },
   "outputs": [],
   "source": [
    "with open('bkp/hpac_source_counter.pickle', 'wb') as f:\n",
    "  pickle.dump(hpac_source_counter, f)"
   ]
  },
  {
   "cell_type": "code",
   "execution_count": null,
   "metadata": {
    "id": "DDp7vC3i_muX"
   },
   "outputs": [],
   "source": [
    "with open('bkp/hpac_source_names_counter.pickle', 'wb') as f:\n",
    "  pickle.dump(hpac_source_names_counter, f)"
   ]
  },
  {
   "cell_type": "markdown",
   "metadata": {
    "id": "iimiOItoRNSp"
   },
   "source": [
    "Load Pickle counters"
   ]
  },
  {
   "cell_type": "code",
   "execution_count": 27,
   "metadata": {
    "id": "8kC8gGiaGAzq"
   },
   "outputs": [],
   "source": [
    "with open('bkp/hpac_source_counter.pickle', 'rb') as f:\n",
    "  hpac_source_counter_pkl = pickle.load(f)\n",
    "\n",
    "with open('bkp/hpac_source_names_counter.pickle', 'rb') as f:\n",
    "  hpac_source_names_counter_pkl = pickle.load(f)"
   ]
  },
  {
   "cell_type": "code",
   "execution_count": 29,
   "metadata": {
    "id": "TdC5GXY7NhkL"
   },
   "outputs": [],
   "source": [
    "hpac_source_counter = hpac_source_counter_pkl\n",
    "hpac_source_names_counter = hpac_source_names_counter_pkl"
   ]
  },
  {
   "cell_type": "markdown",
   "metadata": {
    "id": "0HJp2fNYTF78"
   },
   "source": [
    "### Convert words to numbers\n",
    "\n",
    "Now we need to convert our texts to numerical kind in order to use them in LDA (for more advanced algorithms we're going to use fasttext)"
   ]
  },
  {
   "cell_type": "code",
   "execution_count": 31,
   "metadata": {
    "id": "K59F9EPjS7uQ"
   },
   "outputs": [],
   "source": [
    "from torchtext.vocab import vocab\n",
    "from collections import OrderedDict"
   ]
  },
  {
   "cell_type": "code",
   "execution_count": 32,
   "metadata": {
    "id": "ebQ3xtRyTFeF"
   },
   "outputs": [],
   "source": [
    "hpac_source_counter_sorted = sorted(hpac_source_counter.items(), key=lambda x: x[1], reverse=True)\n",
    "hpac_source_counter_ordered_dict = OrderedDict(hpac_source_counter_sorted)\n",
    "hpac_source_vocab = vocab(hpac_source_counter_ordered_dict)"
   ]
  },
  {
   "cell_type": "code",
   "execution_count": 33,
   "metadata": {
    "id": "ZmzvwK6ZS_IY"
   },
   "outputs": [],
   "source": [
    "hpac_source_vocab.insert_token(\"<pad>\", 0)\n",
    "hpac_source_vocab.insert_token(\"<unk>\", 1)\n",
    "hpac_source_vocab.set_default_index(1)"
   ]
  },
  {
   "cell_type": "code",
   "execution_count": 34,
   "metadata": {
    "colab": {
     "base_uri": "https://localhost:8080/"
    },
    "id": "K9mrA0U7UFS8",
    "outputId": "36a888a2-21b5-43b0-c348-826e5db83dc2"
   },
   "outputs": [
    {
     "data": {
      "text/plain": [
       "6"
      ]
     },
     "execution_count": 34,
     "metadata": {},
     "output_type": "execute_result"
    }
   ],
   "source": [
    "hpac_source_vocab['harry']"
   ]
  },
  {
   "cell_type": "code",
   "execution_count": 35,
   "metadata": {
    "id": "qeqHZG2vUKy6"
   },
   "outputs": [],
   "source": [
    "import torch.nn as nn\n",
    "\n",
    "def collate_batch(texts):\n",
    "  filter_fn = lambda word: word not in punctuation and word not in english_stopwords\n",
    "\n",
    "  text_list = []\n",
    "  for text in texts:\n",
    "    processed_text = torch.tensor([hpac_source_vocab[word] for word in filter(filter_fn, text.split())], dtype=torch.int64)\n",
    "    if len(processed_text) < 500:\n",
    "      processed_text = torch.cat([processed_text, torch.zeros(500 - len(processed_text) + 1)], dim=0)\n",
    "\n",
    "    text_list.append(processed_text[:500])\n",
    "\n",
    "\n",
    "  padded_text_list = nn.utils.rnn.pad_sequence(text_list, batch_first=True)\n",
    "\n",
    "  return padded_text_list\n",
    "  "
   ]
  },
  {
   "cell_type": "code",
   "execution_count": 36,
   "metadata": {
    "id": "G8tpuCJHVbFJ"
   },
   "outputs": [],
   "source": [
    "hpac_source_dl = DataLoader(hpac_source_dataset, shuffle=False, collate_fn=collate_batch, batch_size=4)"
   ]
  },
  {
   "cell_type": "code",
   "execution_count": 37,
   "metadata": {
    "colab": {
     "base_uri": "https://localhost:8080/"
    },
    "id": "RkniJF7HVmsy",
    "outputId": "e1597838-e1cd-4fd0-b1fa-29d88fa741bb"
   },
   "outputs": [
    {
     "data": {
      "text/plain": [
       "array([[    6,    47,    86, ...,  3841,   182,   664],\n",
       "       [ 3459,  2368,     6, ...,     6,  2140,     2],\n",
       "       [  901,   436,    12, ...,  2920,    20,   779],\n",
       "       [ 4148,  7893,  3090, ...,   145,  1013, 31298]])"
      ]
     },
     "execution_count": 37,
     "metadata": {},
     "output_type": "execute_result"
    }
   ],
   "source": [
    "next(iter(hpac_source_dl)).numpy()"
   ]
  },
  {
   "cell_type": "markdown",
   "metadata": {
    "id": "ciC0Vxa9WCGW"
   },
   "source": [
    "### LDA for topic modeling"
   ]
  },
  {
   "cell_type": "code",
   "execution_count": 38,
   "metadata": {
    "id": "8i4nEMy3V_xo"
   },
   "outputs": [],
   "source": [
    "from sklearn.decomposition import LatentDirichletAllocation\n",
    "\n",
    "lda = LatentDirichletAllocation(n_components=10, learning_method='online')"
   ]
  },
  {
   "cell_type": "code",
   "execution_count": null,
   "metadata": {
    "colab": {
     "base_uri": "https://localhost:8080/"
    },
    "id": "o46MZbr7WOVg",
    "outputId": "fe017a4f-a868-4c16-8d14-24d6267e3a5d"
   },
   "outputs": [
    {
     "name": "stderr",
     "output_type": "stream",
     "text": [
      "100%|██████████| 9057/9057 [28:16<00:00,  5.34it/s]\n"
     ]
    }
   ],
   "source": [
    "for mini_batch in tqdm(hpac_source_dl, total=len(hpac_source_dl)):\n",
    "  lda.partial_fit(mini_batch.numpy())"
   ]
  },
  {
   "cell_type": "code",
   "execution_count": null,
   "metadata": {
    "id": "DQUk4hdvWaeQ"
   },
   "outputs": [],
   "source": [
    "with open('bkp/lda.pickle', 'wb') as f:\n",
    "  pickle.dump(lda, f)"
   ]
  },
  {
   "cell_type": "code",
   "execution_count": 39,
   "metadata": {
    "id": "JbqX7e9IsQhz"
   },
   "outputs": [],
   "source": [
    "with open('bkp/lda.pickle', 'rb') as f:\n",
    "  lda = pickle.load(f)"
   ]
  },
  {
   "cell_type": "code",
   "execution_count": 40,
   "metadata": {
    "colab": {
     "base_uri": "https://localhost:8080/"
    },
    "id": "dXatrr06sYhJ",
    "outputId": "55937196-fde3-4e3e-f3c4-0ccd257073c7"
   },
   "outputs": [
    {
     "data": {
      "text/plain": [
       "LatentDirichletAllocation(learning_method='online')"
      ]
     },
     "execution_count": 40,
     "metadata": {},
     "output_type": "execute_result"
    }
   ],
   "source": [
    "lda"
   ]
  },
  {
   "cell_type": "code",
   "execution_count": 41,
   "metadata": {
    "colab": {
     "base_uri": "https://localhost:8080/"
    },
    "id": "KEGGTBarN72_",
    "outputId": "e2d3d18b-a4ad-4915-c4e7-b93a138e1d75"
   },
   "outputs": [
    {
     "data": {
      "text/plain": [
       "array([[1.48182859e+06, 1.72789109e+04, 1.12529559e+06, ...,\n",
       "        3.73211231e+04, 3.19184080e+03, 7.16396618e+04],\n",
       "       [3.17458330e+06, 1.40109183e+05, 7.06069857e+04, ...,\n",
       "        7.62391695e+06, 1.54319190e+07, 1.10524488e+06],\n",
       "       [1.17021440e+07, 7.34340840e+05, 2.30743519e+05, ...,\n",
       "        6.04865441e+05, 1.06705267e+06, 9.86703751e+05],\n",
       "       ...,\n",
       "       [4.79146523e+07, 5.98184894e+07, 1.12665281e+10, ...,\n",
       "        3.42910190e+06, 7.22066935e+04, 1.87800756e+07],\n",
       "       [1.81827281e+08, 1.91686795e+06, 1.05945916e+07, ...,\n",
       "        2.80179319e+08, 1.52841039e+07, 1.35679876e+07],\n",
       "       [2.82793228e+07, 4.43567481e+06, 9.13542652e+05, ...,\n",
       "        4.30145520e+06, 2.37141579e+07, 1.27371406e+06]])"
      ]
     },
     "execution_count": 41,
     "metadata": {},
     "output_type": "execute_result"
    }
   ],
   "source": [
    "lda.components_"
   ]
  },
  {
   "cell_type": "markdown",
   "metadata": {
    "id": "ozOq2i7yRXLO"
   },
   "source": [
    "### LSTM network\n",
    "\n",
    "We use LSTM layer as RNN is unable to capture long-range dependencies in sequences and is less prone to gradient explosion and vanishing"
   ]
  },
  {
   "cell_type": "code",
   "execution_count": 75,
   "metadata": {
    "id": "mt2z_vJiRucB"
   },
   "outputs": [],
   "source": [
    "class RNN(nn.Module):\n",
    "    def __init__(self, vocab_size, embed_dim, rnn_hidden_size, fc_hidden_size):\n",
    "        super().__init__()\n",
    "        \n",
    "        self.embedding = nn.Embedding(num_embeddings=vocab_size, embedding_dim=embed_dim, padding_idx=0)\n",
    "        \n",
    "        self.rnn = nn.LSTM(embed_dim, rnn_hidden_size, batch_first=True)\n",
    "        self.fc1 = nn.Linear(rnn_hidden_size, fc_hidden_size)\n",
    "        self.relu = nn.ReLU()\n",
    "        self.fc2 = nn.Linear(fc_hidden_size, 1)\n",
    "        \n",
    "        \n",
    "    def forward(self, text, lengths):\n",
    "        out = self.embedding(text)\n",
    "        out = nn.utils.rnn.pack_padded_sequence(\n",
    "            out, lengths.cpu().numpy(), enforce_sorted=False, batch_first=True\n",
    "        )\n",
    "        \n",
    "        out, (hidden, cell) = self.rnn(out)\n",
    "        \n",
    "        out = hidden[-1, :, :]\n",
    "        out = self.fc1(out)\n",
    "        out = self.relu(out)\n",
    "        out = self.fc2(out)\n",
    "        \n",
    "        return out\n"
   ]
  },
  {
   "cell_type": "code",
   "execution_count": 76,
   "metadata": {
    "colab": {
     "base_uri": "https://localhost:8080/"
    },
    "id": "1Qb2cw3PRvsz",
    "outputId": "b1e097bd-7b05-4e8b-d851-0b031c03d5e6"
   },
   "outputs": [
    {
     "data": {
      "text/plain": [
       "RNN(\n",
       "  (embedding): Embedding(613704, 30, padding_idx=0)\n",
       "  (rnn): LSTM(30, 64, batch_first=True)\n",
       "  (fc1): Linear(in_features=64, out_features=64, bias=True)\n",
       "  (relu): ReLU()\n",
       "  (fc2): Linear(in_features=64, out_features=1, bias=True)\n",
       ")"
      ]
     },
     "execution_count": 76,
     "metadata": {},
     "output_type": "execute_result"
    }
   ],
   "source": [
    "embed_dim = 20\n",
    "rnn_hidden_size = 64\n",
    "fc_hidden_size = 64\n",
    "\n",
    "model = RNN(len(hpac_source_vocab),  30, 64, 64)\n",
    "model"
   ]
  },
  {
   "cell_type": "code",
   "execution_count": 77,
   "metadata": {
    "id": "5y0DC8CnSF4y"
   },
   "outputs": [],
   "source": [
    "loss_fn = nn.CrossEntropyLoss()\n",
    "optimizer = torch.optim.Adam(model.parameters(), lr=0.001)"
   ]
  },
  {
   "cell_type": "code",
   "execution_count": null,
   "metadata": {
    "id": "BDW9PyP7SF7l"
   },
   "outputs": [],
   "source": [
    "for text_batch, label_batch in hpac_source_dl:\n",
    "  optimizer.zero_grad()\n",
    "  pred = model(text_batch, 500)[:, 0]\n",
    "  loss = loss_fn(pred, label_batch.float())\n",
    "  \n",
    "  loss.backward()\n",
    "  optimizer.step()"
   ]
  },
  {
   "cell_type": "markdown",
   "metadata": {
    "id": "-foPYrWz_Clm"
   },
   "source": [
    "### FastText learning\n",
    "In this section we're gonna train fasttext. It works with one file only so we need to merge all the available hpac files into one"
   ]
  },
  {
   "cell_type": "code",
   "execution_count": 42,
   "metadata": {
    "id": "wCEvyn-OMQFE"
   },
   "outputs": [],
   "source": [
    "sentences_dl = DataLoader(hpac_source_dataset, batch_size=2)"
   ]
  },
  {
   "cell_type": "code",
   "execution_count": 43,
   "metadata": {
    "colab": {
     "base_uri": "https://localhost:8080/"
    },
    "id": "3q4SWN0aEXmU",
    "outputId": "3bfee436-ab88-4109-ee96-68f5522e9fca"
   },
   "outputs": [
    {
     "name": "stdout",
     "output_type": "stream",
     "text": [
      "Looking in indexes: https://pypi.org/simple, https://us-python.pkg.dev/colab-wheels/public/simple/\n",
      "Collecting fasttext\n",
      "  Downloading fasttext-0.9.2.tar.gz (68 kB)\n",
      "\u001b[K     |████████████████████████████████| 68 kB 3.2 MB/s \n",
      "\u001b[?25hCollecting pybind11>=2.2\n",
      "  Using cached pybind11-2.10.1-py3-none-any.whl (216 kB)\n",
      "Requirement already satisfied: setuptools>=0.7.0 in /usr/local/lib/python3.7/dist-packages (from fasttext) (57.4.0)\n",
      "Requirement already satisfied: numpy in /usr/local/lib/python3.7/dist-packages (from fasttext) (1.21.6)\n",
      "Building wheels for collected packages: fasttext\n",
      "  Building wheel for fasttext (setup.py) ... \u001b[?25l\u001b[?25hdone\n",
      "  Created wheel for fasttext: filename=fasttext-0.9.2-cp37-cp37m-linux_x86_64.whl size=3163121 sha256=64d75ce3235ef348901515985b475ebd4746f6c9caa5b500075ce8a3fe49be6a\n",
      "  Stored in directory: /root/.cache/pip/wheels/4e/ca/bf/b020d2be95f7641801a6597a29c8f4f19e38f9c02a345bab9b\n",
      "Successfully built fasttext\n",
      "Installing collected packages: pybind11, fasttext\n",
      "Successfully installed fasttext-0.9.2 pybind11-2.10.1\n"
     ]
    }
   ],
   "source": [
    "pip install fasttext"
   ]
  },
  {
   "cell_type": "code",
   "execution_count": 44,
   "metadata": {
    "id": "Yp-e3BGyT2Cm"
   },
   "outputs": [],
   "source": [
    "import fasttext"
   ]
  },
  {
   "cell_type": "code",
   "execution_count": null,
   "metadata": {
    "id": "jFPe6RGIUJcq"
   },
   "outputs": [],
   "source": [
    "!find hpac_source -type f -name '*' -exec cat {} + >> merged_text.txt"
   ]
  },
  {
   "cell_type": "code",
   "execution_count": 46,
   "metadata": {
    "id": "xrjGBgzHU2C0"
   },
   "outputs": [],
   "source": [
    "model = fasttext.train_unsupervised(input=\"merged_text.txt\")"
   ]
  },
  {
   "cell_type": "code",
   "execution_count": 71,
   "metadata": {
    "id": "bAb02LkuKUr9"
   },
   "outputs": [],
   "source": [
    "model.save_model('bkp/fasttext.bkp')"
   ]
  },
  {
   "cell_type": "code",
   "execution_count": 50,
   "metadata": {
    "colab": {
     "base_uri": "https://localhost:8080/"
    },
    "id": "1mezHfQKHwi8",
    "outputId": "b4ed984d-e9b6-45d5-ed7e-de76836efc94"
   },
   "outputs": [
    {
     "data": {
      "text/plain": [
       "['hermione', 'it', 'do', 'as', 'him', 'have', '!', 'but', 'up', 'from']"
      ]
     },
     "execution_count": 50,
     "metadata": {},
     "output_type": "execute_result"
    }
   ],
   "source": [
    "model.words[30:40]"
   ]
  },
  {
   "cell_type": "markdown",
   "metadata": {
    "id": "fl-GR910It1q"
   },
   "source": [
    "Let's output associations with the word magic"
   ]
  },
  {
   "cell_type": "code",
   "execution_count": 60,
   "metadata": {
    "colab": {
     "base_uri": "https://localhost:8080/"
    },
    "id": "VpDdlIgRfWyd",
    "outputId": "27246c35-3d9a-49b0-e421-99c25ee22434"
   },
   "outputs": [
    {
     "data": {
      "text/plain": [
       "[(0.9998729228973389, 'magazine'),\n",
       " (0.9998708963394165, 'will'),\n",
       " (0.9998699426651001, 'shoulder'),\n",
       " (0.9998698830604553, 'look'),\n",
       " (0.9998696446418762, 'move'),\n",
       " (0.999869167804718, 'going'),\n",
       " (0.9998680353164673, 'took'),\n",
       " (0.9998676776885986, 'daughter'),\n",
       " (0.9998670816421509, 'baby'),\n",
       " (0.9998666048049927, 'uncle')]"
      ]
     },
     "execution_count": 60,
     "metadata": {},
     "output_type": "execute_result"
    }
   ],
   "source": [
    "model.get_nearest_neighbors('magic')"
   ]
  },
  {
   "cell_type": "markdown",
   "metadata": {
    "id": "VnL_RPiJI3Se"
   },
   "source": [
    "Magice magazine is a nice assotiation but some of them look weird. Now let's look at words analogues"
   ]
  },
  {
   "cell_type": "code",
   "execution_count": 62,
   "metadata": {
    "colab": {
     "base_uri": "https://localhost:8080/"
    },
    "id": "c5NTJRY5ThBL",
    "outputId": "d7039439-4eb2-4bba-d98e-cd36b50ab603"
   },
   "outputs": [
    {
     "data": {
      "text/plain": [
       "[(0.9999653100967407, 'glass'),\n",
       " (0.9999624490737915, 'smiled'),\n",
       " (0.9999622106552124, 'shoulder'),\n",
       " (0.9999622106552124, 'weasley'),\n",
       " (0.9999620914459229, 'magazine'),\n",
       " (0.9999619722366333, 'called'),\n",
       " (0.9999613761901855, 'rose'),\n",
       " (0.9999613761901855, 'chess'),\n",
       " (0.999961256980896, 'wedding'),\n",
       " (0.9999607801437378, 'apparently')]"
      ]
     },
     "execution_count": 62,
     "metadata": {},
     "output_type": "execute_result"
    }
   ],
   "source": [
    "model.get_analogies('hermione', 'ron', 'potter')"
   ]
  },
  {
   "cell_type": "markdown",
   "metadata": {
    "id": "pq7Kz4TwInW2"
   },
   "source": [
    "Some of them are also weird but we notice it correctly detected Weasley"
   ]
  },
  {
   "cell_type": "code",
   "execution_count": 65,
   "metadata": {
    "id": "FCPQ4WmvJig-"
   },
   "outputs": [],
   "source": [
    "from sklearn.manifold import TSNE"
   ]
  },
  {
   "cell_type": "code",
   "execution_count": 67,
   "metadata": {
    "colab": {
     "base_uri": "https://localhost:8080/"
    },
    "id": "I0CR-tkiJrMp",
    "outputId": "d2859a78-eaa7-494b-c8fd-268da3fc1b21"
   },
   "outputs": [
    {
     "name": "stderr",
     "output_type": "stream",
     "text": [
      "/usr/local/lib/python3.7/dist-packages/sklearn/manifold/_t_sne.py:783: FutureWarning: The default initialization in TSNE will change from 'random' to 'pca' in 1.2.\n",
      "  FutureWarning,\n",
      "/usr/local/lib/python3.7/dist-packages/sklearn/manifold/_t_sne.py:793: FutureWarning: The default learning rate in TSNE will change from 200.0 to 'auto' in 1.2.\n",
      "  FutureWarning,\n"
     ]
    }
   ],
   "source": [
    "tsne = TSNE().fit(model.get_output_matrix())"
   ]
  },
  {
   "cell_type": "markdown",
   "metadata": {
    "id": "NsQ9UmysKDhx"
   },
   "source": [
    "Let's plot t-SNE in order to find some word groups"
   ]
  },
  {
   "cell_type": "code",
   "execution_count": 69,
   "metadata": {
    "colab": {
     "base_uri": "https://localhost:8080/",
     "height": 281
    },
    "id": "sXV4bOumJyS7",
    "outputId": "6e422431-b0ec-409e-9bcb-0dca0af98cf7"
   },
   "outputs": [
    {
     "data": {
      "image/png": "[encoded data removed]",
      "text/plain": [
       "<Figure size 432x288 with 1 Axes>"
      ]
     },
     "metadata": {
      "needs_background": "light"
     },
     "output_type": "display_data"
    }
   ],
   "source": [
    "import matplotlib.pyplot as plt\n",
    "\n",
    "plt.scatter(x=tsne.embedding_[:,0], y=tsne.embedding_[:,1])\n",
    "plt.title('t-SNE')\n",
    "plt.show()"
   ]
  },
  {
   "cell_type": "markdown",
   "metadata": {
    "id": "Vkc9_9WlKH5x"
   },
   "source": [
    "Looks doesn't good, probably something happend during training"
   ]
  }
 ],
 "metadata": {
  "accelerator": "GPU",
  "colab": {
   "provenance": []
  },
  "gpuClass": "standard",
  "kernelspec": {
   "display_name": "Python 3 (ipykernel)",
   "language": "python",
   "name": "python3"
  },
  "language_info": {
   "codemirror_mode": {
    "name": "ipython",
    "version": 3
   },
   "file_extension": ".py",
   "mimetype": "text/x-python",
   "name": "python",
   "nbconvert_exporter": "python",
   "pygments_lexer": "ipython3",
   "version": "3.9.12"
  },
  "widgets": {
   "application/vnd.jupyter.widget-state+json": {
    "0a3fc865e4654b4ebd55b8530fc74621": {
     "model_module": "@jupyter-widgets/controls",
     "model_module_version": "1.5.0",
     "model_name": "DescriptionStyleModel",
     "state": {
      "_model_module": "@jupyter-widgets/controls",
      "_model_module_version": "1.5.0",
      "_model_name": "DescriptionStyleModel",
      "_view_count": null,
      "_view_module": "@jupyter-widgets/base",
      "_view_module_version": "1.2.0",
      "_view_name": "StyleView",
      "description_width": ""
     }
    },
    "1da2c78ec3674a3aa41595055a03972a": {
     "model_module": "@jupyter-widgets/base",
     "model_module_version": "1.2.0",
     "model_name": "LayoutModel",
     "state": {
      "_model_module": "@jupyter-widgets/base",
      "_model_module_version": "1.2.0",
      "_model_name": "LayoutModel",
      "_view_count": null,
      "_view_module": "@jupyter-widgets/base",
      "_view_module_version": "1.2.0",
      "_view_name": "LayoutView",
      "align_content": null,
      "align_items": null,
      "align_self": null,
      "border": null,
      "bottom": null,
      "display": null,
      "flex": null,
      "flex_flow": null,
      "grid_area": null,
      "grid_auto_columns": null,
      "grid_auto_flow": null,
      "grid_auto_rows": null,
      "grid_column": null,
      "grid_gap": null,
      "grid_row": null,
      "grid_template_areas": null,
      "grid_template_columns": null,
      "grid_template_rows": null,
      "height": null,
      "justify_content": null,
      "justify_items": null,
      "left": null,
      "margin": null,
      "max_height": null,
      "max_width": null,
      "min_height": null,
      "min_width": null,
      "object_fit": null,
      "object_position": null,
      "order": null,
      "overflow": null,
      "overflow_x": null,
      "overflow_y": null,
      "padding": null,
      "right": null,
      "top": null,
      "visibility": null,
      "width": null
     }
    },
    "3e3649be655b4125993064e7a1bd3619": {
     "model_module": "@jupyter-widgets/controls",
     "model_module_version": "1.5.0",
     "model_name": "HBoxModel",
     "state": {
      "_dom_classes": [],
      "_model_module": "@jupyter-widgets/controls",
      "_model_module_version": "1.5.0",
      "_model_name": "HBoxModel",
      "_view_count": null,
      "_view_module": "@jupyter-widgets/controls",
      "_view_module_version": "1.5.0",
      "_view_name": "HBoxView",
      "box_style": "",
      "children": [
       "IPY_MODEL_e4875e59797a405b9ee4672b99c23cef",
       "IPY_MODEL_def6ca0f6e8044318f02c8ed337e4f27",
       "IPY_MODEL_a48c378ed5e948c9a80e8d33a62ebd1f"
      ],
      "layout": "IPY_MODEL_1da2c78ec3674a3aa41595055a03972a"
     }
    },
    "54dd16f8d447491a9ade8430354e3629": {
     "model_module": "@jupyter-widgets/controls",
     "model_module_version": "1.5.0",
     "model_name": "DescriptionStyleModel",
     "state": {
      "_model_module": "@jupyter-widgets/controls",
      "_model_module_version": "1.5.0",
      "_model_name": "DescriptionStyleModel",
      "_view_count": null,
      "_view_module": "@jupyter-widgets/base",
      "_view_module_version": "1.2.0",
      "_view_name": "StyleView",
      "description_width": ""
     }
    },
    "7ea2453e796248ccaeb7a11622d65aef": {
     "model_module": "@jupyter-widgets/base",
     "model_module_version": "1.2.0",
     "model_name": "LayoutModel",
     "state": {
      "_model_module": "@jupyter-widgets/base",
      "_model_module_version": "1.2.0",
      "_model_name": "LayoutModel",
      "_view_count": null,
      "_view_module": "@jupyter-widgets/base",
      "_view_module_version": "1.2.0",
      "_view_name": "LayoutView",
      "align_content": null,
      "align_items": null,
      "align_self": null,
      "border": null,
      "bottom": null,
      "display": null,
      "flex": null,
      "flex_flow": null,
      "grid_area": null,
      "grid_auto_columns": null,
      "grid_auto_flow": null,
      "grid_auto_rows": null,
      "grid_column": null,
      "grid_gap": null,
      "grid_row": null,
      "grid_template_areas": null,
      "grid_template_columns": null,
      "grid_template_rows": null,
      "height": null,
      "justify_content": null,
      "justify_items": null,
      "left": null,
      "margin": null,
      "max_height": null,
      "max_width": null,
      "min_height": null,
      "min_width": null,
      "object_fit": null,
      "object_position": null,
      "order": null,
      "overflow": null,
      "overflow_x": null,
      "overflow_y": null,
      "padding": null,
      "right": null,
      "top": null,
      "visibility": null,
      "width": null
     }
    },
    "a48c378ed5e948c9a80e8d33a62ebd1f": {
     "model_module": "@jupyter-widgets/controls",
     "model_module_version": "1.5.0",
     "model_name": "HTMLModel",
     "state": {
      "_dom_classes": [],
      "_model_module": "@jupyter-widgets/controls",
      "_model_module_version": "1.5.0",
      "_model_name": "HTMLModel",
      "_view_count": null,
      "_view_module": "@jupyter-widgets/controls",
      "_view_module_version": "1.5.0",
      "_view_name": "HTMLView",
      "description": "",
      "description_tooltip": null,
      "layout": "IPY_MODEL_7ea2453e796248ccaeb7a11622d65aef",
      "placeholder": "​",
      "style": "IPY_MODEL_54dd16f8d447491a9ade8430354e3629",
      "value": " 0/10 [00:00&lt;?, ?it/s]"
     }
    },
    "b187936a6f044a32a33d51c2a91cd08f": {
     "model_module": "@jupyter-widgets/controls",
     "model_module_version": "1.5.0",
     "model_name": "ProgressStyleModel",
     "state": {
      "_model_module": "@jupyter-widgets/controls",
      "_model_module_version": "1.5.0",
      "_model_name": "ProgressStyleModel",
      "_view_count": null,
      "_view_module": "@jupyter-widgets/base",
      "_view_module_version": "1.2.0",
      "_view_name": "StyleView",
      "bar_color": null,
      "description_width": ""
     }
    },
    "ca2239b4ee5d4d4da9059c32685bdc6c": {
     "model_module": "@jupyter-widgets/base",
     "model_module_version": "1.2.0",
     "model_name": "LayoutModel",
     "state": {
      "_model_module": "@jupyter-widgets/base",
      "_model_module_version": "1.2.0",
      "_model_name": "LayoutModel",
      "_view_count": null,
      "_view_module": "@jupyter-widgets/base",
      "_view_module_version": "1.2.0",
      "_view_name": "LayoutView",
      "align_content": null,
      "align_items": null,
      "align_self": null,
      "border": null,
      "bottom": null,
      "display": null,
      "flex": null,
      "flex_flow": null,
      "grid_area": null,
      "grid_auto_columns": null,
      "grid_auto_flow": null,
      "grid_auto_rows": null,
      "grid_column": null,
      "grid_gap": null,
      "grid_row": null,
      "grid_template_areas": null,
      "grid_template_columns": null,
      "grid_template_rows": null,
      "height": null,
      "justify_content": null,
      "justify_items": null,
      "left": null,
      "margin": null,
      "max_height": null,
      "max_width": null,
      "min_height": null,
      "min_width": null,
      "object_fit": null,
      "object_position": null,
      "order": null,
      "overflow": null,
      "overflow_x": null,
      "overflow_y": null,
      "padding": null,
      "right": null,
      "top": null,
      "visibility": null,
      "width": null
     }
    },
    "def6ca0f6e8044318f02c8ed337e4f27": {
     "model_module": "@jupyter-widgets/controls",
     "model_module_version": "1.5.0",
     "model_name": "FloatProgressModel",
     "state": {
      "_dom_classes": [],
      "_model_module": "@jupyter-widgets/controls",
      "_model_module_version": "1.5.0",
      "_model_name": "FloatProgressModel",
      "_view_count": null,
      "_view_module": "@jupyter-widgets/controls",
      "_view_module_version": "1.5.0",
      "_view_name": "ProgressView",
      "bar_style": "",
      "description": "",
      "description_tooltip": null,
      "layout": "IPY_MODEL_ca2239b4ee5d4d4da9059c32685bdc6c",
      "max": 10,
      "min": 0,
      "orientation": "horizontal",
      "style": "IPY_MODEL_b187936a6f044a32a33d51c2a91cd08f",
      "value": 0
     }
    },
    "e4875e59797a405b9ee4672b99c23cef": {
     "model_module": "@jupyter-widgets/controls",
     "model_module_version": "1.5.0",
     "model_name": "HTMLModel",
     "state": {
      "_dom_classes": [],
      "_model_module": "@jupyter-widgets/controls",
      "_model_module_version": "1.5.0",
      "_model_name": "HTMLModel",
      "_view_count": null,
      "_view_module": "@jupyter-widgets/controls",
      "_view_module_version": "1.5.0",
      "_view_name": "HTMLView",
      "description": "",
      "description_tooltip": null,
      "layout": "IPY_MODEL_e66094a8f5384f1082ba1a4b103d1fd7",
      "placeholder": "​",
      "style": "IPY_MODEL_0a3fc865e4654b4ebd55b8530fc74621",
      "value": "  0%"
     }
    },
    "e66094a8f5384f1082ba1a4b103d1fd7": {
     "model_module": "@jupyter-widgets/base",
     "model_module_version": "1.2.0",
     "model_name": "LayoutModel",
     "state": {
      "_model_module": "@jupyter-widgets/base",
      "_model_module_version": "1.2.0",
      "_model_name": "LayoutModel",
      "_view_count": null,
      "_view_module": "@jupyter-widgets/base",
      "_view_module_version": "1.2.0",
      "_view_name": "LayoutView",
      "align_content": null,
      "align_items": null,
      "align_self": null,
      "border": null,
      "bottom": null,
      "display": null,
      "flex": null,
      "flex_flow": null,
      "grid_area": null,
      "grid_auto_columns": null,
      "grid_auto_flow": null,
      "grid_auto_rows": null,
      "grid_column": null,
      "grid_gap": null,
      "grid_row": null,
      "grid_template_areas": null,
      "grid_template_columns": null,
      "grid_template_rows": null,
      "height": null,
      "justify_content": null,
      "justify_items": null,
      "left": null,
      "margin": null,
      "max_height": null,
      "max_width": null,
      "min_height": null,
      "min_width": null,
      "object_fit": null,
      "object_position": null,
      "order": null,
      "overflow": null,
      "overflow_x": null,
      "overflow_y": null,
      "padding": null,
      "right": null,
      "top": null,
      "visibility": null,
      "width": null
     }
    }
   }
  }
 },
 "nbformat": 4,
 "nbformat_minor": 4
}
